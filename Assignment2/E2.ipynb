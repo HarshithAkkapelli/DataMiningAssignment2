{
  "nbformat": 4,
  "nbformat_minor": 0,
  "metadata": {
    "colab": {
      "provenance": []
    },
    "kernelspec": {
      "name": "python3",
      "display_name": "Python 3"
    },
    "language_info": {
      "name": "python"
    },
    "widgets": {
      "application/vnd.jupyter.widget-state+json": {
        "a265e5394d1a44bbb80d0af8e08b8e77": {
          "model_module": "@jupyter-widgets/controls",
          "model_name": "HBoxModel",
          "model_module_version": "1.5.0",
          "state": {
            "_dom_classes": [],
            "_model_module": "@jupyter-widgets/controls",
            "_model_module_version": "1.5.0",
            "_model_name": "HBoxModel",
            "_view_count": null,
            "_view_module": "@jupyter-widgets/controls",
            "_view_module_version": "1.5.0",
            "_view_name": "HBoxView",
            "box_style": "",
            "children": [
              "IPY_MODEL_ead89bac778e4ee6bdff928429988740",
              "IPY_MODEL_7a90c0883756480d81b5adc3ad94999c",
              "IPY_MODEL_bb27f8da610042f5952105afab234a93"
            ],
            "layout": "IPY_MODEL_6a49a5665436463d87fd47d561e81286"
          }
        },
        "ead89bac778e4ee6bdff928429988740": {
          "model_module": "@jupyter-widgets/controls",
          "model_name": "HTMLModel",
          "model_module_version": "1.5.0",
          "state": {
            "_dom_classes": [],
            "_model_module": "@jupyter-widgets/controls",
            "_model_module_version": "1.5.0",
            "_model_name": "HTMLModel",
            "_view_count": null,
            "_view_module": "@jupyter-widgets/controls",
            "_view_module_version": "1.5.0",
            "_view_name": "HTMLView",
            "description": "",
            "description_tooltip": null,
            "layout": "IPY_MODEL_4350ddfe045c478b92920d7656215da0",
            "placeholder": "​",
            "style": "IPY_MODEL_c8a08b50cb6343888be2e695612d4eb0",
            "value": "Processing: 100%"
          }
        },
        "7a90c0883756480d81b5adc3ad94999c": {
          "model_module": "@jupyter-widgets/controls",
          "model_name": "FloatProgressModel",
          "model_module_version": "1.5.0",
          "state": {
            "_dom_classes": [],
            "_model_module": "@jupyter-widgets/controls",
            "_model_module_version": "1.5.0",
            "_model_name": "FloatProgressModel",
            "_view_count": null,
            "_view_module": "@jupyter-widgets/controls",
            "_view_module_version": "1.5.0",
            "_view_name": "ProgressView",
            "bar_style": "",
            "description": "",
            "description_tooltip": null,
            "layout": "IPY_MODEL_7e15de62bbd446739b2954f1e05f701c",
            "max": 4,
            "min": 0,
            "orientation": "horizontal",
            "style": "IPY_MODEL_610a2cac1e544892b326f1b9088365aa",
            "value": 4
          }
        },
        "bb27f8da610042f5952105afab234a93": {
          "model_module": "@jupyter-widgets/controls",
          "model_name": "HTMLModel",
          "model_module_version": "1.5.0",
          "state": {
            "_dom_classes": [],
            "_model_module": "@jupyter-widgets/controls",
            "_model_module_version": "1.5.0",
            "_model_name": "HTMLModel",
            "_view_count": null,
            "_view_module": "@jupyter-widgets/controls",
            "_view_module_version": "1.5.0",
            "_view_name": "HTMLView",
            "description": "",
            "description_tooltip": null,
            "layout": "IPY_MODEL_8171eedc9e684a00beb733b196e85688",
            "placeholder": "​",
            "style": "IPY_MODEL_798a8722613940d78164fdedbca54c8e",
            "value": " 4/4 [00:01&lt;00:00,  2.31it/s]"
          }
        },
        "6a49a5665436463d87fd47d561e81286": {
          "model_module": "@jupyter-widgets/base",
          "model_name": "LayoutModel",
          "model_module_version": "1.2.0",
          "state": {
            "_model_module": "@jupyter-widgets/base",
            "_model_module_version": "1.2.0",
            "_model_name": "LayoutModel",
            "_view_count": null,
            "_view_module": "@jupyter-widgets/base",
            "_view_module_version": "1.2.0",
            "_view_name": "LayoutView",
            "align_content": null,
            "align_items": null,
            "align_self": null,
            "border": null,
            "bottom": null,
            "display": null,
            "flex": null,
            "flex_flow": null,
            "grid_area": null,
            "grid_auto_columns": null,
            "grid_auto_flow": null,
            "grid_auto_rows": null,
            "grid_column": null,
            "grid_gap": null,
            "grid_row": null,
            "grid_template_areas": null,
            "grid_template_columns": null,
            "grid_template_rows": null,
            "height": null,
            "justify_content": null,
            "justify_items": null,
            "left": null,
            "margin": null,
            "max_height": null,
            "max_width": null,
            "min_height": null,
            "min_width": null,
            "object_fit": null,
            "object_position": null,
            "order": null,
            "overflow": null,
            "overflow_x": null,
            "overflow_y": null,
            "padding": null,
            "right": null,
            "top": null,
            "visibility": "hidden",
            "width": null
          }
        },
        "4350ddfe045c478b92920d7656215da0": {
          "model_module": "@jupyter-widgets/base",
          "model_name": "LayoutModel",
          "model_module_version": "1.2.0",
          "state": {
            "_model_module": "@jupyter-widgets/base",
            "_model_module_version": "1.2.0",
            "_model_name": "LayoutModel",
            "_view_count": null,
            "_view_module": "@jupyter-widgets/base",
            "_view_module_version": "1.2.0",
            "_view_name": "LayoutView",
            "align_content": null,
            "align_items": null,
            "align_self": null,
            "border": null,
            "bottom": null,
            "display": null,
            "flex": null,
            "flex_flow": null,
            "grid_area": null,
            "grid_auto_columns": null,
            "grid_auto_flow": null,
            "grid_auto_rows": null,
            "grid_column": null,
            "grid_gap": null,
            "grid_row": null,
            "grid_template_areas": null,
            "grid_template_columns": null,
            "grid_template_rows": null,
            "height": null,
            "justify_content": null,
            "justify_items": null,
            "left": null,
            "margin": null,
            "max_height": null,
            "max_width": null,
            "min_height": null,
            "min_width": null,
            "object_fit": null,
            "object_position": null,
            "order": null,
            "overflow": null,
            "overflow_x": null,
            "overflow_y": null,
            "padding": null,
            "right": null,
            "top": null,
            "visibility": null,
            "width": null
          }
        },
        "c8a08b50cb6343888be2e695612d4eb0": {
          "model_module": "@jupyter-widgets/controls",
          "model_name": "DescriptionStyleModel",
          "model_module_version": "1.5.0",
          "state": {
            "_model_module": "@jupyter-widgets/controls",
            "_model_module_version": "1.5.0",
            "_model_name": "DescriptionStyleModel",
            "_view_count": null,
            "_view_module": "@jupyter-widgets/base",
            "_view_module_version": "1.2.0",
            "_view_name": "StyleView",
            "description_width": ""
          }
        },
        "7e15de62bbd446739b2954f1e05f701c": {
          "model_module": "@jupyter-widgets/base",
          "model_name": "LayoutModel",
          "model_module_version": "1.2.0",
          "state": {
            "_model_module": "@jupyter-widgets/base",
            "_model_module_version": "1.2.0",
            "_model_name": "LayoutModel",
            "_view_count": null,
            "_view_module": "@jupyter-widgets/base",
            "_view_module_version": "1.2.0",
            "_view_name": "LayoutView",
            "align_content": null,
            "align_items": null,
            "align_self": null,
            "border": null,
            "bottom": null,
            "display": null,
            "flex": null,
            "flex_flow": null,
            "grid_area": null,
            "grid_auto_columns": null,
            "grid_auto_flow": null,
            "grid_auto_rows": null,
            "grid_column": null,
            "grid_gap": null,
            "grid_row": null,
            "grid_template_areas": null,
            "grid_template_columns": null,
            "grid_template_rows": null,
            "height": null,
            "justify_content": null,
            "justify_items": null,
            "left": null,
            "margin": null,
            "max_height": null,
            "max_width": null,
            "min_height": null,
            "min_width": null,
            "object_fit": null,
            "object_position": null,
            "order": null,
            "overflow": null,
            "overflow_x": null,
            "overflow_y": null,
            "padding": null,
            "right": null,
            "top": null,
            "visibility": null,
            "width": null
          }
        },
        "610a2cac1e544892b326f1b9088365aa": {
          "model_module": "@jupyter-widgets/controls",
          "model_name": "ProgressStyleModel",
          "model_module_version": "1.5.0",
          "state": {
            "_model_module": "@jupyter-widgets/controls",
            "_model_module_version": "1.5.0",
            "_model_name": "ProgressStyleModel",
            "_view_count": null,
            "_view_module": "@jupyter-widgets/base",
            "_view_module_version": "1.2.0",
            "_view_name": "StyleView",
            "bar_color": null,
            "description_width": ""
          }
        },
        "8171eedc9e684a00beb733b196e85688": {
          "model_module": "@jupyter-widgets/base",
          "model_name": "LayoutModel",
          "model_module_version": "1.2.0",
          "state": {
            "_model_module": "@jupyter-widgets/base",
            "_model_module_version": "1.2.0",
            "_model_name": "LayoutModel",
            "_view_count": null,
            "_view_module": "@jupyter-widgets/base",
            "_view_module_version": "1.2.0",
            "_view_name": "LayoutView",
            "align_content": null,
            "align_items": null,
            "align_self": null,
            "border": null,
            "bottom": null,
            "display": null,
            "flex": null,
            "flex_flow": null,
            "grid_area": null,
            "grid_auto_columns": null,
            "grid_auto_flow": null,
            "grid_auto_rows": null,
            "grid_column": null,
            "grid_gap": null,
            "grid_row": null,
            "grid_template_areas": null,
            "grid_template_columns": null,
            "grid_template_rows": null,
            "height": null,
            "justify_content": null,
            "justify_items": null,
            "left": null,
            "margin": null,
            "max_height": null,
            "max_width": null,
            "min_height": null,
            "min_width": null,
            "object_fit": null,
            "object_position": null,
            "order": null,
            "overflow": null,
            "overflow_x": null,
            "overflow_y": null,
            "padding": null,
            "right": null,
            "top": null,
            "visibility": null,
            "width": null
          }
        },
        "798a8722613940d78164fdedbca54c8e": {
          "model_module": "@jupyter-widgets/controls",
          "model_name": "DescriptionStyleModel",
          "model_module_version": "1.5.0",
          "state": {
            "_model_module": "@jupyter-widgets/controls",
            "_model_module_version": "1.5.0",
            "_model_name": "DescriptionStyleModel",
            "_view_count": null,
            "_view_module": "@jupyter-widgets/base",
            "_view_module_version": "1.2.0",
            "_view_name": "StyleView",
            "description_width": ""
          }
        }
      }
    }
  },
  "cells": [
    {
      "cell_type": "markdown",
      "source": [
        "Name: Harshith Akkapelli\n",
        "\n",
        "Task-5B: Univariate with Exogenous Variables\n",
        "\n",
        "Dataset Link: [Air Pollution Forecasting - LSTM Multivariate](https://www.kaggle.com/datasets/rupakroy/lstm-datasets-multivariate-univariate)"
      ],
      "metadata": {
        "id": "sM5iGSP_fFd4"
      }
    },
    {
      "cell_type": "code",
      "source": [
        "!pip install pycaret"
      ],
      "metadata": {
        "colab": {
          "base_uri": "https://localhost:8080/"
        },
        "id": "j44rRcOefKEA",
        "outputId": "15c43dd7-4b05-47f2-86aa-72aaf37db684"
      },
      "execution_count": null,
      "outputs": [
        {
          "output_type": "stream",
          "name": "stdout",
          "text": [
            "Requirement already satisfied: pycaret in /usr/local/lib/python3.10/dist-packages (3.0.0)\n",
            "Requirement already satisfied: ipython>=5.5.0 in /usr/local/lib/python3.10/dist-packages (from pycaret) (7.34.0)\n",
            "Requirement already satisfied: ipywidgets>=7.6.5 in /usr/local/lib/python3.10/dist-packages (from pycaret) (7.7.1)\n",
            "Requirement already satisfied: tqdm>=4.62.0 in /usr/local/lib/python3.10/dist-packages (from pycaret) (4.66.1)\n",
            "Requirement already satisfied: numpy<1.25,>=1.21 in /usr/local/lib/python3.10/dist-packages (from pycaret) (1.23.5)\n",
            "Requirement already satisfied: pandas<1.6.0,>=1.3.0 in /usr/local/lib/python3.10/dist-packages (from pycaret) (1.5.3)\n",
            "Requirement already satisfied: jinja2>=1.2 in /usr/local/lib/python3.10/dist-packages (from pycaret) (3.1.2)\n",
            "Requirement already satisfied: scipy<2.0.0 in /usr/local/lib/python3.10/dist-packages (from pycaret) (1.10.1)\n",
            "Requirement already satisfied: joblib>=1.2.0 in /usr/local/lib/python3.10/dist-packages (from pycaret) (1.3.2)\n",
            "Requirement already satisfied: scikit-learn>=1.0 in /usr/local/lib/python3.10/dist-packages (from pycaret) (1.2.2)\n",
            "Requirement already satisfied: pyod>=1.0.8 in /usr/local/lib/python3.10/dist-packages (from pycaret) (1.1.0)\n",
            "Requirement already satisfied: imbalanced-learn>=0.8.1 in /usr/local/lib/python3.10/dist-packages (from pycaret) (0.10.1)\n",
            "Requirement already satisfied: category-encoders>=2.4.0 in /usr/local/lib/python3.10/dist-packages (from pycaret) (2.6.2)\n",
            "Requirement already satisfied: lightgbm>=3.0.0 in /usr/local/lib/python3.10/dist-packages (from pycaret) (4.0.0)\n",
            "Requirement already satisfied: numba>=0.55.0 in /usr/local/lib/python3.10/dist-packages (from pycaret) (0.56.4)\n",
            "Requirement already satisfied: requests>=2.27.1 in /usr/local/lib/python3.10/dist-packages (from pycaret) (2.31.0)\n",
            "Requirement already satisfied: psutil>=5.9.0 in /usr/local/lib/python3.10/dist-packages (from pycaret) (5.9.5)\n",
            "Requirement already satisfied: markupsafe>=2.0.1 in /usr/local/lib/python3.10/dist-packages (from pycaret) (2.1.3)\n",
            "Requirement already satisfied: importlib-metadata>=4.12.0 in /usr/local/lib/python3.10/dist-packages (from pycaret) (6.8.0)\n",
            "Requirement already satisfied: nbformat>=4.2.0 in /usr/local/lib/python3.10/dist-packages (from pycaret) (5.9.2)\n",
            "Requirement already satisfied: cloudpickle in /usr/local/lib/python3.10/dist-packages (from pycaret) (2.2.1)\n",
            "Requirement already satisfied: deprecation>=2.1.0 in /usr/local/lib/python3.10/dist-packages (from pycaret) (2.1.0)\n",
            "Requirement already satisfied: xxhash in /usr/local/lib/python3.10/dist-packages (from pycaret) (3.3.0)\n",
            "Requirement already satisfied: matplotlib>=3.3.0 in /usr/local/lib/python3.10/dist-packages (from pycaret) (3.7.1)\n",
            "Requirement already satisfied: scikit-plot>=0.3.7 in /usr/local/lib/python3.10/dist-packages (from pycaret) (0.3.7)\n",
            "Requirement already satisfied: yellowbrick>=1.4 in /usr/local/lib/python3.10/dist-packages (from pycaret) (1.5)\n",
            "Requirement already satisfied: plotly>=5.0.0 in /usr/local/lib/python3.10/dist-packages (from pycaret) (5.15.0)\n",
            "Requirement already satisfied: kaleido>=0.2.1 in /usr/local/lib/python3.10/dist-packages (from pycaret) (0.2.1)\n",
            "Requirement already satisfied: schemdraw>=0.14 in /usr/local/lib/python3.10/dist-packages (from pycaret) (0.17)\n",
            "Requirement already satisfied: plotly-resampler>=0.8.3.1 in /usr/local/lib/python3.10/dist-packages (from pycaret) (0.9.1)\n",
            "Requirement already satisfied: statsmodels>=0.12.1 in /usr/local/lib/python3.10/dist-packages (from pycaret) (0.14.0)\n",
            "Requirement already satisfied: sktime>=0.16.1 in /usr/local/lib/python3.10/dist-packages (from pycaret) (0.22.0)\n",
            "Requirement already satisfied: tbats>=1.1.0 in /usr/local/lib/python3.10/dist-packages (from pycaret) (1.1.3)\n",
            "Requirement already satisfied: pmdarima!=1.8.1,<3.0.0,>=1.8.0 in /usr/local/lib/python3.10/dist-packages (from pycaret) (2.0.3)\n",
            "Requirement already satisfied: wurlitzer in /usr/local/lib/python3.10/dist-packages (from pycaret) (3.0.3)\n",
            "Requirement already satisfied: patsy>=0.5.1 in /usr/local/lib/python3.10/dist-packages (from category-encoders>=2.4.0->pycaret) (0.5.3)\n",
            "Requirement already satisfied: packaging in /usr/local/lib/python3.10/dist-packages (from deprecation>=2.1.0->pycaret) (23.1)\n",
            "Requirement already satisfied: threadpoolctl>=2.0.0 in /usr/local/lib/python3.10/dist-packages (from imbalanced-learn>=0.8.1->pycaret) (3.2.0)\n",
            "Requirement already satisfied: zipp>=0.5 in /usr/local/lib/python3.10/dist-packages (from importlib-metadata>=4.12.0->pycaret) (3.16.2)\n",
            "Requirement already satisfied: setuptools>=18.5 in /usr/local/lib/python3.10/dist-packages (from ipython>=5.5.0->pycaret) (67.7.2)\n",
            "Requirement already satisfied: jedi>=0.16 in /usr/local/lib/python3.10/dist-packages (from ipython>=5.5.0->pycaret) (0.19.0)\n",
            "Requirement already satisfied: decorator in /usr/local/lib/python3.10/dist-packages (from ipython>=5.5.0->pycaret) (4.4.2)\n",
            "Requirement already satisfied: pickleshare in /usr/local/lib/python3.10/dist-packages (from ipython>=5.5.0->pycaret) (0.7.5)\n",
            "Requirement already satisfied: traitlets>=4.2 in /usr/local/lib/python3.10/dist-packages (from ipython>=5.5.0->pycaret) (5.7.1)\n",
            "Requirement already satisfied: prompt-toolkit!=3.0.0,!=3.0.1,<3.1.0,>=2.0.0 in /usr/local/lib/python3.10/dist-packages (from ipython>=5.5.0->pycaret) (3.0.39)\n",
            "Requirement already satisfied: pygments in /usr/local/lib/python3.10/dist-packages (from ipython>=5.5.0->pycaret) (2.16.1)\n",
            "Requirement already satisfied: backcall in /usr/local/lib/python3.10/dist-packages (from ipython>=5.5.0->pycaret) (0.2.0)\n",
            "Requirement already satisfied: matplotlib-inline in /usr/local/lib/python3.10/dist-packages (from ipython>=5.5.0->pycaret) (0.1.6)\n",
            "Requirement already satisfied: pexpect>4.3 in /usr/local/lib/python3.10/dist-packages (from ipython>=5.5.0->pycaret) (4.8.0)\n",
            "Requirement already satisfied: ipykernel>=4.5.1 in /usr/local/lib/python3.10/dist-packages (from ipywidgets>=7.6.5->pycaret) (5.5.6)\n",
            "Requirement already satisfied: ipython-genutils~=0.2.0 in /usr/local/lib/python3.10/dist-packages (from ipywidgets>=7.6.5->pycaret) (0.2.0)\n",
            "Requirement already satisfied: widgetsnbextension~=3.6.0 in /usr/local/lib/python3.10/dist-packages (from ipywidgets>=7.6.5->pycaret) (3.6.5)\n",
            "Requirement already satisfied: jupyterlab-widgets>=1.0.0 in /usr/local/lib/python3.10/dist-packages (from ipywidgets>=7.6.5->pycaret) (3.0.8)\n",
            "Requirement already satisfied: contourpy>=1.0.1 in /usr/local/lib/python3.10/dist-packages (from matplotlib>=3.3.0->pycaret) (1.1.0)\n",
            "Requirement already satisfied: cycler>=0.10 in /usr/local/lib/python3.10/dist-packages (from matplotlib>=3.3.0->pycaret) (0.11.0)\n",
            "Requirement already satisfied: fonttools>=4.22.0 in /usr/local/lib/python3.10/dist-packages (from matplotlib>=3.3.0->pycaret) (4.42.1)\n",
            "Requirement already satisfied: kiwisolver>=1.0.1 in /usr/local/lib/python3.10/dist-packages (from matplotlib>=3.3.0->pycaret) (1.4.5)\n",
            "Requirement already satisfied: pillow>=6.2.0 in /usr/local/lib/python3.10/dist-packages (from matplotlib>=3.3.0->pycaret) (9.4.0)\n",
            "Requirement already satisfied: pyparsing>=2.3.1 in /usr/local/lib/python3.10/dist-packages (from matplotlib>=3.3.0->pycaret) (3.1.1)\n",
            "Requirement already satisfied: python-dateutil>=2.7 in /usr/local/lib/python3.10/dist-packages (from matplotlib>=3.3.0->pycaret) (2.8.2)\n",
            "Requirement already satisfied: fastjsonschema in /usr/local/lib/python3.10/dist-packages (from nbformat>=4.2.0->pycaret) (2.18.0)\n",
            "Requirement already satisfied: jsonschema>=2.6 in /usr/local/lib/python3.10/dist-packages (from nbformat>=4.2.0->pycaret) (4.19.0)\n",
            "Requirement already satisfied: jupyter-core in /usr/local/lib/python3.10/dist-packages (from nbformat>=4.2.0->pycaret) (5.3.1)\n",
            "Requirement already satisfied: llvmlite<0.40,>=0.39.0dev0 in /usr/local/lib/python3.10/dist-packages (from numba>=0.55.0->pycaret) (0.39.1)\n",
            "Requirement already satisfied: pytz>=2020.1 in /usr/local/lib/python3.10/dist-packages (from pandas<1.6.0,>=1.3.0->pycaret) (2023.3.post1)\n",
            "Requirement already satisfied: tenacity>=6.2.0 in /usr/local/lib/python3.10/dist-packages (from plotly>=5.0.0->pycaret) (8.2.3)\n",
            "Requirement already satisfied: dash<3.0.0,>=2.11.0 in /usr/local/lib/python3.10/dist-packages (from plotly-resampler>=0.8.3.1->pycaret) (2.13.0)\n",
            "Requirement already satisfied: orjson<4.0.0,>=3.8.0 in /usr/local/lib/python3.10/dist-packages (from plotly-resampler>=0.8.3.1->pycaret) (3.9.7)\n",
            "Requirement already satisfied: trace-updater>=0.0.8 in /usr/local/lib/python3.10/dist-packages (from plotly-resampler>=0.8.3.1->pycaret) (0.0.9.1)\n",
            "Requirement already satisfied: tsdownsample==0.1.2 in /usr/local/lib/python3.10/dist-packages (from plotly-resampler>=0.8.3.1->pycaret) (0.1.2)\n",
            "Requirement already satisfied: Cython!=0.29.18,!=0.29.31,>=0.29 in /usr/local/lib/python3.10/dist-packages (from pmdarima!=1.8.1,<3.0.0,>=1.8.0->pycaret) (0.29.36)\n",
            "Requirement already satisfied: urllib3 in /usr/local/lib/python3.10/dist-packages (from pmdarima!=1.8.1,<3.0.0,>=1.8.0->pycaret) (2.0.4)\n",
            "Requirement already satisfied: six in /usr/local/lib/python3.10/dist-packages (from pyod>=1.0.8->pycaret) (1.16.0)\n",
            "Requirement already satisfied: charset-normalizer<4,>=2 in /usr/local/lib/python3.10/dist-packages (from requests>=2.27.1->pycaret) (3.2.0)\n",
            "Requirement already satisfied: idna<4,>=2.5 in /usr/local/lib/python3.10/dist-packages (from requests>=2.27.1->pycaret) (3.4)\n",
            "Requirement already satisfied: certifi>=2017.4.17 in /usr/local/lib/python3.10/dist-packages (from requests>=2.27.1->pycaret) (2023.7.22)\n",
            "Requirement already satisfied: scikit-base<0.6.0 in /usr/local/lib/python3.10/dist-packages (from sktime>=0.16.1->pycaret) (0.5.1)\n",
            "Requirement already satisfied: Flask<2.3.0,>=1.0.4 in /usr/local/lib/python3.10/dist-packages (from dash<3.0.0,>=2.11.0->plotly-resampler>=0.8.3.1->pycaret) (2.2.5)\n",
            "Requirement already satisfied: Werkzeug<2.3.0 in /usr/local/lib/python3.10/dist-packages (from dash<3.0.0,>=2.11.0->plotly-resampler>=0.8.3.1->pycaret) (2.2.3)\n",
            "Requirement already satisfied: dash-html-components==2.0.0 in /usr/local/lib/python3.10/dist-packages (from dash<3.0.0,>=2.11.0->plotly-resampler>=0.8.3.1->pycaret) (2.0.0)\n",
            "Requirement already satisfied: dash-core-components==2.0.0 in /usr/local/lib/python3.10/dist-packages (from dash<3.0.0,>=2.11.0->plotly-resampler>=0.8.3.1->pycaret) (2.0.0)\n",
            "Requirement already satisfied: dash-table==5.0.0 in /usr/local/lib/python3.10/dist-packages (from dash<3.0.0,>=2.11.0->plotly-resampler>=0.8.3.1->pycaret) (5.0.0)\n",
            "Requirement already satisfied: typing-extensions>=4.1.1 in /usr/local/lib/python3.10/dist-packages (from dash<3.0.0,>=2.11.0->plotly-resampler>=0.8.3.1->pycaret) (4.5.0)\n",
            "Requirement already satisfied: retrying in /usr/local/lib/python3.10/dist-packages (from dash<3.0.0,>=2.11.0->plotly-resampler>=0.8.3.1->pycaret) (1.3.4)\n",
            "Requirement already satisfied: ansi2html in /usr/local/lib/python3.10/dist-packages (from dash<3.0.0,>=2.11.0->plotly-resampler>=0.8.3.1->pycaret) (1.8.0)\n",
            "Requirement already satisfied: nest-asyncio in /usr/local/lib/python3.10/dist-packages (from dash<3.0.0,>=2.11.0->plotly-resampler>=0.8.3.1->pycaret) (1.5.7)\n",
            "Requirement already satisfied: jupyter-client in /usr/local/lib/python3.10/dist-packages (from ipykernel>=4.5.1->ipywidgets>=7.6.5->pycaret) (6.1.12)\n",
            "Requirement already satisfied: tornado>=4.2 in /usr/local/lib/python3.10/dist-packages (from ipykernel>=4.5.1->ipywidgets>=7.6.5->pycaret) (6.3.2)\n",
            "Requirement already satisfied: parso<0.9.0,>=0.8.3 in /usr/local/lib/python3.10/dist-packages (from jedi>=0.16->ipython>=5.5.0->pycaret) (0.8.3)\n",
            "Requirement already satisfied: attrs>=22.2.0 in /usr/local/lib/python3.10/dist-packages (from jsonschema>=2.6->nbformat>=4.2.0->pycaret) (23.1.0)\n",
            "Requirement already satisfied: jsonschema-specifications>=2023.03.6 in /usr/local/lib/python3.10/dist-packages (from jsonschema>=2.6->nbformat>=4.2.0->pycaret) (2023.7.1)\n",
            "Requirement already satisfied: referencing>=0.28.4 in /usr/local/lib/python3.10/dist-packages (from jsonschema>=2.6->nbformat>=4.2.0->pycaret) (0.30.2)\n",
            "Requirement already satisfied: rpds-py>=0.7.1 in /usr/local/lib/python3.10/dist-packages (from jsonschema>=2.6->nbformat>=4.2.0->pycaret) (0.10.2)\n",
            "Requirement already satisfied: ptyprocess>=0.5 in /usr/local/lib/python3.10/dist-packages (from pexpect>4.3->ipython>=5.5.0->pycaret) (0.7.0)\n",
            "Requirement already satisfied: wcwidth in /usr/local/lib/python3.10/dist-packages (from prompt-toolkit!=3.0.0,!=3.0.1,<3.1.0,>=2.0.0->ipython>=5.5.0->pycaret) (0.2.6)\n",
            "Requirement already satisfied: notebook>=4.4.1 in /usr/local/lib/python3.10/dist-packages (from widgetsnbextension~=3.6.0->ipywidgets>=7.6.5->pycaret) (6.5.5)\n",
            "Requirement already satisfied: platformdirs>=2.5 in /usr/local/lib/python3.10/dist-packages (from jupyter-core->nbformat>=4.2.0->pycaret) (3.10.0)\n",
            "Requirement already satisfied: itsdangerous>=2.0 in /usr/local/lib/python3.10/dist-packages (from Flask<2.3.0,>=1.0.4->dash<3.0.0,>=2.11.0->plotly-resampler>=0.8.3.1->pycaret) (2.1.2)\n",
            "Requirement already satisfied: click>=8.0 in /usr/local/lib/python3.10/dist-packages (from Flask<2.3.0,>=1.0.4->dash<3.0.0,>=2.11.0->plotly-resampler>=0.8.3.1->pycaret) (8.1.7)\n",
            "Requirement already satisfied: pyzmq<25,>=17 in /usr/local/lib/python3.10/dist-packages (from notebook>=4.4.1->widgetsnbextension~=3.6.0->ipywidgets>=7.6.5->pycaret) (23.2.1)\n",
            "Requirement already satisfied: argon2-cffi in /usr/local/lib/python3.10/dist-packages (from notebook>=4.4.1->widgetsnbextension~=3.6.0->ipywidgets>=7.6.5->pycaret) (23.1.0)\n",
            "Requirement already satisfied: nbconvert>=5 in /usr/local/lib/python3.10/dist-packages (from notebook>=4.4.1->widgetsnbextension~=3.6.0->ipywidgets>=7.6.5->pycaret) (6.5.4)\n",
            "Requirement already satisfied: Send2Trash>=1.8.0 in /usr/local/lib/python3.10/dist-packages (from notebook>=4.4.1->widgetsnbextension~=3.6.0->ipywidgets>=7.6.5->pycaret) (1.8.2)\n",
            "Requirement already satisfied: terminado>=0.8.3 in /usr/local/lib/python3.10/dist-packages (from notebook>=4.4.1->widgetsnbextension~=3.6.0->ipywidgets>=7.6.5->pycaret) (0.17.1)\n",
            "Requirement already satisfied: prometheus-client in /usr/local/lib/python3.10/dist-packages (from notebook>=4.4.1->widgetsnbextension~=3.6.0->ipywidgets>=7.6.5->pycaret) (0.17.1)\n",
            "Requirement already satisfied: nbclassic>=0.4.7 in /usr/local/lib/python3.10/dist-packages (from notebook>=4.4.1->widgetsnbextension~=3.6.0->ipywidgets>=7.6.5->pycaret) (1.0.0)\n",
            "Requirement already satisfied: jupyter-server>=1.8 in /usr/local/lib/python3.10/dist-packages (from nbclassic>=0.4.7->notebook>=4.4.1->widgetsnbextension~=3.6.0->ipywidgets>=7.6.5->pycaret) (1.24.0)\n",
            "Requirement already satisfied: notebook-shim>=0.2.3 in /usr/local/lib/python3.10/dist-packages (from nbclassic>=0.4.7->notebook>=4.4.1->widgetsnbextension~=3.6.0->ipywidgets>=7.6.5->pycaret) (0.2.3)\n",
            "Requirement already satisfied: lxml in /usr/local/lib/python3.10/dist-packages (from nbconvert>=5->notebook>=4.4.1->widgetsnbextension~=3.6.0->ipywidgets>=7.6.5->pycaret) (4.9.3)\n",
            "Requirement already satisfied: beautifulsoup4 in /usr/local/lib/python3.10/dist-packages (from nbconvert>=5->notebook>=4.4.1->widgetsnbextension~=3.6.0->ipywidgets>=7.6.5->pycaret) (4.11.2)\n",
            "Requirement already satisfied: bleach in /usr/local/lib/python3.10/dist-packages (from nbconvert>=5->notebook>=4.4.1->widgetsnbextension~=3.6.0->ipywidgets>=7.6.5->pycaret) (6.0.0)\n",
            "Requirement already satisfied: defusedxml in /usr/local/lib/python3.10/dist-packages (from nbconvert>=5->notebook>=4.4.1->widgetsnbextension~=3.6.0->ipywidgets>=7.6.5->pycaret) (0.7.1)\n",
            "Requirement already satisfied: entrypoints>=0.2.2 in /usr/local/lib/python3.10/dist-packages (from nbconvert>=5->notebook>=4.4.1->widgetsnbextension~=3.6.0->ipywidgets>=7.6.5->pycaret) (0.4)\n",
            "Requirement already satisfied: jupyterlab-pygments in /usr/local/lib/python3.10/dist-packages (from nbconvert>=5->notebook>=4.4.1->widgetsnbextension~=3.6.0->ipywidgets>=7.6.5->pycaret) (0.2.2)\n",
            "Requirement already satisfied: mistune<2,>=0.8.1 in /usr/local/lib/python3.10/dist-packages (from nbconvert>=5->notebook>=4.4.1->widgetsnbextension~=3.6.0->ipywidgets>=7.6.5->pycaret) (0.8.4)\n",
            "Requirement already satisfied: nbclient>=0.5.0 in /usr/local/lib/python3.10/dist-packages (from nbconvert>=5->notebook>=4.4.1->widgetsnbextension~=3.6.0->ipywidgets>=7.6.5->pycaret) (0.8.0)\n",
            "Requirement already satisfied: pandocfilters>=1.4.1 in /usr/local/lib/python3.10/dist-packages (from nbconvert>=5->notebook>=4.4.1->widgetsnbextension~=3.6.0->ipywidgets>=7.6.5->pycaret) (1.5.0)\n",
            "Requirement already satisfied: tinycss2 in /usr/local/lib/python3.10/dist-packages (from nbconvert>=5->notebook>=4.4.1->widgetsnbextension~=3.6.0->ipywidgets>=7.6.5->pycaret) (1.2.1)\n",
            "Requirement already satisfied: argon2-cffi-bindings in /usr/local/lib/python3.10/dist-packages (from argon2-cffi->notebook>=4.4.1->widgetsnbextension~=3.6.0->ipywidgets>=7.6.5->pycaret) (21.2.0)\n",
            "Requirement already satisfied: anyio<4,>=3.1.0 in /usr/local/lib/python3.10/dist-packages (from jupyter-server>=1.8->nbclassic>=0.4.7->notebook>=4.4.1->widgetsnbextension~=3.6.0->ipywidgets>=7.6.5->pycaret) (3.7.1)\n",
            "Requirement already satisfied: websocket-client in /usr/local/lib/python3.10/dist-packages (from jupyter-server>=1.8->nbclassic>=0.4.7->notebook>=4.4.1->widgetsnbextension~=3.6.0->ipywidgets>=7.6.5->pycaret) (1.6.2)\n",
            "Requirement already satisfied: cffi>=1.0.1 in /usr/local/lib/python3.10/dist-packages (from argon2-cffi-bindings->argon2-cffi->notebook>=4.4.1->widgetsnbextension~=3.6.0->ipywidgets>=7.6.5->pycaret) (1.15.1)\n",
            "Requirement already satisfied: soupsieve>1.2 in /usr/local/lib/python3.10/dist-packages (from beautifulsoup4->nbconvert>=5->notebook>=4.4.1->widgetsnbextension~=3.6.0->ipywidgets>=7.6.5->pycaret) (2.5)\n",
            "Requirement already satisfied: webencodings in /usr/local/lib/python3.10/dist-packages (from bleach->nbconvert>=5->notebook>=4.4.1->widgetsnbextension~=3.6.0->ipywidgets>=7.6.5->pycaret) (0.5.1)\n",
            "Requirement already satisfied: sniffio>=1.1 in /usr/local/lib/python3.10/dist-packages (from anyio<4,>=3.1.0->jupyter-server>=1.8->nbclassic>=0.4.7->notebook>=4.4.1->widgetsnbextension~=3.6.0->ipywidgets>=7.6.5->pycaret) (1.3.0)\n",
            "Requirement already satisfied: exceptiongroup in /usr/local/lib/python3.10/dist-packages (from anyio<4,>=3.1.0->jupyter-server>=1.8->nbclassic>=0.4.7->notebook>=4.4.1->widgetsnbextension~=3.6.0->ipywidgets>=7.6.5->pycaret) (1.1.3)\n",
            "Requirement already satisfied: pycparser in /usr/local/lib/python3.10/dist-packages (from cffi>=1.0.1->argon2-cffi-bindings->argon2-cffi->notebook>=4.4.1->widgetsnbextension~=3.6.0->ipywidgets>=7.6.5->pycaret) (2.21)\n"
          ]
        }
      ]
    },
    {
      "cell_type": "code",
      "source": [
        "\"\"\"Mount Google Drive to access your data\"\"\"\n",
        "from google.colab import drive #Import library\n",
        "drive.mount('/content/drive') #Mount it"
      ],
      "metadata": {
        "colab": {
          "base_uri": "https://localhost:8080/"
        },
        "id": "FH6pEV8vfSlh",
        "outputId": "87be2155-3fbe-42ba-8d1a-525953d9df83"
      },
      "execution_count": null,
      "outputs": [
        {
          "output_type": "stream",
          "name": "stdout",
          "text": [
            "Drive already mounted at /content/drive; to attempt to forcibly remount, call drive.mount(\"/content/drive\", force_remount=True).\n"
          ]
        }
      ]
    },
    {
      "cell_type": "code",
      "source": [
        "\"\"\"IMPORT DATA AND HANDLE MISSING VALUES\"\"\"\n",
        "import pandas as pd #Import Library\n",
        "\n",
        "\"\"\"Function to load and remove na valued rows\"\"\"\n",
        "def importData(url):\n",
        "  print(\"Started Reading Data\")\n",
        "  getData = pd.read_csv(url)\n",
        "  print(\"Completed Reading Data\")\n",
        "\n",
        "  print(\"Removing na values\")\n",
        "  getData = getData.dropna()\n",
        "\n",
        "\n",
        "  getData.drop(columns=[\"wnd_dir\"], inplace=True)\n",
        "  print(getData.head())\n",
        "  print(\"Removed rows with na values\")\n",
        "  return getData.iloc[:200]\n",
        "\n",
        "url = '/content/drive/MyDrive/5B.csv'\n",
        "inputData = importData(url) #Call the Function"
      ],
      "metadata": {
        "colab": {
          "base_uri": "https://localhost:8080/"
        },
        "id": "Wfr4kEmMfys6",
        "outputId": "70170f90-7485-448a-bef3-2518477433bc"
      },
      "execution_count": null,
      "outputs": [
        {
          "output_type": "stream",
          "name": "stdout",
          "text": [
            "Started Reading Data\n",
            "Completed Reading Data\n",
            "Removing na values\n",
            "                  date  pollution  dew  temp   press  wnd_spd  snow  rain\n",
            "0  2010-01-02 00:00:00      129.0  -16  -4.0  1020.0     1.79     0     0\n",
            "1  2010-01-02 01:00:00      148.0  -15  -4.0  1020.0     2.68     0     0\n",
            "2  2010-01-02 02:00:00      159.0  -11  -5.0  1021.0     3.57     0     0\n",
            "3  2010-01-02 03:00:00      181.0   -7  -5.0  1022.0     5.36     1     0\n",
            "4  2010-01-02 04:00:00      138.0   -7  -5.0  1022.0     6.25     2     0\n",
            "Removed rows with na values\n"
          ]
        }
      ]
    },
    {
      "cell_type": "code",
      "source": [
        "from pycaret.time_series import TSForecastingExperiment\n",
        "\n",
        "\"\"\"Function to set up the environment\"\"\"\n",
        "def doSetUpOfPycaret(inputData,targetColumn,indexColumn):\n",
        "  print(\"Setting up the environment\")\n",
        "  s = TSForecastingExperiment()\n",
        "  s.setup(data=inputData,\n",
        "    target=targetColumn,\n",
        "          fh=50,\n",
        "    index=indexColumn)\n",
        "  return s\n",
        "\n",
        "targetColumn = \"pollution\"\n",
        "indexColumn = \"date\"\n",
        "s = doSetUpOfPycaret(inputData,targetColumn,indexColumn)#Call the Function"
      ],
      "metadata": {
        "colab": {
          "base_uri": "https://localhost:8080/",
          "height": 375
        },
        "id": "-0J88JKmf1YG",
        "outputId": "6341ac2b-4f04-4c88-8305-360b2bb64c30"
      },
      "execution_count": null,
      "outputs": [
        {
          "output_type": "stream",
          "name": "stdout",
          "text": [
            "Setting up the environment\n"
          ]
        },
        {
          "output_type": "error",
          "ename": "ValueError",
          "evalue": "ignored",
          "traceback": [
            "\u001b[0;31m---------------------------------------------------------------------------\u001b[0m",
            "\u001b[0;31mValueError\u001b[0m                                Traceback (most recent call last)",
            "\u001b[0;32m<ipython-input-147-f1fc6332b1a5>\u001b[0m in \u001b[0;36m<cell line: 15>\u001b[0;34m()\u001b[0m\n\u001b[1;32m     13\u001b[0m \u001b[0mtargetColumn\u001b[0m \u001b[0;34m=\u001b[0m \u001b[0;34m\"pollution\"\u001b[0m\u001b[0;34m\u001b[0m\u001b[0;34m\u001b[0m\u001b[0m\n\u001b[1;32m     14\u001b[0m \u001b[0mindexColumn\u001b[0m \u001b[0;34m=\u001b[0m \u001b[0;34m\"date\"\u001b[0m\u001b[0;34m\u001b[0m\u001b[0;34m\u001b[0m\u001b[0m\n\u001b[0;32m---> 15\u001b[0;31m \u001b[0ms\u001b[0m \u001b[0;34m=\u001b[0m \u001b[0mdoSetUpOfPycaret\u001b[0m\u001b[0;34m(\u001b[0m\u001b[0minputData\u001b[0m\u001b[0;34m,\u001b[0m\u001b[0mtargetColumn\u001b[0m\u001b[0;34m,\u001b[0m\u001b[0mindexColumn\u001b[0m\u001b[0;34m)\u001b[0m\u001b[0;31m#Call the Function\u001b[0m\u001b[0;34m\u001b[0m\u001b[0;34m\u001b[0m\u001b[0m\n\u001b[0m",
            "\u001b[0;32m<ipython-input-147-f1fc6332b1a5>\u001b[0m in \u001b[0;36mdoSetUpOfPycaret\u001b[0;34m(inputData, targetColumn, indexColumn)\u001b[0m\n\u001b[1;32m      5\u001b[0m   \u001b[0mprint\u001b[0m\u001b[0;34m(\u001b[0m\u001b[0;34m\"Setting up the environment\"\u001b[0m\u001b[0;34m)\u001b[0m\u001b[0;34m\u001b[0m\u001b[0;34m\u001b[0m\u001b[0m\n\u001b[1;32m      6\u001b[0m   \u001b[0ms\u001b[0m \u001b[0;34m=\u001b[0m \u001b[0mTSForecastingExperiment\u001b[0m\u001b[0;34m(\u001b[0m\u001b[0;34m)\u001b[0m\u001b[0;34m\u001b[0m\u001b[0;34m\u001b[0m\u001b[0m\n\u001b[0;32m----> 7\u001b[0;31m   s.setup(data=inputData,\n\u001b[0m\u001b[1;32m      8\u001b[0m     \u001b[0mtarget\u001b[0m\u001b[0;34m=\u001b[0m\u001b[0mtargetColumn\u001b[0m\u001b[0;34m,\u001b[0m\u001b[0;34m\u001b[0m\u001b[0;34m\u001b[0m\u001b[0m\n\u001b[1;32m      9\u001b[0m           \u001b[0mfh\u001b[0m\u001b[0;34m=\u001b[0m\u001b[0;36m50\u001b[0m\u001b[0;34m,\u001b[0m\u001b[0;34m\u001b[0m\u001b[0;34m\u001b[0m\u001b[0m\n",
            "\u001b[0;32m/usr/local/lib/python3.10/dist-packages/pycaret/time_series/forecasting/oop.py\u001b[0m in \u001b[0;36msetup\u001b[0;34m(self, data, data_func, target, index, ignore_features, numeric_imputation_target, numeric_imputation_exogenous, transform_target, transform_exogenous, scale_target, scale_exogenous, fe_target_rr, fe_exogenous, fold_strategy, fold, fh, hyperparameter_split, seasonal_period, ignore_seasonality_test, sp_detection, max_sp_to_consider, remove_harmonics, harmonic_order_method, num_sps_to_use, point_alpha, coverage, enforce_exogenous, n_jobs, use_gpu, custom_pipeline, html, session_id, system_log, log_experiment, experiment_name, experiment_custom_tags, log_plots, log_profile, log_data, engine, verbose, profile, profile_kwargs, fig_kwargs)\u001b[0m\n\u001b[1;32m   2003\u001b[0m             )\n\u001b[1;32m   2004\u001b[0m             \u001b[0;34m.\u001b[0m\u001b[0m_setup_train_test_split\u001b[0m\u001b[0;34m(\u001b[0m\u001b[0;34m)\u001b[0m\u001b[0;34m\u001b[0m\u001b[0;34m\u001b[0m\u001b[0m\n\u001b[0;32m-> 2005\u001b[0;31m             \u001b[0;34m.\u001b[0m\u001b[0m_set_fold_generator\u001b[0m\u001b[0;34m(\u001b[0m\u001b[0;34m)\u001b[0m\u001b[0;34m\u001b[0m\u001b[0;34m\u001b[0m\u001b[0m\n\u001b[0m\u001b[1;32m   2006\u001b[0m             \u001b[0;34m.\u001b[0m\u001b[0m_set_should_preprocess_data\u001b[0m\u001b[0;34m(\u001b[0m\u001b[0;34m)\u001b[0m\u001b[0;34m\u001b[0m\u001b[0;34m\u001b[0m\u001b[0m\n\u001b[1;32m   2007\u001b[0m             \u001b[0;34m.\u001b[0m\u001b[0m_set_missingness\u001b[0m\u001b[0;34m(\u001b[0m\u001b[0;34m)\u001b[0m\u001b[0;34m\u001b[0m\u001b[0;34m\u001b[0m\u001b[0m\n",
            "\u001b[0;32m/usr/local/lib/python3.10/dist-packages/pycaret/time_series/forecasting/oop.py\u001b[0m in \u001b[0;36m_set_fold_generator\u001b[0;34m(self)\u001b[0m\n\u001b[1;32m    981\u001b[0m             \u001b[0;31m# Number of folds\u001b[0m\u001b[0;34m\u001b[0m\u001b[0;34m\u001b[0m\u001b[0m\n\u001b[1;32m    982\u001b[0m             \u001b[0mself\u001b[0m\u001b[0;34m.\u001b[0m\u001b[0mfold_param\u001b[0m \u001b[0;34m=\u001b[0m \u001b[0mself\u001b[0m\u001b[0;34m.\u001b[0m\u001b[0mfold\u001b[0m\u001b[0;34m\u001b[0m\u001b[0;34m\u001b[0m\u001b[0m\n\u001b[0;32m--> 983\u001b[0;31m             \u001b[0mself\u001b[0m\u001b[0;34m.\u001b[0m\u001b[0mfold_generator\u001b[0m \u001b[0;34m=\u001b[0m \u001b[0mself\u001b[0m\u001b[0;34m.\u001b[0m\u001b[0mget_fold_generator\u001b[0m\u001b[0;34m(\u001b[0m\u001b[0mfold\u001b[0m\u001b[0;34m=\u001b[0m\u001b[0mself\u001b[0m\u001b[0;34m.\u001b[0m\u001b[0mfold_param\u001b[0m\u001b[0;34m)\u001b[0m\u001b[0;34m\u001b[0m\u001b[0;34m\u001b[0m\u001b[0m\n\u001b[0m\u001b[1;32m    984\u001b[0m         \u001b[0;32melse\u001b[0m\u001b[0;34m:\u001b[0m\u001b[0;34m\u001b[0m\u001b[0;34m\u001b[0m\u001b[0m\n\u001b[1;32m    985\u001b[0m             \u001b[0mself\u001b[0m\u001b[0;34m.\u001b[0m\u001b[0mfold_generator\u001b[0m \u001b[0;34m=\u001b[0m \u001b[0mself\u001b[0m\u001b[0;34m.\u001b[0m\u001b[0mfold_strategy\u001b[0m\u001b[0;34m\u001b[0m\u001b[0;34m\u001b[0m\u001b[0m\n",
            "\u001b[0;32m/usr/local/lib/python3.10/dist-packages/pycaret/time_series/forecasting/oop.py\u001b[0m in \u001b[0;36mget_fold_generator\u001b[0;34m(self, fold, fold_strategy)\u001b[0m\n\u001b[1;32m   5046\u001b[0m \u001b[0;34m\u001b[0m\u001b[0m\n\u001b[1;32m   5047\u001b[0m             \u001b[0;32mif\u001b[0m \u001b[0minitial_window\u001b[0m \u001b[0;34m<\u001b[0m \u001b[0;36m1\u001b[0m\u001b[0;34m:\u001b[0m\u001b[0;34m\u001b[0m\u001b[0;34m\u001b[0m\u001b[0m\n\u001b[0;32m-> 5048\u001b[0;31m                 raise ValueError(\n\u001b[0m\u001b[1;32m   5049\u001b[0m                     \u001b[0;34m\"Not Enough Data Points, set a lower number of folds or fh\"\u001b[0m\u001b[0;34m\u001b[0m\u001b[0;34m\u001b[0m\u001b[0m\n\u001b[1;32m   5050\u001b[0m                 )\n",
            "\u001b[0;31mValueError\u001b[0m: Not Enough Data Points, set a lower number of folds or fh"
          ]
        }
      ]
    },
    {
      "cell_type": "code",
      "source": [
        "s.plot_model()"
      ],
      "metadata": {
        "colab": {
          "base_uri": "https://localhost:8080/",
          "height": 542
        },
        "id": "ueK-oYSFwoeO",
        "outputId": "846c9b9f-0c6b-4637-f949-e69d262e7329"
      },
      "execution_count": null,
      "outputs": [
        {
          "output_type": "display_data",
          "data": {
            "text/html": [
              "<html>\n",
              "<head><meta charset=\"utf-8\" /></head>\n",
              "<body>\n",
              "    <div>            <script src=\"https://cdnjs.cloudflare.com/ajax/libs/mathjax/2.7.5/MathJax.js?config=TeX-AMS-MML_SVG\"></script><script type=\"text/javascript\">if (window.MathJax && window.MathJax.Hub && window.MathJax.Hub.Config) {window.MathJax.Hub.Config({SVG: {font: \"STIX-Web\"}});}</script>                <script type=\"text/javascript\">window.PlotlyConfig = {MathJaxConfig: 'local'};</script>\n",
              "        <script charset=\"utf-8\" src=\"https://cdn.plot.ly/plotly-2.24.1.min.js\"></script>                <div id=\"374c0a23-d4cd-4778-831a-c0f7290b0fc6\" class=\"plotly-graph-div\" style=\"height:525px; width:100%;\"></div>            <script type=\"text/javascript\">                                    window.PLOTLYENV=window.PLOTLYENV || {};                                    if (document.getElementById(\"374c0a23-d4cd-4778-831a-c0f7290b0fc6\")) {                    Plotly.newPlot(                        \"374c0a23-d4cd-4778-831a-c0f7290b0fc6\",                        [{\"line\":{\"color\":\"rgb(31, 119, 180)\",\"width\":2},\"marker\":{\"color\":\"rgb(31, 119, 180)\",\"size\":5},\"mode\":\"lines+markers\",\"name\":\"pollution (original)\",\"x\":[\"2010-01-02T00:00:00\",\"2010-01-02T01:00:00\",\"2010-01-02T02:00:00\",\"2010-01-02T03:00:00\",\"2010-01-02T04:00:00\",\"2010-01-02T05:00:00\",\"2010-01-02T06:00:00\",\"2010-01-02T07:00:00\",\"2010-01-02T08:00:00\",\"2010-01-02T09:00:00\",\"2010-01-02T10:00:00\",\"2010-01-02T11:00:00\",\"2010-01-02T12:00:00\",\"2010-01-02T13:00:00\",\"2010-01-02T14:00:00\",\"2010-01-02T15:00:00\",\"2010-01-02T16:00:00\",\"2010-01-02T17:00:00\",\"2010-01-02T18:00:00\",\"2010-01-02T19:00:00\",\"2010-01-02T20:00:00\",\"2010-01-02T21:00:00\",\"2010-01-02T22:00:00\",\"2010-01-02T23:00:00\",\"2010-01-03T00:00:00\",\"2010-01-03T01:00:00\",\"2010-01-03T02:00:00\",\"2010-01-03T03:00:00\",\"2010-01-03T04:00:00\",\"2010-01-03T05:00:00\",\"2010-01-03T06:00:00\",\"2010-01-03T07:00:00\",\"2010-01-03T08:00:00\",\"2010-01-03T09:00:00\",\"2010-01-03T10:00:00\",\"2010-01-03T11:00:00\",\"2010-01-03T12:00:00\",\"2010-01-03T13:00:00\",\"2010-01-03T14:00:00\",\"2010-01-03T15:00:00\",\"2010-01-03T16:00:00\",\"2010-01-03T17:00:00\",\"2010-01-03T18:00:00\",\"2010-01-03T19:00:00\",\"2010-01-03T20:00:00\",\"2010-01-03T21:00:00\",\"2010-01-03T22:00:00\",\"2010-01-03T23:00:00\",\"2010-01-04T00:00:00\",\"2010-01-04T01:00:00\",\"2010-01-04T02:00:00\",\"2010-01-04T03:00:00\",\"2010-01-04T04:00:00\",\"2010-01-04T05:00:00\",\"2010-01-04T06:00:00\",\"2010-01-04T07:00:00\",\"2010-01-04T08:00:00\",\"2010-01-04T09:00:00\",\"2010-01-04T10:00:00\",\"2010-01-04T11:00:00\",\"2010-01-04T12:00:00\",\"2010-01-04T13:00:00\",\"2010-01-04T14:00:00\",\"2010-01-04T15:00:00\",\"2010-01-04T16:00:00\",\"2010-01-04T17:00:00\",\"2010-01-04T18:00:00\",\"2010-01-04T19:00:00\",\"2010-01-04T20:00:00\",\"2010-01-04T21:00:00\",\"2010-01-04T22:00:00\",\"2010-01-04T23:00:00\",\"2010-01-05T00:00:00\",\"2010-01-05T01:00:00\",\"2010-01-05T02:00:00\",\"2010-01-05T03:00:00\",\"2010-01-05T04:00:00\",\"2010-01-05T05:00:00\",\"2010-01-05T06:00:00\",\"2010-01-05T07:00:00\",\"2010-01-05T08:00:00\",\"2010-01-05T09:00:00\",\"2010-01-05T10:00:00\",\"2010-01-05T11:00:00\",\"2010-01-05T12:00:00\",\"2010-01-05T13:00:00\",\"2010-01-05T14:00:00\",\"2010-01-05T15:00:00\",\"2010-01-05T16:00:00\",\"2010-01-05T17:00:00\",\"2010-01-05T18:00:00\",\"2010-01-05T19:00:00\",\"2010-01-05T20:00:00\",\"2010-01-05T21:00:00\",\"2010-01-05T22:00:00\",\"2010-01-05T23:00:00\",\"2010-01-06T00:00:00\",\"2010-01-06T01:00:00\",\"2010-01-06T02:00:00\",\"2010-01-06T03:00:00\",\"2010-01-06T04:00:00\",\"2010-01-06T05:00:00\",\"2010-01-06T06:00:00\",\"2010-01-06T07:00:00\",\"2010-01-06T08:00:00\",\"2010-01-06T09:00:00\",\"2010-01-06T10:00:00\",\"2010-01-06T11:00:00\",\"2010-01-06T12:00:00\",\"2010-01-06T13:00:00\",\"2010-01-06T14:00:00\",\"2010-01-06T15:00:00\",\"2010-01-06T16:00:00\",\"2010-01-06T17:00:00\",\"2010-01-06T18:00:00\",\"2010-01-06T19:00:00\",\"2010-01-06T20:00:00\",\"2010-01-06T21:00:00\",\"2010-01-06T22:00:00\",\"2010-01-06T23:00:00\",\"2010-01-07T00:00:00\",\"2010-01-07T01:00:00\",\"2010-01-07T02:00:00\",\"2010-01-07T03:00:00\",\"2010-01-07T04:00:00\",\"2010-01-07T05:00:00\",\"2010-01-07T06:00:00\",\"2010-01-07T07:00:00\",\"2010-01-07T08:00:00\",\"2010-01-07T09:00:00\",\"2010-01-07T10:00:00\",\"2010-01-07T11:00:00\",\"2010-01-07T12:00:00\",\"2010-01-07T13:00:00\",\"2010-01-07T14:00:00\",\"2010-01-07T15:00:00\",\"2010-01-07T16:00:00\",\"2010-01-07T17:00:00\",\"2010-01-07T18:00:00\",\"2010-01-07T19:00:00\",\"2010-01-07T20:00:00\",\"2010-01-07T21:00:00\",\"2010-01-07T22:00:00\",\"2010-01-07T23:00:00\",\"2010-01-08T00:00:00\",\"2010-01-08T01:00:00\",\"2010-01-08T02:00:00\",\"2010-01-08T03:00:00\",\"2010-01-08T04:00:00\",\"2010-01-08T05:00:00\",\"2010-01-08T06:00:00\",\"2010-01-08T07:00:00\",\"2010-01-08T08:00:00\",\"2010-01-08T09:00:00\",\"2010-01-08T10:00:00\",\"2010-01-08T11:00:00\",\"2010-01-08T12:00:00\",\"2010-01-08T13:00:00\",\"2010-01-08T14:00:00\",\"2010-01-08T15:00:00\",\"2010-01-08T16:00:00\",\"2010-01-08T17:00:00\",\"2010-01-08T18:00:00\",\"2010-01-08T19:00:00\",\"2010-01-08T20:00:00\",\"2010-01-08T21:00:00\",\"2010-01-08T22:00:00\",\"2010-01-08T23:00:00\",\"2010-01-09T00:00:00\",\"2010-01-09T01:00:00\",\"2010-01-09T02:00:00\",\"2010-01-09T03:00:00\",\"2010-01-09T04:00:00\",\"2010-01-09T05:00:00\",\"2010-01-09T06:00:00\",\"2010-01-09T07:00:00\",\"2010-01-09T08:00:00\",\"2010-01-09T09:00:00\",\"2010-01-09T10:00:00\",\"2010-01-09T11:00:00\",\"2010-01-09T12:00:00\",\"2010-01-09T13:00:00\",\"2010-01-09T14:00:00\",\"2010-01-09T15:00:00\",\"2010-01-09T16:00:00\",\"2010-01-09T17:00:00\",\"2010-01-09T18:00:00\",\"2010-01-09T19:00:00\",\"2010-01-09T20:00:00\",\"2010-01-09T21:00:00\",\"2010-01-09T22:00:00\",\"2010-01-09T23:00:00\",\"2010-01-10T00:00:00\",\"2010-01-10T01:00:00\",\"2010-01-10T02:00:00\",\"2010-01-10T03:00:00\",\"2010-01-10T04:00:00\",\"2010-01-10T05:00:00\",\"2010-01-10T06:00:00\",\"2010-01-10T07:00:00\",\"2010-01-10T08:00:00\",\"2010-01-10T09:00:00\",\"2010-01-10T10:00:00\",\"2010-01-10T11:00:00\",\"2010-01-10T12:00:00\",\"2010-01-10T13:00:00\",\"2010-01-10T14:00:00\",\"2010-01-10T15:00:00\",\"2010-01-10T16:00:00\",\"2010-01-10T17:00:00\",\"2010-01-10T18:00:00\",\"2010-01-10T19:00:00\",\"2010-01-10T20:00:00\",\"2010-01-10T21:00:00\",\"2010-01-10T22:00:00\",\"2010-01-10T23:00:00\",\"2010-01-11T00:00:00\",\"2010-01-11T01:00:00\",\"2010-01-11T02:00:00\",\"2010-01-11T03:00:00\",\"2010-01-11T04:00:00\",\"2010-01-11T05:00:00\",\"2010-01-11T06:00:00\",\"2010-01-11T07:00:00\",\"2010-01-11T08:00:00\",\"2010-01-11T09:00:00\",\"2010-01-11T10:00:00\",\"2010-01-11T11:00:00\",\"2010-01-11T12:00:00\",\"2010-01-11T13:00:00\",\"2010-01-11T14:00:00\",\"2010-01-11T15:00:00\",\"2010-01-11T16:00:00\",\"2010-01-11T17:00:00\",\"2010-01-11T18:00:00\",\"2010-01-11T19:00:00\",\"2010-01-11T20:00:00\",\"2010-01-11T21:00:00\",\"2010-01-11T22:00:00\",\"2010-01-11T23:00:00\",\"2010-01-12T00:00:00\",\"2010-01-12T01:00:00\",\"2010-01-12T02:00:00\",\"2010-01-12T03:00:00\",\"2010-01-12T04:00:00\",\"2010-01-12T05:00:00\",\"2010-01-12T06:00:00\",\"2010-01-12T07:00:00\",\"2010-01-12T08:00:00\",\"2010-01-12T09:00:00\",\"2010-01-12T10:00:00\",\"2010-01-12T11:00:00\",\"2010-01-12T12:00:00\",\"2010-01-12T13:00:00\",\"2010-01-12T14:00:00\",\"2010-01-12T15:00:00\",\"2010-01-12T16:00:00\",\"2010-01-12T17:00:00\",\"2010-01-12T18:00:00\",\"2010-01-12T19:00:00\",\"2010-01-12T20:00:00\",\"2010-01-12T21:00:00\",\"2010-01-12T22:00:00\",\"2010-01-12T23:00:00\",\"2010-01-13T00:00:00\",\"2010-01-13T01:00:00\",\"2010-01-13T02:00:00\",\"2010-01-13T03:00:00\",\"2010-01-13T04:00:00\",\"2010-01-13T05:00:00\",\"2010-01-13T06:00:00\",\"2010-01-13T07:00:00\",\"2010-01-13T08:00:00\",\"2010-01-13T09:00:00\",\"2010-01-13T10:00:00\",\"2010-01-13T11:00:00\",\"2010-01-13T12:00:00\",\"2010-01-13T13:00:00\",\"2010-01-13T14:00:00\",\"2010-01-13T15:00:00\",\"2010-01-13T16:00:00\",\"2010-01-13T17:00:00\",\"2010-01-13T18:00:00\",\"2010-01-13T19:00:00\",\"2010-01-13T20:00:00\",\"2010-01-13T21:00:00\",\"2010-01-13T22:00:00\",\"2010-01-13T23:00:00\",\"2010-01-14T00:00:00\",\"2010-01-14T01:00:00\",\"2010-01-14T02:00:00\",\"2010-01-14T03:00:00\",\"2010-01-14T04:00:00\",\"2010-01-14T05:00:00\",\"2010-01-14T06:00:00\",\"2010-01-14T07:00:00\",\"2010-01-14T08:00:00\",\"2010-01-14T09:00:00\",\"2010-01-14T10:00:00\",\"2010-01-14T11:00:00\"],\"y\":[129.0,148.0,159.0,181.0,138.0,109.0,105.0,124.0,120.0,132.0,140.0,152.0,148.0,164.0,158.0,154.0,159.0,164.0,170.0,149.0,154.0,164.0,156.0,126.0,90.0,63.0,65.0,55.0,65.0,83.0,91.0,86.0,82.0,86.0,78.0,98.0,107.0,90.0,96.0,95.0,86.0,70.0,61.0,53.0,71.0,72.0,76.0,73.0,79.0,58.0,25.0,26.0,28.0,26.0,20.0,29.0,26.0,27.0,27.0,25.0,29.0,32.0,28.0,29.0,30.0,30.0,28.0,26.0,31.0,33.0,29.0,31.0,30.0,34.0,27.0,25.0,28.0,28.0,27.0,27.0,27.0,29.0,36.0,30.0,27.0,39.0,41.0,33.0,50.0,56.0,59.0,60.0,84.0,106.0,66.0,50.0,56.0,77.0,50.0,44.0,27.0,28.0,21.0,25.0,20.0,29.0,34.0,42.0,28.0,36.0,48.0,49.0,52.0,56.0,96.0,75.0,105.0,132.0,93.0,131.0,127.0,130.0,43.0,37.0,30.0,28.0,24.0,23.0,24.0,27.0,40.0,42.0,42.0,55.0,52.0,51.0,57.0,50.0,54.0,67.0,106.0,159.0,198.0,190.0,210.0,195.0,275.0,164.0,110.0,100.0,81.0,71.0,66.0,92.0,135.0,155.0,198.0,250.0,200.0,231.0,250.0,212.0,219.0,227.0,226.0,225.0,168.0,169.0,165.0,159.0,167.0,196.0,169.0,155.0,119.0,106.0,93.0,84.0,73.0,66.0,40.0,49.0,50.0,49.0,41.0,37.0,45.0,44.0,54.0,50.0,47.0,66.0,75.0,82.0,66.0,83.0,62.0,40.0,23.0,25.0,27.0,35.0,50.0,70.0,75.0,58.0,70.0,68.0,71.0,88.0,84.0,83.0,66.0,27.0,24.0,22.0,23.0,27.0,23.0,17.0,17.0,16.0,16.0,20.0,20.0,18.0,25.0,26.0,27.0,28.0,15.0,24.0,13.0,13.0,13.0,17.0,20.0,27.0,20.0,15.0,21.0,21.0,37.0,26.0,15.0,9.0,11.0,11.0,16.0,13.0,15.0,21.0,24.0,22.0,22.0,22.0,19.0,23.0,25.0,25.0,31.0,25.0,22.0,22.0,15.0,16.0,11.0,11.0,12.0,11.0,12.0,27.0,28.0,34.0,33.0,36.0,26.0,49.0,52.0,47.0,47.0,39.0,59.0,76.0,96.0,95.0,68.0,65.0,75.0,257.0,174.0,164.0,161.0,137.0,92.0,64.0,87.0,87.0,84.0,95.0],\"type\":\"scattergl\",\"xaxis\":\"x\",\"yaxis\":\"y\"},{\"line\":{\"color\":\"rgb(31, 119, 180)\",\"width\":2},\"marker\":{\"color\":\"rgb(31, 119, 180)\",\"size\":5},\"mode\":\"lines+markers\",\"name\":\"dew (original)\",\"x\":[\"2010-01-02T00:00:00\",\"2010-01-02T01:00:00\",\"2010-01-02T02:00:00\",\"2010-01-02T03:00:00\",\"2010-01-02T04:00:00\",\"2010-01-02T05:00:00\",\"2010-01-02T06:00:00\",\"2010-01-02T07:00:00\",\"2010-01-02T08:00:00\",\"2010-01-02T09:00:00\",\"2010-01-02T10:00:00\",\"2010-01-02T11:00:00\",\"2010-01-02T12:00:00\",\"2010-01-02T13:00:00\",\"2010-01-02T14:00:00\",\"2010-01-02T15:00:00\",\"2010-01-02T16:00:00\",\"2010-01-02T17:00:00\",\"2010-01-02T18:00:00\",\"2010-01-02T19:00:00\",\"2010-01-02T20:00:00\",\"2010-01-02T21:00:00\",\"2010-01-02T22:00:00\",\"2010-01-02T23:00:00\",\"2010-01-03T00:00:00\",\"2010-01-03T01:00:00\",\"2010-01-03T02:00:00\",\"2010-01-03T03:00:00\",\"2010-01-03T04:00:00\",\"2010-01-03T05:00:00\",\"2010-01-03T06:00:00\",\"2010-01-03T07:00:00\",\"2010-01-03T08:00:00\",\"2010-01-03T09:00:00\",\"2010-01-03T10:00:00\",\"2010-01-03T11:00:00\",\"2010-01-03T12:00:00\",\"2010-01-03T13:00:00\",\"2010-01-03T14:00:00\",\"2010-01-03T15:00:00\",\"2010-01-03T16:00:00\",\"2010-01-03T17:00:00\",\"2010-01-03T18:00:00\",\"2010-01-03T19:00:00\",\"2010-01-03T20:00:00\",\"2010-01-03T21:00:00\",\"2010-01-03T22:00:00\",\"2010-01-03T23:00:00\",\"2010-01-04T00:00:00\",\"2010-01-04T01:00:00\",\"2010-01-04T02:00:00\",\"2010-01-04T03:00:00\",\"2010-01-04T04:00:00\",\"2010-01-04T05:00:00\",\"2010-01-04T06:00:00\",\"2010-01-04T07:00:00\",\"2010-01-04T08:00:00\",\"2010-01-04T09:00:00\",\"2010-01-04T10:00:00\",\"2010-01-04T11:00:00\",\"2010-01-04T12:00:00\",\"2010-01-04T13:00:00\",\"2010-01-04T14:00:00\",\"2010-01-04T15:00:00\",\"2010-01-04T16:00:00\",\"2010-01-04T17:00:00\",\"2010-01-04T18:00:00\",\"2010-01-04T19:00:00\",\"2010-01-04T20:00:00\",\"2010-01-04T21:00:00\",\"2010-01-04T22:00:00\",\"2010-01-04T23:00:00\",\"2010-01-05T00:00:00\",\"2010-01-05T01:00:00\",\"2010-01-05T02:00:00\",\"2010-01-05T03:00:00\",\"2010-01-05T04:00:00\",\"2010-01-05T05:00:00\",\"2010-01-05T06:00:00\",\"2010-01-05T07:00:00\",\"2010-01-05T08:00:00\",\"2010-01-05T09:00:00\",\"2010-01-05T10:00:00\",\"2010-01-05T11:00:00\",\"2010-01-05T12:00:00\",\"2010-01-05T13:00:00\",\"2010-01-05T14:00:00\",\"2010-01-05T15:00:00\",\"2010-01-05T16:00:00\",\"2010-01-05T17:00:00\",\"2010-01-05T18:00:00\",\"2010-01-05T19:00:00\",\"2010-01-05T20:00:00\",\"2010-01-05T21:00:00\",\"2010-01-05T22:00:00\",\"2010-01-05T23:00:00\",\"2010-01-06T00:00:00\",\"2010-01-06T01:00:00\",\"2010-01-06T02:00:00\",\"2010-01-06T03:00:00\",\"2010-01-06T04:00:00\",\"2010-01-06T05:00:00\",\"2010-01-06T06:00:00\",\"2010-01-06T07:00:00\",\"2010-01-06T08:00:00\",\"2010-01-06T09:00:00\",\"2010-01-06T10:00:00\",\"2010-01-06T11:00:00\",\"2010-01-06T12:00:00\",\"2010-01-06T13:00:00\",\"2010-01-06T14:00:00\",\"2010-01-06T15:00:00\",\"2010-01-06T16:00:00\",\"2010-01-06T17:00:00\",\"2010-01-06T18:00:00\",\"2010-01-06T19:00:00\",\"2010-01-06T20:00:00\",\"2010-01-06T21:00:00\",\"2010-01-06T22:00:00\",\"2010-01-06T23:00:00\",\"2010-01-07T00:00:00\",\"2010-01-07T01:00:00\",\"2010-01-07T02:00:00\",\"2010-01-07T03:00:00\",\"2010-01-07T04:00:00\",\"2010-01-07T05:00:00\",\"2010-01-07T06:00:00\",\"2010-01-07T07:00:00\",\"2010-01-07T08:00:00\",\"2010-01-07T09:00:00\",\"2010-01-07T10:00:00\",\"2010-01-07T11:00:00\",\"2010-01-07T12:00:00\",\"2010-01-07T13:00:00\",\"2010-01-07T14:00:00\",\"2010-01-07T15:00:00\",\"2010-01-07T16:00:00\",\"2010-01-07T17:00:00\",\"2010-01-07T18:00:00\",\"2010-01-07T19:00:00\",\"2010-01-07T20:00:00\",\"2010-01-07T21:00:00\",\"2010-01-07T22:00:00\",\"2010-01-07T23:00:00\",\"2010-01-08T00:00:00\",\"2010-01-08T01:00:00\",\"2010-01-08T02:00:00\",\"2010-01-08T03:00:00\",\"2010-01-08T04:00:00\",\"2010-01-08T05:00:00\",\"2010-01-08T06:00:00\",\"2010-01-08T07:00:00\",\"2010-01-08T08:00:00\",\"2010-01-08T09:00:00\",\"2010-01-08T10:00:00\",\"2010-01-08T11:00:00\",\"2010-01-08T12:00:00\",\"2010-01-08T13:00:00\",\"2010-01-08T14:00:00\",\"2010-01-08T15:00:00\",\"2010-01-08T16:00:00\",\"2010-01-08T17:00:00\",\"2010-01-08T18:00:00\",\"2010-01-08T19:00:00\",\"2010-01-08T20:00:00\",\"2010-01-08T21:00:00\",\"2010-01-08T22:00:00\",\"2010-01-08T23:00:00\",\"2010-01-09T00:00:00\",\"2010-01-09T01:00:00\",\"2010-01-09T02:00:00\",\"2010-01-09T03:00:00\",\"2010-01-09T04:00:00\",\"2010-01-09T05:00:00\",\"2010-01-09T06:00:00\",\"2010-01-09T07:00:00\",\"2010-01-09T08:00:00\",\"2010-01-09T09:00:00\",\"2010-01-09T10:00:00\",\"2010-01-09T11:00:00\",\"2010-01-09T12:00:00\",\"2010-01-09T13:00:00\",\"2010-01-09T14:00:00\",\"2010-01-09T15:00:00\",\"2010-01-09T16:00:00\",\"2010-01-09T17:00:00\",\"2010-01-09T18:00:00\",\"2010-01-09T19:00:00\",\"2010-01-09T20:00:00\",\"2010-01-09T21:00:00\",\"2010-01-09T22:00:00\",\"2010-01-09T23:00:00\",\"2010-01-10T00:00:00\",\"2010-01-10T01:00:00\",\"2010-01-10T02:00:00\",\"2010-01-10T03:00:00\",\"2010-01-10T04:00:00\",\"2010-01-10T05:00:00\",\"2010-01-10T06:00:00\",\"2010-01-10T07:00:00\",\"2010-01-10T08:00:00\",\"2010-01-10T09:00:00\",\"2010-01-10T10:00:00\",\"2010-01-10T11:00:00\",\"2010-01-10T12:00:00\",\"2010-01-10T13:00:00\",\"2010-01-10T14:00:00\",\"2010-01-10T15:00:00\",\"2010-01-10T16:00:00\",\"2010-01-10T17:00:00\",\"2010-01-10T18:00:00\",\"2010-01-10T19:00:00\",\"2010-01-10T20:00:00\",\"2010-01-10T21:00:00\",\"2010-01-10T22:00:00\",\"2010-01-10T23:00:00\",\"2010-01-11T00:00:00\",\"2010-01-11T01:00:00\",\"2010-01-11T02:00:00\",\"2010-01-11T03:00:00\",\"2010-01-11T04:00:00\",\"2010-01-11T05:00:00\",\"2010-01-11T06:00:00\",\"2010-01-11T07:00:00\",\"2010-01-11T08:00:00\",\"2010-01-11T09:00:00\",\"2010-01-11T10:00:00\",\"2010-01-11T11:00:00\",\"2010-01-11T12:00:00\",\"2010-01-11T13:00:00\",\"2010-01-11T14:00:00\",\"2010-01-11T15:00:00\",\"2010-01-11T16:00:00\",\"2010-01-11T17:00:00\",\"2010-01-11T18:00:00\",\"2010-01-11T19:00:00\",\"2010-01-11T20:00:00\",\"2010-01-11T21:00:00\",\"2010-01-11T22:00:00\",\"2010-01-11T23:00:00\",\"2010-01-12T00:00:00\",\"2010-01-12T01:00:00\",\"2010-01-12T02:00:00\",\"2010-01-12T03:00:00\",\"2010-01-12T04:00:00\",\"2010-01-12T05:00:00\",\"2010-01-12T06:00:00\",\"2010-01-12T07:00:00\",\"2010-01-12T08:00:00\",\"2010-01-12T09:00:00\",\"2010-01-12T10:00:00\",\"2010-01-12T11:00:00\",\"2010-01-12T12:00:00\",\"2010-01-12T13:00:00\",\"2010-01-12T14:00:00\",\"2010-01-12T15:00:00\",\"2010-01-12T16:00:00\",\"2010-01-12T17:00:00\",\"2010-01-12T18:00:00\",\"2010-01-12T19:00:00\",\"2010-01-12T20:00:00\",\"2010-01-12T21:00:00\",\"2010-01-12T22:00:00\",\"2010-01-12T23:00:00\",\"2010-01-13T00:00:00\",\"2010-01-13T01:00:00\",\"2010-01-13T02:00:00\",\"2010-01-13T03:00:00\",\"2010-01-13T04:00:00\",\"2010-01-13T05:00:00\",\"2010-01-13T06:00:00\",\"2010-01-13T07:00:00\",\"2010-01-13T08:00:00\",\"2010-01-13T09:00:00\",\"2010-01-13T10:00:00\",\"2010-01-13T11:00:00\",\"2010-01-13T12:00:00\",\"2010-01-13T13:00:00\",\"2010-01-13T14:00:00\",\"2010-01-13T15:00:00\",\"2010-01-13T16:00:00\",\"2010-01-13T17:00:00\",\"2010-01-13T18:00:00\",\"2010-01-13T19:00:00\",\"2010-01-13T20:00:00\",\"2010-01-13T21:00:00\",\"2010-01-13T22:00:00\",\"2010-01-13T23:00:00\",\"2010-01-14T00:00:00\",\"2010-01-14T01:00:00\",\"2010-01-14T02:00:00\",\"2010-01-14T03:00:00\",\"2010-01-14T04:00:00\",\"2010-01-14T05:00:00\",\"2010-01-14T06:00:00\",\"2010-01-14T07:00:00\",\"2010-01-14T08:00:00\",\"2010-01-14T09:00:00\",\"2010-01-14T10:00:00\",\"2010-01-14T11:00:00\"],\"y\":[-16,-15,-11,-7,-7,-7,-7,-7,-8,-7,-7,-8,-8,-8,-9,-9,-9,-8,-8,-8,-7,-7,-8,-8,-7,-8,-8,-8,-8,-9,-10,-10,-10,-11,-11,-11,-11,-11,-11,-11,-11,-11,-11,-11,-10,-11,-11,-12,-14,-16,-17,-18,-19,-20,-21,-21,-22,-22,-22,-23,-21,-20,-21,-21,-21,-20,-23,-21,-24,-24,-24,-26,-26,-26,-26,-27,-27,-27,-26,-27,-26,-26,-25,-25,-25,-24,-22,-23,-24,-23,-23,-22,-22,-24,-22,-22,-25,-25,-26,-26,-26,-26,-26,-26,-26,-25,-25,-24,-24,-22,-22,-22,-22,-21,-22,-22,-22,-21,-22,-21,-21,-21,-22,-23,-24,-25,-24,-25,-24,-23,-22,-20,-21,-21,-20,-20,-18,-19,-19,-18,-19,-19,-21,-21,-21,-19,-20,-19,-18,-18,-18,-16,-16,-16,-17,-16,-16,-15,-16,-16,-16,-17,-17,-17,-17,-18,-16,-16,-17,-17,-17,-17,-17,-19,-18,-19,-18,-18,-17,-17,-16,-16,-15,-14,-15,-15,-15,-15,-15,-15,-15,-15,-15,-17,-17,-17,-19,-18,-19,-19,-19,-17,-16,-15,-15,-14,-14,-13,-14,-14,-13,-15,-15,-15,-16,-17,-17,-17,-19,-20,-21,-22,-22,-22,-22,-22,-22,-21,-20,-19,-19,-20,-20,-20,-20,-22,-22,-23,-23,-22,-22,-22,-22,-24,-24,-25,-24,-25,-26,-25,-25,-24,-23,-22,-23,-22,-23,-24,-24,-23,-23,-24,-23,-23,-24,-24,-25,-24,-25,-25,-25,-25,-25,-23,-23,-22,-21,-21,-20,-22,-21,-19,-19,-20,-19,-19,-18,-18,-18,-20,-20,-20,-20,-21,-19,-21,-19,-19,-18,-17],\"type\":\"scattergl\",\"xaxis\":\"x2\",\"yaxis\":\"y2\"},{\"line\":{\"color\":\"rgb(31, 119, 180)\",\"width\":2},\"marker\":{\"color\":\"rgb(31, 119, 180)\",\"size\":5},\"mode\":\"lines+markers\",\"name\":\"temp (original)\",\"x\":[\"2010-01-02T00:00:00\",\"2010-01-02T01:00:00\",\"2010-01-02T02:00:00\",\"2010-01-02T03:00:00\",\"2010-01-02T04:00:00\",\"2010-01-02T05:00:00\",\"2010-01-02T06:00:00\",\"2010-01-02T07:00:00\",\"2010-01-02T08:00:00\",\"2010-01-02T09:00:00\",\"2010-01-02T10:00:00\",\"2010-01-02T11:00:00\",\"2010-01-02T12:00:00\",\"2010-01-02T13:00:00\",\"2010-01-02T14:00:00\",\"2010-01-02T15:00:00\",\"2010-01-02T16:00:00\",\"2010-01-02T17:00:00\",\"2010-01-02T18:00:00\",\"2010-01-02T19:00:00\",\"2010-01-02T20:00:00\",\"2010-01-02T21:00:00\",\"2010-01-02T22:00:00\",\"2010-01-02T23:00:00\",\"2010-01-03T00:00:00\",\"2010-01-03T01:00:00\",\"2010-01-03T02:00:00\",\"2010-01-03T03:00:00\",\"2010-01-03T04:00:00\",\"2010-01-03T05:00:00\",\"2010-01-03T06:00:00\",\"2010-01-03T07:00:00\",\"2010-01-03T08:00:00\",\"2010-01-03T09:00:00\",\"2010-01-03T10:00:00\",\"2010-01-03T11:00:00\",\"2010-01-03T12:00:00\",\"2010-01-03T13:00:00\",\"2010-01-03T14:00:00\",\"2010-01-03T15:00:00\",\"2010-01-03T16:00:00\",\"2010-01-03T17:00:00\",\"2010-01-03T18:00:00\",\"2010-01-03T19:00:00\",\"2010-01-03T20:00:00\",\"2010-01-03T21:00:00\",\"2010-01-03T22:00:00\",\"2010-01-03T23:00:00\",\"2010-01-04T00:00:00\",\"2010-01-04T01:00:00\",\"2010-01-04T02:00:00\",\"2010-01-04T03:00:00\",\"2010-01-04T04:00:00\",\"2010-01-04T05:00:00\",\"2010-01-04T06:00:00\",\"2010-01-04T07:00:00\",\"2010-01-04T08:00:00\",\"2010-01-04T09:00:00\",\"2010-01-04T10:00:00\",\"2010-01-04T11:00:00\",\"2010-01-04T12:00:00\",\"2010-01-04T13:00:00\",\"2010-01-04T14:00:00\",\"2010-01-04T15:00:00\",\"2010-01-04T16:00:00\",\"2010-01-04T17:00:00\",\"2010-01-04T18:00:00\",\"2010-01-04T19:00:00\",\"2010-01-04T20:00:00\",\"2010-01-04T21:00:00\",\"2010-01-04T22:00:00\",\"2010-01-04T23:00:00\",\"2010-01-05T00:00:00\",\"2010-01-05T01:00:00\",\"2010-01-05T02:00:00\",\"2010-01-05T03:00:00\",\"2010-01-05T04:00:00\",\"2010-01-05T05:00:00\",\"2010-01-05T06:00:00\",\"2010-01-05T07:00:00\",\"2010-01-05T08:00:00\",\"2010-01-05T09:00:00\",\"2010-01-05T10:00:00\",\"2010-01-05T11:00:00\",\"2010-01-05T12:00:00\",\"2010-01-05T13:00:00\",\"2010-01-05T14:00:00\",\"2010-01-05T15:00:00\",\"2010-01-05T16:00:00\",\"2010-01-05T17:00:00\",\"2010-01-05T18:00:00\",\"2010-01-05T19:00:00\",\"2010-01-05T20:00:00\",\"2010-01-05T21:00:00\",\"2010-01-05T22:00:00\",\"2010-01-05T23:00:00\",\"2010-01-06T00:00:00\",\"2010-01-06T01:00:00\",\"2010-01-06T02:00:00\",\"2010-01-06T03:00:00\",\"2010-01-06T04:00:00\",\"2010-01-06T05:00:00\",\"2010-01-06T06:00:00\",\"2010-01-06T07:00:00\",\"2010-01-06T08:00:00\",\"2010-01-06T09:00:00\",\"2010-01-06T10:00:00\",\"2010-01-06T11:00:00\",\"2010-01-06T12:00:00\",\"2010-01-06T13:00:00\",\"2010-01-06T14:00:00\",\"2010-01-06T15:00:00\",\"2010-01-06T16:00:00\",\"2010-01-06T17:00:00\",\"2010-01-06T18:00:00\",\"2010-01-06T19:00:00\",\"2010-01-06T20:00:00\",\"2010-01-06T21:00:00\",\"2010-01-06T22:00:00\",\"2010-01-06T23:00:00\",\"2010-01-07T00:00:00\",\"2010-01-07T01:00:00\",\"2010-01-07T02:00:00\",\"2010-01-07T03:00:00\",\"2010-01-07T04:00:00\",\"2010-01-07T05:00:00\",\"2010-01-07T06:00:00\",\"2010-01-07T07:00:00\",\"2010-01-07T08:00:00\",\"2010-01-07T09:00:00\",\"2010-01-07T10:00:00\",\"2010-01-07T11:00:00\",\"2010-01-07T12:00:00\",\"2010-01-07T13:00:00\",\"2010-01-07T14:00:00\",\"2010-01-07T15:00:00\",\"2010-01-07T16:00:00\",\"2010-01-07T17:00:00\",\"2010-01-07T18:00:00\",\"2010-01-07T19:00:00\",\"2010-01-07T20:00:00\",\"2010-01-07T21:00:00\",\"2010-01-07T22:00:00\",\"2010-01-07T23:00:00\",\"2010-01-08T00:00:00\",\"2010-01-08T01:00:00\",\"2010-01-08T02:00:00\",\"2010-01-08T03:00:00\",\"2010-01-08T04:00:00\",\"2010-01-08T05:00:00\",\"2010-01-08T06:00:00\",\"2010-01-08T07:00:00\",\"2010-01-08T08:00:00\",\"2010-01-08T09:00:00\",\"2010-01-08T10:00:00\",\"2010-01-08T11:00:00\",\"2010-01-08T12:00:00\",\"2010-01-08T13:00:00\",\"2010-01-08T14:00:00\",\"2010-01-08T15:00:00\",\"2010-01-08T16:00:00\",\"2010-01-08T17:00:00\",\"2010-01-08T18:00:00\",\"2010-01-08T19:00:00\",\"2010-01-08T20:00:00\",\"2010-01-08T21:00:00\",\"2010-01-08T22:00:00\",\"2010-01-08T23:00:00\",\"2010-01-09T00:00:00\",\"2010-01-09T01:00:00\",\"2010-01-09T02:00:00\",\"2010-01-09T03:00:00\",\"2010-01-09T04:00:00\",\"2010-01-09T05:00:00\",\"2010-01-09T06:00:00\",\"2010-01-09T07:00:00\",\"2010-01-09T08:00:00\",\"2010-01-09T09:00:00\",\"2010-01-09T10:00:00\",\"2010-01-09T11:00:00\",\"2010-01-09T12:00:00\",\"2010-01-09T13:00:00\",\"2010-01-09T14:00:00\",\"2010-01-09T15:00:00\",\"2010-01-09T16:00:00\",\"2010-01-09T17:00:00\",\"2010-01-09T18:00:00\",\"2010-01-09T19:00:00\",\"2010-01-09T20:00:00\",\"2010-01-09T21:00:00\",\"2010-01-09T22:00:00\",\"2010-01-09T23:00:00\",\"2010-01-10T00:00:00\",\"2010-01-10T01:00:00\",\"2010-01-10T02:00:00\",\"2010-01-10T03:00:00\",\"2010-01-10T04:00:00\",\"2010-01-10T05:00:00\",\"2010-01-10T06:00:00\",\"2010-01-10T07:00:00\",\"2010-01-10T08:00:00\",\"2010-01-10T09:00:00\",\"2010-01-10T10:00:00\",\"2010-01-10T11:00:00\",\"2010-01-10T12:00:00\",\"2010-01-10T13:00:00\",\"2010-01-10T14:00:00\",\"2010-01-10T15:00:00\",\"2010-01-10T16:00:00\",\"2010-01-10T17:00:00\",\"2010-01-10T18:00:00\",\"2010-01-10T19:00:00\",\"2010-01-10T20:00:00\",\"2010-01-10T21:00:00\",\"2010-01-10T22:00:00\",\"2010-01-10T23:00:00\",\"2010-01-11T00:00:00\",\"2010-01-11T01:00:00\",\"2010-01-11T02:00:00\",\"2010-01-11T03:00:00\",\"2010-01-11T04:00:00\",\"2010-01-11T05:00:00\",\"2010-01-11T06:00:00\",\"2010-01-11T07:00:00\",\"2010-01-11T08:00:00\",\"2010-01-11T09:00:00\",\"2010-01-11T10:00:00\",\"2010-01-11T11:00:00\",\"2010-01-11T12:00:00\",\"2010-01-11T13:00:00\",\"2010-01-11T14:00:00\",\"2010-01-11T15:00:00\",\"2010-01-11T16:00:00\",\"2010-01-11T17:00:00\",\"2010-01-11T18:00:00\",\"2010-01-11T19:00:00\",\"2010-01-11T20:00:00\",\"2010-01-11T21:00:00\",\"2010-01-11T22:00:00\",\"2010-01-11T23:00:00\",\"2010-01-12T00:00:00\",\"2010-01-12T01:00:00\",\"2010-01-12T02:00:00\",\"2010-01-12T03:00:00\",\"2010-01-12T04:00:00\",\"2010-01-12T05:00:00\",\"2010-01-12T06:00:00\",\"2010-01-12T07:00:00\",\"2010-01-12T08:00:00\",\"2010-01-12T09:00:00\",\"2010-01-12T10:00:00\",\"2010-01-12T11:00:00\",\"2010-01-12T12:00:00\",\"2010-01-12T13:00:00\",\"2010-01-12T14:00:00\",\"2010-01-12T15:00:00\",\"2010-01-12T16:00:00\",\"2010-01-12T17:00:00\",\"2010-01-12T18:00:00\",\"2010-01-12T19:00:00\",\"2010-01-12T20:00:00\",\"2010-01-12T21:00:00\",\"2010-01-12T22:00:00\",\"2010-01-12T23:00:00\",\"2010-01-13T00:00:00\",\"2010-01-13T01:00:00\",\"2010-01-13T02:00:00\",\"2010-01-13T03:00:00\",\"2010-01-13T04:00:00\",\"2010-01-13T05:00:00\",\"2010-01-13T06:00:00\",\"2010-01-13T07:00:00\",\"2010-01-13T08:00:00\",\"2010-01-13T09:00:00\",\"2010-01-13T10:00:00\",\"2010-01-13T11:00:00\",\"2010-01-13T12:00:00\",\"2010-01-13T13:00:00\",\"2010-01-13T14:00:00\",\"2010-01-13T15:00:00\",\"2010-01-13T16:00:00\",\"2010-01-13T17:00:00\",\"2010-01-13T18:00:00\",\"2010-01-13T19:00:00\",\"2010-01-13T20:00:00\",\"2010-01-13T21:00:00\",\"2010-01-13T22:00:00\",\"2010-01-13T23:00:00\",\"2010-01-14T00:00:00\",\"2010-01-14T01:00:00\",\"2010-01-14T02:00:00\",\"2010-01-14T03:00:00\",\"2010-01-14T04:00:00\",\"2010-01-14T05:00:00\",\"2010-01-14T06:00:00\",\"2010-01-14T07:00:00\",\"2010-01-14T08:00:00\",\"2010-01-14T09:00:00\",\"2010-01-14T10:00:00\",\"2010-01-14T11:00:00\"],\"y\":[-4.0,-4.0,-5.0,-5.0,-5.0,-6.0,-6.0,-5.0,-6.0,-5.0,-5.0,-5.0,-5.0,-5.0,-5.0,-5.0,-5.0,-5.0,-5.0,-5.0,-5.0,-5.0,-6.0,-6.0,-6.0,-6.0,-7.0,-7.0,-7.0,-8.0,-8.0,-9.0,-9.0,-9.0,-9.0,-9.0,-9.0,-9.0,-9.0,-9.0,-9.0,-9.0,-9.0,-9.0,-9.0,-10.0,-9.0,-11.0,-12.0,-9.0,-10.0,-11.0,-11.0,-12.0,-12.0,-13.0,-13.0,-13.0,-12.0,-12.0,-11.0,-10.0,-10.0,-9.0,-9.0,-11.0,-11.0,-12.0,-12.0,-13.0,-13.0,-15.0,-17.0,-18.0,-19.0,-18.0,-19.0,-16.0,-16.0,-16.0,-16.0,-15.0,-14.0,-13.0,-12.0,-11.0,-11.0,-11.0,-11.0,-11.0,-11.0,-13.0,-12.0,-18.0,-13.0,-16.0,-17.0,-14.0,-14.0,-14.0,-14.0,-14.0,-14.0,-15.0,-14.0,-13.0,-12.0,-11.0,-10.0,-10.0,-9.0,-8.0,-8.0,-9.0,-9.0,-14.0,-12.0,-14.0,-16.0,-16.0,-16.0,-16.0,-18.0,-15.0,-16.0,-15.0,-15.0,-13.0,-14.0,-12.0,-11.0,-10.0,-9.0,-8.0,-7.0,-7.0,-8.0,-9.0,-11.0,-11.0,-15.0,-14.0,-14.0,-16.0,-17.0,-16.0,-16.0,-15.0,-15.0,-15.0,-15.0,-13.0,-12.0,-12.0,-10.0,-10.0,-9.0,-8.0,-8.0,-8.0,-8.0,-8.0,-9.0,-11.0,-12.0,-14.0,-9.0,-11.0,-13.0,-13.0,-14.0,-15.0,-13.0,-16.0,-15.0,-15.0,-14.0,-9.0,-7.0,-6.0,-6.0,-5.0,-4.0,-4.0,-4.0,-4.0,-7.0,-6.0,-7.0,-6.0,-8.0,-8.0,-11.0,-13.0,-12.0,-13.0,-14.0,-13.0,-13.0,-14.0,-14.0,-12.0,-7.0,-7.0,-7.0,-6.0,-6.0,-5.0,-5.0,-6.0,-7.0,-6.0,-6.0,-4.0,-4.0,-5.0,-6.0,-8.0,-11.0,-11.0,-11.0,-12.0,-12.0,-13.0,-9.0,-10.0,-9.0,-9.0,-6.0,-5.0,-5.0,-5.0,-5.0,-5.0,-7.0,-7.0,-8.0,-10.0,-13.0,-12.0,-15.0,-14.0,-14.0,-18.0,-13.0,-14.0,-14.0,-12.0,-14.0,-12.0,-11.0,-11.0,-11.0,-11.0,-11.0,-11.0,-11.0,-11.0,-11.0,-11.0,-12.0,-12.0,-12.0,-12.0,-12.0,-12.0,-12.0,-13.0,-12.0,-12.0,-12.0,-12.0,-12.0,-11.0,-10.0,-9.0,-8.0,-6.0,-5.0,-5.0,-5.0,-7.0,-8.0,-9.0,-10.0,-13.0,-12.0,-13.0,-14.0,-15.0,-15.0,-16.0,-16.0,-17.0,-14.0,-17.0,-15.0,-14.0,-10.0,-9.0],\"type\":\"scattergl\",\"xaxis\":\"x3\",\"yaxis\":\"y3\"},{\"line\":{\"color\":\"rgb(31, 119, 180)\",\"width\":2},\"marker\":{\"color\":\"rgb(31, 119, 180)\",\"size\":5},\"mode\":\"lines+markers\",\"name\":\"press (original)\",\"x\":[\"2010-01-02T00:00:00\",\"2010-01-02T01:00:00\",\"2010-01-02T02:00:00\",\"2010-01-02T03:00:00\",\"2010-01-02T04:00:00\",\"2010-01-02T05:00:00\",\"2010-01-02T06:00:00\",\"2010-01-02T07:00:00\",\"2010-01-02T08:00:00\",\"2010-01-02T09:00:00\",\"2010-01-02T10:00:00\",\"2010-01-02T11:00:00\",\"2010-01-02T12:00:00\",\"2010-01-02T13:00:00\",\"2010-01-02T14:00:00\",\"2010-01-02T15:00:00\",\"2010-01-02T16:00:00\",\"2010-01-02T17:00:00\",\"2010-01-02T18:00:00\",\"2010-01-02T19:00:00\",\"2010-01-02T20:00:00\",\"2010-01-02T21:00:00\",\"2010-01-02T22:00:00\",\"2010-01-02T23:00:00\",\"2010-01-03T00:00:00\",\"2010-01-03T01:00:00\",\"2010-01-03T02:00:00\",\"2010-01-03T03:00:00\",\"2010-01-03T04:00:00\",\"2010-01-03T05:00:00\",\"2010-01-03T06:00:00\",\"2010-01-03T07:00:00\",\"2010-01-03T08:00:00\",\"2010-01-03T09:00:00\",\"2010-01-03T10:00:00\",\"2010-01-03T11:00:00\",\"2010-01-03T12:00:00\",\"2010-01-03T13:00:00\",\"2010-01-03T14:00:00\",\"2010-01-03T15:00:00\",\"2010-01-03T16:00:00\",\"2010-01-03T17:00:00\",\"2010-01-03T18:00:00\",\"2010-01-03T19:00:00\",\"2010-01-03T20:00:00\",\"2010-01-03T21:00:00\",\"2010-01-03T22:00:00\",\"2010-01-03T23:00:00\",\"2010-01-04T00:00:00\",\"2010-01-04T01:00:00\",\"2010-01-04T02:00:00\",\"2010-01-04T03:00:00\",\"2010-01-04T04:00:00\",\"2010-01-04T05:00:00\",\"2010-01-04T06:00:00\",\"2010-01-04T07:00:00\",\"2010-01-04T08:00:00\",\"2010-01-04T09:00:00\",\"2010-01-04T10:00:00\",\"2010-01-04T11:00:00\",\"2010-01-04T12:00:00\",\"2010-01-04T13:00:00\",\"2010-01-04T14:00:00\",\"2010-01-04T15:00:00\",\"2010-01-04T16:00:00\",\"2010-01-04T17:00:00\",\"2010-01-04T18:00:00\",\"2010-01-04T19:00:00\",\"2010-01-04T20:00:00\",\"2010-01-04T21:00:00\",\"2010-01-04T22:00:00\",\"2010-01-04T23:00:00\",\"2010-01-05T00:00:00\",\"2010-01-05T01:00:00\",\"2010-01-05T02:00:00\",\"2010-01-05T03:00:00\",\"2010-01-05T04:00:00\",\"2010-01-05T05:00:00\",\"2010-01-05T06:00:00\",\"2010-01-05T07:00:00\",\"2010-01-05T08:00:00\",\"2010-01-05T09:00:00\",\"2010-01-05T10:00:00\",\"2010-01-05T11:00:00\",\"2010-01-05T12:00:00\",\"2010-01-05T13:00:00\",\"2010-01-05T14:00:00\",\"2010-01-05T15:00:00\",\"2010-01-05T16:00:00\",\"2010-01-05T17:00:00\",\"2010-01-05T18:00:00\",\"2010-01-05T19:00:00\",\"2010-01-05T20:00:00\",\"2010-01-05T21:00:00\",\"2010-01-05T22:00:00\",\"2010-01-05T23:00:00\",\"2010-01-06T00:00:00\",\"2010-01-06T01:00:00\",\"2010-01-06T02:00:00\",\"2010-01-06T03:00:00\",\"2010-01-06T04:00:00\",\"2010-01-06T05:00:00\",\"2010-01-06T06:00:00\",\"2010-01-06T07:00:00\",\"2010-01-06T08:00:00\",\"2010-01-06T09:00:00\",\"2010-01-06T10:00:00\",\"2010-01-06T11:00:00\",\"2010-01-06T12:00:00\",\"2010-01-06T13:00:00\",\"2010-01-06T14:00:00\",\"2010-01-06T15:00:00\",\"2010-01-06T16:00:00\",\"2010-01-06T17:00:00\",\"2010-01-06T18:00:00\",\"2010-01-06T19:00:00\",\"2010-01-06T20:00:00\",\"2010-01-06T21:00:00\",\"2010-01-06T22:00:00\",\"2010-01-06T23:00:00\",\"2010-01-07T00:00:00\",\"2010-01-07T01:00:00\",\"2010-01-07T02:00:00\",\"2010-01-07T03:00:00\",\"2010-01-07T04:00:00\",\"2010-01-07T05:00:00\",\"2010-01-07T06:00:00\",\"2010-01-07T07:00:00\",\"2010-01-07T08:00:00\",\"2010-01-07T09:00:00\",\"2010-01-07T10:00:00\",\"2010-01-07T11:00:00\",\"2010-01-07T12:00:00\",\"2010-01-07T13:00:00\",\"2010-01-07T14:00:00\",\"2010-01-07T15:00:00\",\"2010-01-07T16:00:00\",\"2010-01-07T17:00:00\",\"2010-01-07T18:00:00\",\"2010-01-07T19:00:00\",\"2010-01-07T20:00:00\",\"2010-01-07T21:00:00\",\"2010-01-07T22:00:00\",\"2010-01-07T23:00:00\",\"2010-01-08T00:00:00\",\"2010-01-08T01:00:00\",\"2010-01-08T02:00:00\",\"2010-01-08T03:00:00\",\"2010-01-08T04:00:00\",\"2010-01-08T05:00:00\",\"2010-01-08T06:00:00\",\"2010-01-08T07:00:00\",\"2010-01-08T08:00:00\",\"2010-01-08T09:00:00\",\"2010-01-08T10:00:00\",\"2010-01-08T11:00:00\",\"2010-01-08T12:00:00\",\"2010-01-08T13:00:00\",\"2010-01-08T14:00:00\",\"2010-01-08T15:00:00\",\"2010-01-08T16:00:00\",\"2010-01-08T17:00:00\",\"2010-01-08T18:00:00\",\"2010-01-08T19:00:00\",\"2010-01-08T20:00:00\",\"2010-01-08T21:00:00\",\"2010-01-08T22:00:00\",\"2010-01-08T23:00:00\",\"2010-01-09T00:00:00\",\"2010-01-09T01:00:00\",\"2010-01-09T02:00:00\",\"2010-01-09T03:00:00\",\"2010-01-09T04:00:00\",\"2010-01-09T05:00:00\",\"2010-01-09T06:00:00\",\"2010-01-09T07:00:00\",\"2010-01-09T08:00:00\",\"2010-01-09T09:00:00\",\"2010-01-09T10:00:00\",\"2010-01-09T11:00:00\",\"2010-01-09T12:00:00\",\"2010-01-09T13:00:00\",\"2010-01-09T14:00:00\",\"2010-01-09T15:00:00\",\"2010-01-09T16:00:00\",\"2010-01-09T17:00:00\",\"2010-01-09T18:00:00\",\"2010-01-09T19:00:00\",\"2010-01-09T20:00:00\",\"2010-01-09T21:00:00\",\"2010-01-09T22:00:00\",\"2010-01-09T23:00:00\",\"2010-01-10T00:00:00\",\"2010-01-10T01:00:00\",\"2010-01-10T02:00:00\",\"2010-01-10T03:00:00\",\"2010-01-10T04:00:00\",\"2010-01-10T05:00:00\",\"2010-01-10T06:00:00\",\"2010-01-10T07:00:00\",\"2010-01-10T08:00:00\",\"2010-01-10T09:00:00\",\"2010-01-10T10:00:00\",\"2010-01-10T11:00:00\",\"2010-01-10T12:00:00\",\"2010-01-10T13:00:00\",\"2010-01-10T14:00:00\",\"2010-01-10T15:00:00\",\"2010-01-10T16:00:00\",\"2010-01-10T17:00:00\",\"2010-01-10T18:00:00\",\"2010-01-10T19:00:00\",\"2010-01-10T20:00:00\",\"2010-01-10T21:00:00\",\"2010-01-10T22:00:00\",\"2010-01-10T23:00:00\",\"2010-01-11T00:00:00\",\"2010-01-11T01:00:00\",\"2010-01-11T02:00:00\",\"2010-01-11T03:00:00\",\"2010-01-11T04:00:00\",\"2010-01-11T05:00:00\",\"2010-01-11T06:00:00\",\"2010-01-11T07:00:00\",\"2010-01-11T08:00:00\",\"2010-01-11T09:00:00\",\"2010-01-11T10:00:00\",\"2010-01-11T11:00:00\",\"2010-01-11T12:00:00\",\"2010-01-11T13:00:00\",\"2010-01-11T14:00:00\",\"2010-01-11T15:00:00\",\"2010-01-11T16:00:00\",\"2010-01-11T17:00:00\",\"2010-01-11T18:00:00\",\"2010-01-11T19:00:00\",\"2010-01-11T20:00:00\",\"2010-01-11T21:00:00\",\"2010-01-11T22:00:00\",\"2010-01-11T23:00:00\",\"2010-01-12T00:00:00\",\"2010-01-12T01:00:00\",\"2010-01-12T02:00:00\",\"2010-01-12T03:00:00\",\"2010-01-12T04:00:00\",\"2010-01-12T05:00:00\",\"2010-01-12T06:00:00\",\"2010-01-12T07:00:00\",\"2010-01-12T08:00:00\",\"2010-01-12T09:00:00\",\"2010-01-12T10:00:00\",\"2010-01-12T11:00:00\",\"2010-01-12T12:00:00\",\"2010-01-12T13:00:00\",\"2010-01-12T14:00:00\",\"2010-01-12T15:00:00\",\"2010-01-12T16:00:00\",\"2010-01-12T17:00:00\",\"2010-01-12T18:00:00\",\"2010-01-12T19:00:00\",\"2010-01-12T20:00:00\",\"2010-01-12T21:00:00\",\"2010-01-12T22:00:00\",\"2010-01-12T23:00:00\",\"2010-01-13T00:00:00\",\"2010-01-13T01:00:00\",\"2010-01-13T02:00:00\",\"2010-01-13T03:00:00\",\"2010-01-13T04:00:00\",\"2010-01-13T05:00:00\",\"2010-01-13T06:00:00\",\"2010-01-13T07:00:00\",\"2010-01-13T08:00:00\",\"2010-01-13T09:00:00\",\"2010-01-13T10:00:00\",\"2010-01-13T11:00:00\",\"2010-01-13T12:00:00\",\"2010-01-13T13:00:00\",\"2010-01-13T14:00:00\",\"2010-01-13T15:00:00\",\"2010-01-13T16:00:00\",\"2010-01-13T17:00:00\",\"2010-01-13T18:00:00\",\"2010-01-13T19:00:00\",\"2010-01-13T20:00:00\",\"2010-01-13T21:00:00\",\"2010-01-13T22:00:00\",\"2010-01-13T23:00:00\",\"2010-01-14T00:00:00\",\"2010-01-14T01:00:00\",\"2010-01-14T02:00:00\",\"2010-01-14T03:00:00\",\"2010-01-14T04:00:00\",\"2010-01-14T05:00:00\",\"2010-01-14T06:00:00\",\"2010-01-14T07:00:00\",\"2010-01-14T08:00:00\",\"2010-01-14T09:00:00\",\"2010-01-14T10:00:00\",\"2010-01-14T11:00:00\"],\"y\":[1020.0,1020.0,1021.0,1022.0,1022.0,1022.0,1023.0,1024.0,1024.0,1025.0,1026.0,1026.0,1026.0,1025.0,1025.0,1025.0,1026.0,1027.0,1027.0,1028.0,1028.0,1027.0,1028.0,1027.0,1027.0,1026.0,1026.0,1025.0,1024.0,1024.0,1024.0,1024.0,1024.0,1023.0,1023.0,1022.0,1021.0,1020.0,1020.0,1020.0,1020.0,1020.0,1021.0,1022.0,1022.0,1023.0,1023.0,1023.0,1023.0,1023.0,1024.0,1024.0,1025.0,1026.0,1027.0,1027.0,1028.0,1029.0,1030.0,1031.0,1030.0,1030.0,1030.0,1030.0,1031.0,1032.0,1032.0,1033.0,1034.0,1034.0,1035.0,1035.0,1035.0,1035.0,1035.0,1035.0,1035.0,1034.0,1035.0,1034.0,1035.0,1035.0,1035.0,1035.0,1034.0,1032.0,1032.0,1031.0,1031.0,1031.0,1032.0,1033.0,1033.0,1033.0,1034.0,1033.0,1033.0,1033.0,1034.0,1033.0,1033.0,1033.0,1033.0,1034.0,1034.0,1035.0,1035.0,1035.0,1034.0,1033.0,1033.0,1033.0,1033.0,1033.0,1033.0,1034.0,1035.0,1034.0,1035.0,1035.0,1035.0,1035.0,1036.0,1036.0,1035.0,1035.0,1035.0,1036.0,1036.0,1036.0,1036.0,1036.0,1035.0,1034.0,1033.0,1032.0,1032.0,1032.0,1032.0,1033.0,1032.0,1032.0,1032.0,1032.0,1031.0,1031.0,1031.0,1030.0,1030.0,1029.0,1029.0,1029.0,1029.0,1030.0,1030.0,1029.0,1028.0,1026.0,1026.0,1025.0,1025.0,1025.0,1026.0,1026.0,1026.0,1027.0,1027.0,1027.0,1027.0,1027.0,1027.0,1027.0,1027.0,1027.0,1027.0,1027.0,1028.0,1029.0,1029.0,1030.0,1029.0,1029.0,1029.0,1028.0,1029.0,1030.0,1030.0,1031.0,1032.0,1032.0,1033.0,1033.0,1033.0,1033.0,1033.0,1033.0,1032.0,1032.0,1032.0,1033.0,1034.0,1033.0,1033.0,1033.0,1032.0,1031.0,1031.0,1030.0,1031.0,1031.0,1032.0,1032.0,1033.0,1034.0,1034.0,1035.0,1035.0,1035.0,1036.0,1036.0,1035.0,1035.0,1035.0,1036.0,1036.0,1036.0,1036.0,1036.0,1035.0,1034.0,1033.0,1033.0,1032.0,1033.0,1033.0,1033.0,1033.0,1033.0,1033.0,1032.0,1031.0,1031.0,1031.0,1030.0,1030.0,1030.0,1030.0,1030.0,1030.0,1031.0,1031.0,1030.0,1029.0,1029.0,1029.0,1029.0,1030.0,1030.0,1032.0,1032.0,1032.0,1033.0,1033.0,1034.0,1034.0,1033.0,1033.0,1033.0,1032.0,1033.0,1032.0,1032.0,1032.0,1033.0,1033.0,1033.0,1031.0,1030.0,1029.0,1028.0,1028.0,1028.0,1028.0,1028.0,1027.0,1027.0,1027.0,1027.0,1026.0,1025.0,1025.0,1025.0,1024.0,1024.0,1023.0,1023.0,1024.0,1024.0,1024.0,1023.0],\"type\":\"scattergl\",\"xaxis\":\"x4\",\"yaxis\":\"y4\"},{\"line\":{\"color\":\"rgb(31, 119, 180)\",\"width\":2},\"marker\":{\"color\":\"rgb(31, 119, 180)\",\"size\":5},\"mode\":\"lines+markers\",\"name\":\"wnd_spd (original)\",\"x\":[\"2010-01-02T00:00:00\",\"2010-01-02T01:00:00\",\"2010-01-02T02:00:00\",\"2010-01-02T03:00:00\",\"2010-01-02T04:00:00\",\"2010-01-02T05:00:00\",\"2010-01-02T06:00:00\",\"2010-01-02T07:00:00\",\"2010-01-02T08:00:00\",\"2010-01-02T09:00:00\",\"2010-01-02T10:00:00\",\"2010-01-02T11:00:00\",\"2010-01-02T12:00:00\",\"2010-01-02T13:00:00\",\"2010-01-02T14:00:00\",\"2010-01-02T15:00:00\",\"2010-01-02T16:00:00\",\"2010-01-02T17:00:00\",\"2010-01-02T18:00:00\",\"2010-01-02T19:00:00\",\"2010-01-02T20:00:00\",\"2010-01-02T21:00:00\",\"2010-01-02T22:00:00\",\"2010-01-02T23:00:00\",\"2010-01-03T00:00:00\",\"2010-01-03T01:00:00\",\"2010-01-03T02:00:00\",\"2010-01-03T03:00:00\",\"2010-01-03T04:00:00\",\"2010-01-03T05:00:00\",\"2010-01-03T06:00:00\",\"2010-01-03T07:00:00\",\"2010-01-03T08:00:00\",\"2010-01-03T09:00:00\",\"2010-01-03T10:00:00\",\"2010-01-03T11:00:00\",\"2010-01-03T12:00:00\",\"2010-01-03T13:00:00\",\"2010-01-03T14:00:00\",\"2010-01-03T15:00:00\",\"2010-01-03T16:00:00\",\"2010-01-03T17:00:00\",\"2010-01-03T18:00:00\",\"2010-01-03T19:00:00\",\"2010-01-03T20:00:00\",\"2010-01-03T21:00:00\",\"2010-01-03T22:00:00\",\"2010-01-03T23:00:00\",\"2010-01-04T00:00:00\",\"2010-01-04T01:00:00\",\"2010-01-04T02:00:00\",\"2010-01-04T03:00:00\",\"2010-01-04T04:00:00\",\"2010-01-04T05:00:00\",\"2010-01-04T06:00:00\",\"2010-01-04T07:00:00\",\"2010-01-04T08:00:00\",\"2010-01-04T09:00:00\",\"2010-01-04T10:00:00\",\"2010-01-04T11:00:00\",\"2010-01-04T12:00:00\",\"2010-01-04T13:00:00\",\"2010-01-04T14:00:00\",\"2010-01-04T15:00:00\",\"2010-01-04T16:00:00\",\"2010-01-04T17:00:00\",\"2010-01-04T18:00:00\",\"2010-01-04T19:00:00\",\"2010-01-04T20:00:00\",\"2010-01-04T21:00:00\",\"2010-01-04T22:00:00\",\"2010-01-04T23:00:00\",\"2010-01-05T00:00:00\",\"2010-01-05T01:00:00\",\"2010-01-05T02:00:00\",\"2010-01-05T03:00:00\",\"2010-01-05T04:00:00\",\"2010-01-05T05:00:00\",\"2010-01-05T06:00:00\",\"2010-01-05T07:00:00\",\"2010-01-05T08:00:00\",\"2010-01-05T09:00:00\",\"2010-01-05T10:00:00\",\"2010-01-05T11:00:00\",\"2010-01-05T12:00:00\",\"2010-01-05T13:00:00\",\"2010-01-05T14:00:00\",\"2010-01-05T15:00:00\",\"2010-01-05T16:00:00\",\"2010-01-05T17:00:00\",\"2010-01-05T18:00:00\",\"2010-01-05T19:00:00\",\"2010-01-05T20:00:00\",\"2010-01-05T21:00:00\",\"2010-01-05T22:00:00\",\"2010-01-05T23:00:00\",\"2010-01-06T00:00:00\",\"2010-01-06T01:00:00\",\"2010-01-06T02:00:00\",\"2010-01-06T03:00:00\",\"2010-01-06T04:00:00\",\"2010-01-06T05:00:00\",\"2010-01-06T06:00:00\",\"2010-01-06T07:00:00\",\"2010-01-06T08:00:00\",\"2010-01-06T09:00:00\",\"2010-01-06T10:00:00\",\"2010-01-06T11:00:00\",\"2010-01-06T12:00:00\",\"2010-01-06T13:00:00\",\"2010-01-06T14:00:00\",\"2010-01-06T15:00:00\",\"2010-01-06T16:00:00\",\"2010-01-06T17:00:00\",\"2010-01-06T18:00:00\",\"2010-01-06T19:00:00\",\"2010-01-06T20:00:00\",\"2010-01-06T21:00:00\",\"2010-01-06T22:00:00\",\"2010-01-06T23:00:00\",\"2010-01-07T00:00:00\",\"2010-01-07T01:00:00\",\"2010-01-07T02:00:00\",\"2010-01-07T03:00:00\",\"2010-01-07T04:00:00\",\"2010-01-07T05:00:00\",\"2010-01-07T06:00:00\",\"2010-01-07T07:00:00\",\"2010-01-07T08:00:00\",\"2010-01-07T09:00:00\",\"2010-01-07T10:00:00\",\"2010-01-07T11:00:00\",\"2010-01-07T12:00:00\",\"2010-01-07T13:00:00\",\"2010-01-07T14:00:00\",\"2010-01-07T15:00:00\",\"2010-01-07T16:00:00\",\"2010-01-07T17:00:00\",\"2010-01-07T18:00:00\",\"2010-01-07T19:00:00\",\"2010-01-07T20:00:00\",\"2010-01-07T21:00:00\",\"2010-01-07T22:00:00\",\"2010-01-07T23:00:00\",\"2010-01-08T00:00:00\",\"2010-01-08T01:00:00\",\"2010-01-08T02:00:00\",\"2010-01-08T03:00:00\",\"2010-01-08T04:00:00\",\"2010-01-08T05:00:00\",\"2010-01-08T06:00:00\",\"2010-01-08T07:00:00\",\"2010-01-08T08:00:00\",\"2010-01-08T09:00:00\",\"2010-01-08T10:00:00\",\"2010-01-08T11:00:00\",\"2010-01-08T12:00:00\",\"2010-01-08T13:00:00\",\"2010-01-08T14:00:00\",\"2010-01-08T15:00:00\",\"2010-01-08T16:00:00\",\"2010-01-08T17:00:00\",\"2010-01-08T18:00:00\",\"2010-01-08T19:00:00\",\"2010-01-08T20:00:00\",\"2010-01-08T21:00:00\",\"2010-01-08T22:00:00\",\"2010-01-08T23:00:00\",\"2010-01-09T00:00:00\",\"2010-01-09T01:00:00\",\"2010-01-09T02:00:00\",\"2010-01-09T03:00:00\",\"2010-01-09T04:00:00\",\"2010-01-09T05:00:00\",\"2010-01-09T06:00:00\",\"2010-01-09T07:00:00\",\"2010-01-09T08:00:00\",\"2010-01-09T09:00:00\",\"2010-01-09T10:00:00\",\"2010-01-09T11:00:00\",\"2010-01-09T12:00:00\",\"2010-01-09T13:00:00\",\"2010-01-09T14:00:00\",\"2010-01-09T15:00:00\",\"2010-01-09T16:00:00\",\"2010-01-09T17:00:00\",\"2010-01-09T18:00:00\",\"2010-01-09T19:00:00\",\"2010-01-09T20:00:00\",\"2010-01-09T21:00:00\",\"2010-01-09T22:00:00\",\"2010-01-09T23:00:00\",\"2010-01-10T00:00:00\",\"2010-01-10T01:00:00\",\"2010-01-10T02:00:00\",\"2010-01-10T03:00:00\",\"2010-01-10T04:00:00\",\"2010-01-10T05:00:00\",\"2010-01-10T06:00:00\",\"2010-01-10T07:00:00\",\"2010-01-10T08:00:00\",\"2010-01-10T09:00:00\",\"2010-01-10T10:00:00\",\"2010-01-10T11:00:00\",\"2010-01-10T12:00:00\",\"2010-01-10T13:00:00\",\"2010-01-10T14:00:00\",\"2010-01-10T15:00:00\",\"2010-01-10T16:00:00\",\"2010-01-10T17:00:00\",\"2010-01-10T18:00:00\",\"2010-01-10T19:00:00\",\"2010-01-10T20:00:00\",\"2010-01-10T21:00:00\",\"2010-01-10T22:00:00\",\"2010-01-10T23:00:00\",\"2010-01-11T00:00:00\",\"2010-01-11T01:00:00\",\"2010-01-11T02:00:00\",\"2010-01-11T03:00:00\",\"2010-01-11T04:00:00\",\"2010-01-11T05:00:00\",\"2010-01-11T06:00:00\",\"2010-01-11T07:00:00\",\"2010-01-11T08:00:00\",\"2010-01-11T09:00:00\",\"2010-01-11T10:00:00\",\"2010-01-11T11:00:00\",\"2010-01-11T12:00:00\",\"2010-01-11T13:00:00\",\"2010-01-11T14:00:00\",\"2010-01-11T15:00:00\",\"2010-01-11T16:00:00\",\"2010-01-11T17:00:00\",\"2010-01-11T18:00:00\",\"2010-01-11T19:00:00\",\"2010-01-11T20:00:00\",\"2010-01-11T21:00:00\",\"2010-01-11T22:00:00\",\"2010-01-11T23:00:00\",\"2010-01-12T00:00:00\",\"2010-01-12T01:00:00\",\"2010-01-12T02:00:00\",\"2010-01-12T03:00:00\",\"2010-01-12T04:00:00\",\"2010-01-12T05:00:00\",\"2010-01-12T06:00:00\",\"2010-01-12T07:00:00\",\"2010-01-12T08:00:00\",\"2010-01-12T09:00:00\",\"2010-01-12T10:00:00\",\"2010-01-12T11:00:00\",\"2010-01-12T12:00:00\",\"2010-01-12T13:00:00\",\"2010-01-12T14:00:00\",\"2010-01-12T15:00:00\",\"2010-01-12T16:00:00\",\"2010-01-12T17:00:00\",\"2010-01-12T18:00:00\",\"2010-01-12T19:00:00\",\"2010-01-12T20:00:00\",\"2010-01-12T21:00:00\",\"2010-01-12T22:00:00\",\"2010-01-12T23:00:00\",\"2010-01-13T00:00:00\",\"2010-01-13T01:00:00\",\"2010-01-13T02:00:00\",\"2010-01-13T03:00:00\",\"2010-01-13T04:00:00\",\"2010-01-13T05:00:00\",\"2010-01-13T06:00:00\",\"2010-01-13T07:00:00\",\"2010-01-13T08:00:00\",\"2010-01-13T09:00:00\",\"2010-01-13T10:00:00\",\"2010-01-13T11:00:00\",\"2010-01-13T12:00:00\",\"2010-01-13T13:00:00\",\"2010-01-13T14:00:00\",\"2010-01-13T15:00:00\",\"2010-01-13T16:00:00\",\"2010-01-13T17:00:00\",\"2010-01-13T18:00:00\",\"2010-01-13T19:00:00\",\"2010-01-13T20:00:00\",\"2010-01-13T21:00:00\",\"2010-01-13T22:00:00\",\"2010-01-13T23:00:00\",\"2010-01-14T00:00:00\",\"2010-01-14T01:00:00\",\"2010-01-14T02:00:00\",\"2010-01-14T03:00:00\",\"2010-01-14T04:00:00\",\"2010-01-14T05:00:00\",\"2010-01-14T06:00:00\",\"2010-01-14T07:00:00\",\"2010-01-14T08:00:00\",\"2010-01-14T09:00:00\",\"2010-01-14T10:00:00\",\"2010-01-14T11:00:00\"],\"y\":[1.79,2.68,3.57,5.36,6.25,7.14,8.93,10.72,12.51,14.3,17.43,20.56,23.69,27.71,31.73,35.75,37.54,39.33,42.46,44.25,46.04,49.17,52.3,55.43,58.56,61.69,65.71,68.84,72.86,76.88,80.9,84.92,89.84,93.86,97.88,102.8,105.93,111.74,116.66,121.58,124.71,127.84,0.89,1.78,4.02,7.15,11.17,14.3,16.09,21.9,29.95,39.78,48.72,55.87,64.81,73.75,80.9,90.73,100.56,108.61,117.55,127.38,136.32,145.26,152.41,159.56,165.37,171.18,180.12,187.27,195.32,198.45,201.58,205.6,208.73,213.65,218.57,4.92,8.05,13.86,18.78,24.59,29.51,34.43,39.35,41.14,0.89,1.79,3.58,5.37,7.16,10.29,13.42,16.55,20.57,23.7,26.83,4.02,8.04,13.85,17.87,23.68,28.6,33.52,39.33,44.25,50.06,54.98,59.0,4.02,5.81,0.89,1.79,3.58,5.37,0.89,1.79,3.58,5.37,7.16,8.95,0.45,1.34,4.02,7.15,10.28,14.3,4.92,4.02,8.94,12.96,16.09,19.22,21.01,22.8,24.59,26.38,28.17,0.89,1.79,1.79,0.45,1.34,2.23,1.79,3.58,0.89,0.89,0.45,1.34,1.79,0.89,0.89,1.78,0.89,0.89,3.13,4.92,0.89,1.78,2.67,0.89,0.45,1.34,1.79,1.79,4.92,6.71,0.89,3.13,4.92,8.05,9.84,13.86,17.88,21.9,25.92,5.81,11.62,17.43,23.24,28.16,33.08,37.1,38.89,1.79,3.13,3.13,4.92,3.13,0.45,0.9,0.89,1.78,4.91,8.04,9.83,12.96,16.09,19.22,22.35,24.14,4.02,3.13,6.26,9.39,12.52,14.31,16.1,19.23,23.25,27.27,30.4,35.32,44.26,52.31,60.36,0.89,4.02,8.94,4.02,3.13,4.92,5.81,13.86,21.91,29.06,33.08,42.02,50.96,59.01,66.16,71.97,76.89,81.81,85.83,89.85,91.64,93.43,0.89,1.78,1.79,0.89,1.79,3.58,3.13,7.15,12.96,16.98,21.0,26.81,35.75,47.82,63.02,75.98,88.05,101.01,109.06,118.0,126.05,134.1,142.15,150.2,160.03,169.86,178.8,189.98,198.03,205.18,215.01,226.19,235.13,243.18,252.12,257.93,263.74,270.89,278.94,286.99,294.14,299.06,1.79,0.45,1.34,1.79,0.89,1.78,0.89,1.78,2.67,0.89,1.78,3.57,6.7,10.72,13.85,15.64,18.77,22.79,24.58],\"type\":\"scattergl\",\"xaxis\":\"x5\",\"yaxis\":\"y5\"},{\"line\":{\"color\":\"rgb(31, 119, 180)\",\"width\":2},\"marker\":{\"color\":\"rgb(31, 119, 180)\",\"size\":5},\"mode\":\"lines+markers\",\"name\":\"snow (original)\",\"x\":[\"2010-01-02T00:00:00\",\"2010-01-02T01:00:00\",\"2010-01-02T02:00:00\",\"2010-01-02T03:00:00\",\"2010-01-02T04:00:00\",\"2010-01-02T05:00:00\",\"2010-01-02T06:00:00\",\"2010-01-02T07:00:00\",\"2010-01-02T08:00:00\",\"2010-01-02T09:00:00\",\"2010-01-02T10:00:00\",\"2010-01-02T11:00:00\",\"2010-01-02T12:00:00\",\"2010-01-02T13:00:00\",\"2010-01-02T14:00:00\",\"2010-01-02T15:00:00\",\"2010-01-02T16:00:00\",\"2010-01-02T17:00:00\",\"2010-01-02T18:00:00\",\"2010-01-02T19:00:00\",\"2010-01-02T20:00:00\",\"2010-01-02T21:00:00\",\"2010-01-02T22:00:00\",\"2010-01-02T23:00:00\",\"2010-01-03T00:00:00\",\"2010-01-03T01:00:00\",\"2010-01-03T02:00:00\",\"2010-01-03T03:00:00\",\"2010-01-03T04:00:00\",\"2010-01-03T05:00:00\",\"2010-01-03T06:00:00\",\"2010-01-03T07:00:00\",\"2010-01-03T08:00:00\",\"2010-01-03T09:00:00\",\"2010-01-03T10:00:00\",\"2010-01-03T11:00:00\",\"2010-01-03T12:00:00\",\"2010-01-03T13:00:00\",\"2010-01-03T14:00:00\",\"2010-01-03T15:00:00\",\"2010-01-03T16:00:00\",\"2010-01-03T17:00:00\",\"2010-01-03T18:00:00\",\"2010-01-03T19:00:00\",\"2010-01-03T20:00:00\",\"2010-01-03T21:00:00\",\"2010-01-03T22:00:00\",\"2010-01-03T23:00:00\",\"2010-01-04T00:00:00\",\"2010-01-04T01:00:00\",\"2010-01-04T02:00:00\",\"2010-01-04T03:00:00\",\"2010-01-04T04:00:00\",\"2010-01-04T05:00:00\",\"2010-01-04T06:00:00\",\"2010-01-04T07:00:00\",\"2010-01-04T08:00:00\",\"2010-01-04T09:00:00\",\"2010-01-04T10:00:00\",\"2010-01-04T11:00:00\",\"2010-01-04T12:00:00\",\"2010-01-04T13:00:00\",\"2010-01-04T14:00:00\",\"2010-01-04T15:00:00\",\"2010-01-04T16:00:00\",\"2010-01-04T17:00:00\",\"2010-01-04T18:00:00\",\"2010-01-04T19:00:00\",\"2010-01-04T20:00:00\",\"2010-01-04T21:00:00\",\"2010-01-04T22:00:00\",\"2010-01-04T23:00:00\",\"2010-01-05T00:00:00\",\"2010-01-05T01:00:00\",\"2010-01-05T02:00:00\",\"2010-01-05T03:00:00\",\"2010-01-05T04:00:00\",\"2010-01-05T05:00:00\",\"2010-01-05T06:00:00\",\"2010-01-05T07:00:00\",\"2010-01-05T08:00:00\",\"2010-01-05T09:00:00\",\"2010-01-05T10:00:00\",\"2010-01-05T11:00:00\",\"2010-01-05T12:00:00\",\"2010-01-05T13:00:00\",\"2010-01-05T14:00:00\",\"2010-01-05T15:00:00\",\"2010-01-05T16:00:00\",\"2010-01-05T17:00:00\",\"2010-01-05T18:00:00\",\"2010-01-05T19:00:00\",\"2010-01-05T20:00:00\",\"2010-01-05T21:00:00\",\"2010-01-05T22:00:00\",\"2010-01-05T23:00:00\",\"2010-01-06T00:00:00\",\"2010-01-06T01:00:00\",\"2010-01-06T02:00:00\",\"2010-01-06T03:00:00\",\"2010-01-06T04:00:00\",\"2010-01-06T05:00:00\",\"2010-01-06T06:00:00\",\"2010-01-06T07:00:00\",\"2010-01-06T08:00:00\",\"2010-01-06T09:00:00\",\"2010-01-06T10:00:00\",\"2010-01-06T11:00:00\",\"2010-01-06T12:00:00\",\"2010-01-06T13:00:00\",\"2010-01-06T14:00:00\",\"2010-01-06T15:00:00\",\"2010-01-06T16:00:00\",\"2010-01-06T17:00:00\",\"2010-01-06T18:00:00\",\"2010-01-06T19:00:00\",\"2010-01-06T20:00:00\",\"2010-01-06T21:00:00\",\"2010-01-06T22:00:00\",\"2010-01-06T23:00:00\",\"2010-01-07T00:00:00\",\"2010-01-07T01:00:00\",\"2010-01-07T02:00:00\",\"2010-01-07T03:00:00\",\"2010-01-07T04:00:00\",\"2010-01-07T05:00:00\",\"2010-01-07T06:00:00\",\"2010-01-07T07:00:00\",\"2010-01-07T08:00:00\",\"2010-01-07T09:00:00\",\"2010-01-07T10:00:00\",\"2010-01-07T11:00:00\",\"2010-01-07T12:00:00\",\"2010-01-07T13:00:00\",\"2010-01-07T14:00:00\",\"2010-01-07T15:00:00\",\"2010-01-07T16:00:00\",\"2010-01-07T17:00:00\",\"2010-01-07T18:00:00\",\"2010-01-07T19:00:00\",\"2010-01-07T20:00:00\",\"2010-01-07T21:00:00\",\"2010-01-07T22:00:00\",\"2010-01-07T23:00:00\",\"2010-01-08T00:00:00\",\"2010-01-08T01:00:00\",\"2010-01-08T02:00:00\",\"2010-01-08T03:00:00\",\"2010-01-08T04:00:00\",\"2010-01-08T05:00:00\",\"2010-01-08T06:00:00\",\"2010-01-08T07:00:00\",\"2010-01-08T08:00:00\",\"2010-01-08T09:00:00\",\"2010-01-08T10:00:00\",\"2010-01-08T11:00:00\",\"2010-01-08T12:00:00\",\"2010-01-08T13:00:00\",\"2010-01-08T14:00:00\",\"2010-01-08T15:00:00\",\"2010-01-08T16:00:00\",\"2010-01-08T17:00:00\",\"2010-01-08T18:00:00\",\"2010-01-08T19:00:00\",\"2010-01-08T20:00:00\",\"2010-01-08T21:00:00\",\"2010-01-08T22:00:00\",\"2010-01-08T23:00:00\",\"2010-01-09T00:00:00\",\"2010-01-09T01:00:00\",\"2010-01-09T02:00:00\",\"2010-01-09T03:00:00\",\"2010-01-09T04:00:00\",\"2010-01-09T05:00:00\",\"2010-01-09T06:00:00\",\"2010-01-09T07:00:00\",\"2010-01-09T08:00:00\",\"2010-01-09T09:00:00\",\"2010-01-09T10:00:00\",\"2010-01-09T11:00:00\",\"2010-01-09T12:00:00\",\"2010-01-09T13:00:00\",\"2010-01-09T14:00:00\",\"2010-01-09T15:00:00\",\"2010-01-09T16:00:00\",\"2010-01-09T17:00:00\",\"2010-01-09T18:00:00\",\"2010-01-09T19:00:00\",\"2010-01-09T20:00:00\",\"2010-01-09T21:00:00\",\"2010-01-09T22:00:00\",\"2010-01-09T23:00:00\",\"2010-01-10T00:00:00\",\"2010-01-10T01:00:00\",\"2010-01-10T02:00:00\",\"2010-01-10T03:00:00\",\"2010-01-10T04:00:00\",\"2010-01-10T05:00:00\",\"2010-01-10T06:00:00\",\"2010-01-10T07:00:00\",\"2010-01-10T08:00:00\",\"2010-01-10T09:00:00\",\"2010-01-10T10:00:00\",\"2010-01-10T11:00:00\",\"2010-01-10T12:00:00\",\"2010-01-10T13:00:00\",\"2010-01-10T14:00:00\",\"2010-01-10T15:00:00\",\"2010-01-10T16:00:00\",\"2010-01-10T17:00:00\",\"2010-01-10T18:00:00\",\"2010-01-10T19:00:00\",\"2010-01-10T20:00:00\",\"2010-01-10T21:00:00\",\"2010-01-10T22:00:00\",\"2010-01-10T23:00:00\",\"2010-01-11T00:00:00\",\"2010-01-11T01:00:00\",\"2010-01-11T02:00:00\",\"2010-01-11T03:00:00\",\"2010-01-11T04:00:00\",\"2010-01-11T05:00:00\",\"2010-01-11T06:00:00\",\"2010-01-11T07:00:00\",\"2010-01-11T08:00:00\",\"2010-01-11T09:00:00\",\"2010-01-11T10:00:00\",\"2010-01-11T11:00:00\",\"2010-01-11T12:00:00\",\"2010-01-11T13:00:00\",\"2010-01-11T14:00:00\",\"2010-01-11T15:00:00\",\"2010-01-11T16:00:00\",\"2010-01-11T17:00:00\",\"2010-01-11T18:00:00\",\"2010-01-11T19:00:00\",\"2010-01-11T20:00:00\",\"2010-01-11T21:00:00\",\"2010-01-11T22:00:00\",\"2010-01-11T23:00:00\",\"2010-01-12T00:00:00\",\"2010-01-12T01:00:00\",\"2010-01-12T02:00:00\",\"2010-01-12T03:00:00\",\"2010-01-12T04:00:00\",\"2010-01-12T05:00:00\",\"2010-01-12T06:00:00\",\"2010-01-12T07:00:00\",\"2010-01-12T08:00:00\",\"2010-01-12T09:00:00\",\"2010-01-12T10:00:00\",\"2010-01-12T11:00:00\",\"2010-01-12T12:00:00\",\"2010-01-12T13:00:00\",\"2010-01-12T14:00:00\",\"2010-01-12T15:00:00\",\"2010-01-12T16:00:00\",\"2010-01-12T17:00:00\",\"2010-01-12T18:00:00\",\"2010-01-12T19:00:00\",\"2010-01-12T20:00:00\",\"2010-01-12T21:00:00\",\"2010-01-12T22:00:00\",\"2010-01-12T23:00:00\",\"2010-01-13T00:00:00\",\"2010-01-13T01:00:00\",\"2010-01-13T02:00:00\",\"2010-01-13T03:00:00\",\"2010-01-13T04:00:00\",\"2010-01-13T05:00:00\",\"2010-01-13T06:00:00\",\"2010-01-13T07:00:00\",\"2010-01-13T08:00:00\",\"2010-01-13T09:00:00\",\"2010-01-13T10:00:00\",\"2010-01-13T11:00:00\",\"2010-01-13T12:00:00\",\"2010-01-13T13:00:00\",\"2010-01-13T14:00:00\",\"2010-01-13T15:00:00\",\"2010-01-13T16:00:00\",\"2010-01-13T17:00:00\",\"2010-01-13T18:00:00\",\"2010-01-13T19:00:00\",\"2010-01-13T20:00:00\",\"2010-01-13T21:00:00\",\"2010-01-13T22:00:00\",\"2010-01-13T23:00:00\",\"2010-01-14T00:00:00\",\"2010-01-14T01:00:00\",\"2010-01-14T02:00:00\",\"2010-01-14T03:00:00\",\"2010-01-14T04:00:00\",\"2010-01-14T05:00:00\",\"2010-01-14T06:00:00\",\"2010-01-14T07:00:00\",\"2010-01-14T08:00:00\",\"2010-01-14T09:00:00\",\"2010-01-14T10:00:00\",\"2010-01-14T11:00:00\"],\"y\":[0,0,0,1,2,3,4,0,0,0,1,0,0,0,0,0,0,0,0,0,0,1,2,3,4,5,6,7,8,9,10,11,12,13,15,16,17,19,20,21,22,23,24,25,26,27,0,0,0,0,0,0,0,0,0,0,0,0,0,0,0,0,0,0,0,0,0,0,0,0,0,0,0,0,0,0,0,0,0,0,0,0,0,0,0,0,0,0,0,0,0,0,0,0,0,0,0,0,0,0,0,0,0,0,0,0,0,0,0,0,0,0,0,0,0,0,0,0,0,0,0,0,0,0,0,0,0,0,0,0,0,0,0,0,0,0,0,0,0,0,0,0,0,0,0,0,0,0,0,0,0,0,0,0,0,0,0,0,0,0,0,0,0,0,0,0,0,0,0,0,0,0,0,0,0,0,0,0,0,0,0,0,0,0,0,0,0,0,0,0,0,0,0,0,0,0,0,0,0,0,0,0,0,0,0,0,0,0,0,0,0,0,0,0,0,0,0,0,0,0,0,0,0,0,0,0,0,0,0,0,0,0,0,0,0,0,0,0,0,0,0,0,0,0,0,0,0,0,0,0,0,0,0,0,0,0,0,0,0,0,0,0,0,0,0,0,0,0,0,0,0,0,0,0,0,0,0,0,0,0,0,0,0,0,0,0,0,0,0,0,0,0,0,0,0,0,0,0,0,0],\"type\":\"scattergl\",\"xaxis\":\"x6\",\"yaxis\":\"y6\"},{\"line\":{\"color\":\"rgb(31, 119, 180)\",\"width\":2},\"marker\":{\"color\":\"rgb(31, 119, 180)\",\"size\":5},\"mode\":\"lines+markers\",\"name\":\"rain (original)\",\"x\":[\"2010-01-02T00:00:00\",\"2010-01-02T01:00:00\",\"2010-01-02T02:00:00\",\"2010-01-02T03:00:00\",\"2010-01-02T04:00:00\",\"2010-01-02T05:00:00\",\"2010-01-02T06:00:00\",\"2010-01-02T07:00:00\",\"2010-01-02T08:00:00\",\"2010-01-02T09:00:00\",\"2010-01-02T10:00:00\",\"2010-01-02T11:00:00\",\"2010-01-02T12:00:00\",\"2010-01-02T13:00:00\",\"2010-01-02T14:00:00\",\"2010-01-02T15:00:00\",\"2010-01-02T16:00:00\",\"2010-01-02T17:00:00\",\"2010-01-02T18:00:00\",\"2010-01-02T19:00:00\",\"2010-01-02T20:00:00\",\"2010-01-02T21:00:00\",\"2010-01-02T22:00:00\",\"2010-01-02T23:00:00\",\"2010-01-03T00:00:00\",\"2010-01-03T01:00:00\",\"2010-01-03T02:00:00\",\"2010-01-03T03:00:00\",\"2010-01-03T04:00:00\",\"2010-01-03T05:00:00\",\"2010-01-03T06:00:00\",\"2010-01-03T07:00:00\",\"2010-01-03T08:00:00\",\"2010-01-03T09:00:00\",\"2010-01-03T10:00:00\",\"2010-01-03T11:00:00\",\"2010-01-03T12:00:00\",\"2010-01-03T13:00:00\",\"2010-01-03T14:00:00\",\"2010-01-03T15:00:00\",\"2010-01-03T16:00:00\",\"2010-01-03T17:00:00\",\"2010-01-03T18:00:00\",\"2010-01-03T19:00:00\",\"2010-01-03T20:00:00\",\"2010-01-03T21:00:00\",\"2010-01-03T22:00:00\",\"2010-01-03T23:00:00\",\"2010-01-04T00:00:00\",\"2010-01-04T01:00:00\",\"2010-01-04T02:00:00\",\"2010-01-04T03:00:00\",\"2010-01-04T04:00:00\",\"2010-01-04T05:00:00\",\"2010-01-04T06:00:00\",\"2010-01-04T07:00:00\",\"2010-01-04T08:00:00\",\"2010-01-04T09:00:00\",\"2010-01-04T10:00:00\",\"2010-01-04T11:00:00\",\"2010-01-04T12:00:00\",\"2010-01-04T13:00:00\",\"2010-01-04T14:00:00\",\"2010-01-04T15:00:00\",\"2010-01-04T16:00:00\",\"2010-01-04T17:00:00\",\"2010-01-04T18:00:00\",\"2010-01-04T19:00:00\",\"2010-01-04T20:00:00\",\"2010-01-04T21:00:00\",\"2010-01-04T22:00:00\",\"2010-01-04T23:00:00\",\"2010-01-05T00:00:00\",\"2010-01-05T01:00:00\",\"2010-01-05T02:00:00\",\"2010-01-05T03:00:00\",\"2010-01-05T04:00:00\",\"2010-01-05T05:00:00\",\"2010-01-05T06:00:00\",\"2010-01-05T07:00:00\",\"2010-01-05T08:00:00\",\"2010-01-05T09:00:00\",\"2010-01-05T10:00:00\",\"2010-01-05T11:00:00\",\"2010-01-05T12:00:00\",\"2010-01-05T13:00:00\",\"2010-01-05T14:00:00\",\"2010-01-05T15:00:00\",\"2010-01-05T16:00:00\",\"2010-01-05T17:00:00\",\"2010-01-05T18:00:00\",\"2010-01-05T19:00:00\",\"2010-01-05T20:00:00\",\"2010-01-05T21:00:00\",\"2010-01-05T22:00:00\",\"2010-01-05T23:00:00\",\"2010-01-06T00:00:00\",\"2010-01-06T01:00:00\",\"2010-01-06T02:00:00\",\"2010-01-06T03:00:00\",\"2010-01-06T04:00:00\",\"2010-01-06T05:00:00\",\"2010-01-06T06:00:00\",\"2010-01-06T07:00:00\",\"2010-01-06T08:00:00\",\"2010-01-06T09:00:00\",\"2010-01-06T10:00:00\",\"2010-01-06T11:00:00\",\"2010-01-06T12:00:00\",\"2010-01-06T13:00:00\",\"2010-01-06T14:00:00\",\"2010-01-06T15:00:00\",\"2010-01-06T16:00:00\",\"2010-01-06T17:00:00\",\"2010-01-06T18:00:00\",\"2010-01-06T19:00:00\",\"2010-01-06T20:00:00\",\"2010-01-06T21:00:00\",\"2010-01-06T22:00:00\",\"2010-01-06T23:00:00\",\"2010-01-07T00:00:00\",\"2010-01-07T01:00:00\",\"2010-01-07T02:00:00\",\"2010-01-07T03:00:00\",\"2010-01-07T04:00:00\",\"2010-01-07T05:00:00\",\"2010-01-07T06:00:00\",\"2010-01-07T07:00:00\",\"2010-01-07T08:00:00\",\"2010-01-07T09:00:00\",\"2010-01-07T10:00:00\",\"2010-01-07T11:00:00\",\"2010-01-07T12:00:00\",\"2010-01-07T13:00:00\",\"2010-01-07T14:00:00\",\"2010-01-07T15:00:00\",\"2010-01-07T16:00:00\",\"2010-01-07T17:00:00\",\"2010-01-07T18:00:00\",\"2010-01-07T19:00:00\",\"2010-01-07T20:00:00\",\"2010-01-07T21:00:00\",\"2010-01-07T22:00:00\",\"2010-01-07T23:00:00\",\"2010-01-08T00:00:00\",\"2010-01-08T01:00:00\",\"2010-01-08T02:00:00\",\"2010-01-08T03:00:00\",\"2010-01-08T04:00:00\",\"2010-01-08T05:00:00\",\"2010-01-08T06:00:00\",\"2010-01-08T07:00:00\",\"2010-01-08T08:00:00\",\"2010-01-08T09:00:00\",\"2010-01-08T10:00:00\",\"2010-01-08T11:00:00\",\"2010-01-08T12:00:00\",\"2010-01-08T13:00:00\",\"2010-01-08T14:00:00\",\"2010-01-08T15:00:00\",\"2010-01-08T16:00:00\",\"2010-01-08T17:00:00\",\"2010-01-08T18:00:00\",\"2010-01-08T19:00:00\",\"2010-01-08T20:00:00\",\"2010-01-08T21:00:00\",\"2010-01-08T22:00:00\",\"2010-01-08T23:00:00\",\"2010-01-09T00:00:00\",\"2010-01-09T01:00:00\",\"2010-01-09T02:00:00\",\"2010-01-09T03:00:00\",\"2010-01-09T04:00:00\",\"2010-01-09T05:00:00\",\"2010-01-09T06:00:00\",\"2010-01-09T07:00:00\",\"2010-01-09T08:00:00\",\"2010-01-09T09:00:00\",\"2010-01-09T10:00:00\",\"2010-01-09T11:00:00\",\"2010-01-09T12:00:00\",\"2010-01-09T13:00:00\",\"2010-01-09T14:00:00\",\"2010-01-09T15:00:00\",\"2010-01-09T16:00:00\",\"2010-01-09T17:00:00\",\"2010-01-09T18:00:00\",\"2010-01-09T19:00:00\",\"2010-01-09T20:00:00\",\"2010-01-09T21:00:00\",\"2010-01-09T22:00:00\",\"2010-01-09T23:00:00\",\"2010-01-10T00:00:00\",\"2010-01-10T01:00:00\",\"2010-01-10T02:00:00\",\"2010-01-10T03:00:00\",\"2010-01-10T04:00:00\",\"2010-01-10T05:00:00\",\"2010-01-10T06:00:00\",\"2010-01-10T07:00:00\",\"2010-01-10T08:00:00\",\"2010-01-10T09:00:00\",\"2010-01-10T10:00:00\",\"2010-01-10T11:00:00\",\"2010-01-10T12:00:00\",\"2010-01-10T13:00:00\",\"2010-01-10T14:00:00\",\"2010-01-10T15:00:00\",\"2010-01-10T16:00:00\",\"2010-01-10T17:00:00\",\"2010-01-10T18:00:00\",\"2010-01-10T19:00:00\",\"2010-01-10T20:00:00\",\"2010-01-10T21:00:00\",\"2010-01-10T22:00:00\",\"2010-01-10T23:00:00\",\"2010-01-11T00:00:00\",\"2010-01-11T01:00:00\",\"2010-01-11T02:00:00\",\"2010-01-11T03:00:00\",\"2010-01-11T04:00:00\",\"2010-01-11T05:00:00\",\"2010-01-11T06:00:00\",\"2010-01-11T07:00:00\",\"2010-01-11T08:00:00\",\"2010-01-11T09:00:00\",\"2010-01-11T10:00:00\",\"2010-01-11T11:00:00\",\"2010-01-11T12:00:00\",\"2010-01-11T13:00:00\",\"2010-01-11T14:00:00\",\"2010-01-11T15:00:00\",\"2010-01-11T16:00:00\",\"2010-01-11T17:00:00\",\"2010-01-11T18:00:00\",\"2010-01-11T19:00:00\",\"2010-01-11T20:00:00\",\"2010-01-11T21:00:00\",\"2010-01-11T22:00:00\",\"2010-01-11T23:00:00\",\"2010-01-12T00:00:00\",\"2010-01-12T01:00:00\",\"2010-01-12T02:00:00\",\"2010-01-12T03:00:00\",\"2010-01-12T04:00:00\",\"2010-01-12T05:00:00\",\"2010-01-12T06:00:00\",\"2010-01-12T07:00:00\",\"2010-01-12T08:00:00\",\"2010-01-12T09:00:00\",\"2010-01-12T10:00:00\",\"2010-01-12T11:00:00\",\"2010-01-12T12:00:00\",\"2010-01-12T13:00:00\",\"2010-01-12T14:00:00\",\"2010-01-12T15:00:00\",\"2010-01-12T16:00:00\",\"2010-01-12T17:00:00\",\"2010-01-12T18:00:00\",\"2010-01-12T19:00:00\",\"2010-01-12T20:00:00\",\"2010-01-12T21:00:00\",\"2010-01-12T22:00:00\",\"2010-01-12T23:00:00\",\"2010-01-13T00:00:00\",\"2010-01-13T01:00:00\",\"2010-01-13T02:00:00\",\"2010-01-13T03:00:00\",\"2010-01-13T04:00:00\",\"2010-01-13T05:00:00\",\"2010-01-13T06:00:00\",\"2010-01-13T07:00:00\",\"2010-01-13T08:00:00\",\"2010-01-13T09:00:00\",\"2010-01-13T10:00:00\",\"2010-01-13T11:00:00\",\"2010-01-13T12:00:00\",\"2010-01-13T13:00:00\",\"2010-01-13T14:00:00\",\"2010-01-13T15:00:00\",\"2010-01-13T16:00:00\",\"2010-01-13T17:00:00\",\"2010-01-13T18:00:00\",\"2010-01-13T19:00:00\",\"2010-01-13T20:00:00\",\"2010-01-13T21:00:00\",\"2010-01-13T22:00:00\",\"2010-01-13T23:00:00\",\"2010-01-14T00:00:00\",\"2010-01-14T01:00:00\",\"2010-01-14T02:00:00\",\"2010-01-14T03:00:00\",\"2010-01-14T04:00:00\",\"2010-01-14T05:00:00\",\"2010-01-14T06:00:00\",\"2010-01-14T07:00:00\",\"2010-01-14T08:00:00\",\"2010-01-14T09:00:00\",\"2010-01-14T10:00:00\",\"2010-01-14T11:00:00\"],\"y\":[0,0,0,0,0,0,0,0,0,0,0,0,0,0,0,0,0,0,0,0,0,0,0,0,0,0,0,0,0,0,0,0,0,0,0,0,0,0,0,0,0,0,0,0,0,0,0,0,0,0,0,0,0,0,0,0,0,0,0,0,0,0,0,0,0,0,0,0,0,0,0,0,0,0,0,0,0,0,0,0,0,0,0,0,0,0,0,0,0,0,0,0,0,0,0,0,0,0,0,0,0,0,0,0,0,0,0,0,0,0,0,0,0,0,0,0,0,0,0,0,0,0,0,0,0,0,0,0,0,0,0,0,0,0,0,0,0,0,0,0,0,0,0,0,0,0,0,0,0,0,0,0,0,0,0,0,0,0,0,0,0,0,0,0,0,0,0,0,0,0,0,0,0,0,0,0,0,0,0,0,0,0,0,0,0,0,0,0,0,0,0,0,0,0,0,0,0,0,0,0,0,0,0,0,0,0,0,0,0,0,0,0,0,0,0,0,0,0,0,0,0,0,0,0,0,0,0,0,0,0,0,0,0,0,0,0,0,0,0,0,0,0,0,0,0,0,0,0,0,0,0,0,0,0,0,0,0,0,0,0,0,0,0,0,0,0,0,0,0,0,0,0,0,0,0,0,0,0,0,0,0,0,0,0,0,0,0,0,0,0,0,0,0,0,0,0,0,0,0,0],\"type\":\"scattergl\",\"xaxis\":\"x7\",\"yaxis\":\"y7\"}],                        {\"template\":{\"data\":{\"barpolar\":[{\"marker\":{\"line\":{\"color\":\"rgb(237,237,237)\",\"width\":0.5},\"pattern\":{\"fillmode\":\"overlay\",\"size\":10,\"solidity\":0.2}},\"type\":\"barpolar\"}],\"bar\":[{\"error_x\":{\"color\":\"rgb(51,51,51)\"},\"error_y\":{\"color\":\"rgb(51,51,51)\"},\"marker\":{\"line\":{\"color\":\"rgb(237,237,237)\",\"width\":0.5},\"pattern\":{\"fillmode\":\"overlay\",\"size\":10,\"solidity\":0.2}},\"type\":\"bar\"}],\"carpet\":[{\"aaxis\":{\"endlinecolor\":\"rgb(51,51,51)\",\"gridcolor\":\"white\",\"linecolor\":\"white\",\"minorgridcolor\":\"white\",\"startlinecolor\":\"rgb(51,51,51)\"},\"baxis\":{\"endlinecolor\":\"rgb(51,51,51)\",\"gridcolor\":\"white\",\"linecolor\":\"white\",\"minorgridcolor\":\"white\",\"startlinecolor\":\"rgb(51,51,51)\"},\"type\":\"carpet\"}],\"choropleth\":[{\"colorbar\":{\"outlinewidth\":0,\"tickcolor\":\"rgb(237,237,237)\",\"ticklen\":6,\"ticks\":\"inside\"},\"type\":\"choropleth\"}],\"contourcarpet\":[{\"colorbar\":{\"outlinewidth\":0,\"tickcolor\":\"rgb(237,237,237)\",\"ticklen\":6,\"ticks\":\"inside\"},\"type\":\"contourcarpet\"}],\"contour\":[{\"colorbar\":{\"outlinewidth\":0,\"tickcolor\":\"rgb(237,237,237)\",\"ticklen\":6,\"ticks\":\"inside\"},\"colorscale\":[[0,\"rgb(20,44,66)\"],[1,\"rgb(90,179,244)\"]],\"type\":\"contour\"}],\"heatmapgl\":[{\"colorbar\":{\"outlinewidth\":0,\"tickcolor\":\"rgb(237,237,237)\",\"ticklen\":6,\"ticks\":\"inside\"},\"colorscale\":[[0,\"rgb(20,44,66)\"],[1,\"rgb(90,179,244)\"]],\"type\":\"heatmapgl\"}],\"heatmap\":[{\"colorbar\":{\"outlinewidth\":0,\"tickcolor\":\"rgb(237,237,237)\",\"ticklen\":6,\"ticks\":\"inside\"},\"colorscale\":[[0,\"rgb(20,44,66)\"],[1,\"rgb(90,179,244)\"]],\"type\":\"heatmap\"}],\"histogram2dcontour\":[{\"colorbar\":{\"outlinewidth\":0,\"tickcolor\":\"rgb(237,237,237)\",\"ticklen\":6,\"ticks\":\"inside\"},\"colorscale\":[[0,\"rgb(20,44,66)\"],[1,\"rgb(90,179,244)\"]],\"type\":\"histogram2dcontour\"}],\"histogram2d\":[{\"colorbar\":{\"outlinewidth\":0,\"tickcolor\":\"rgb(237,237,237)\",\"ticklen\":6,\"ticks\":\"inside\"},\"colorscale\":[[0,\"rgb(20,44,66)\"],[1,\"rgb(90,179,244)\"]],\"type\":\"histogram2d\"}],\"histogram\":[{\"marker\":{\"pattern\":{\"fillmode\":\"overlay\",\"size\":10,\"solidity\":0.2}},\"type\":\"histogram\"}],\"mesh3d\":[{\"colorbar\":{\"outlinewidth\":0,\"tickcolor\":\"rgb(237,237,237)\",\"ticklen\":6,\"ticks\":\"inside\"},\"type\":\"mesh3d\"}],\"parcoords\":[{\"line\":{\"colorbar\":{\"outlinewidth\":0,\"tickcolor\":\"rgb(237,237,237)\",\"ticklen\":6,\"ticks\":\"inside\"}},\"type\":\"parcoords\"}],\"pie\":[{\"automargin\":true,\"type\":\"pie\"}],\"scatter3d\":[{\"line\":{\"colorbar\":{\"outlinewidth\":0,\"tickcolor\":\"rgb(237,237,237)\",\"ticklen\":6,\"ticks\":\"inside\"}},\"marker\":{\"colorbar\":{\"outlinewidth\":0,\"tickcolor\":\"rgb(237,237,237)\",\"ticklen\":6,\"ticks\":\"inside\"}},\"type\":\"scatter3d\"}],\"scattercarpet\":[{\"marker\":{\"colorbar\":{\"outlinewidth\":0,\"tickcolor\":\"rgb(237,237,237)\",\"ticklen\":6,\"ticks\":\"inside\"}},\"type\":\"scattercarpet\"}],\"scattergeo\":[{\"marker\":{\"colorbar\":{\"outlinewidth\":0,\"tickcolor\":\"rgb(237,237,237)\",\"ticklen\":6,\"ticks\":\"inside\"}},\"type\":\"scattergeo\"}],\"scattergl\":[{\"marker\":{\"colorbar\":{\"outlinewidth\":0,\"tickcolor\":\"rgb(237,237,237)\",\"ticklen\":6,\"ticks\":\"inside\"}},\"type\":\"scattergl\"}],\"scattermapbox\":[{\"marker\":{\"colorbar\":{\"outlinewidth\":0,\"tickcolor\":\"rgb(237,237,237)\",\"ticklen\":6,\"ticks\":\"inside\"}},\"type\":\"scattermapbox\"}],\"scatterpolargl\":[{\"marker\":{\"colorbar\":{\"outlinewidth\":0,\"tickcolor\":\"rgb(237,237,237)\",\"ticklen\":6,\"ticks\":\"inside\"}},\"type\":\"scatterpolargl\"}],\"scatterpolar\":[{\"marker\":{\"colorbar\":{\"outlinewidth\":0,\"tickcolor\":\"rgb(237,237,237)\",\"ticklen\":6,\"ticks\":\"inside\"}},\"type\":\"scatterpolar\"}],\"scatter\":[{\"fillpattern\":{\"fillmode\":\"overlay\",\"size\":10,\"solidity\":0.2},\"type\":\"scatter\"}],\"scatterternary\":[{\"marker\":{\"colorbar\":{\"outlinewidth\":0,\"tickcolor\":\"rgb(237,237,237)\",\"ticklen\":6,\"ticks\":\"inside\"}},\"type\":\"scatterternary\"}],\"surface\":[{\"colorbar\":{\"outlinewidth\":0,\"tickcolor\":\"rgb(237,237,237)\",\"ticklen\":6,\"ticks\":\"inside\"},\"colorscale\":[[0,\"rgb(20,44,66)\"],[1,\"rgb(90,179,244)\"]],\"type\":\"surface\"}],\"table\":[{\"cells\":{\"fill\":{\"color\":\"rgb(237,237,237)\"},\"line\":{\"color\":\"white\"}},\"header\":{\"fill\":{\"color\":\"rgb(217,217,217)\"},\"line\":{\"color\":\"white\"}},\"type\":\"table\"}]},\"layout\":{\"annotationdefaults\":{\"arrowhead\":0,\"arrowwidth\":1},\"autotypenumbers\":\"strict\",\"coloraxis\":{\"colorbar\":{\"outlinewidth\":0,\"tickcolor\":\"rgb(237,237,237)\",\"ticklen\":6,\"ticks\":\"inside\"}},\"colorscale\":{\"sequential\":[[0,\"rgb(20,44,66)\"],[1,\"rgb(90,179,244)\"]],\"sequentialminus\":[[0,\"rgb(20,44,66)\"],[1,\"rgb(90,179,244)\"]]},\"colorway\":[\"#F8766D\",\"#A3A500\",\"#00BF7D\",\"#00B0F6\",\"#E76BF3\"],\"font\":{\"color\":\"rgb(51,51,51)\"},\"geo\":{\"bgcolor\":\"white\",\"lakecolor\":\"white\",\"landcolor\":\"rgb(237,237,237)\",\"showlakes\":true,\"showland\":true,\"subunitcolor\":\"white\"},\"hoverlabel\":{\"align\":\"left\"},\"hovermode\":\"closest\",\"paper_bgcolor\":\"white\",\"plot_bgcolor\":\"rgb(237,237,237)\",\"polar\":{\"angularaxis\":{\"gridcolor\":\"white\",\"linecolor\":\"white\",\"showgrid\":true,\"tickcolor\":\"rgb(51,51,51)\",\"ticks\":\"outside\"},\"bgcolor\":\"rgb(237,237,237)\",\"radialaxis\":{\"gridcolor\":\"white\",\"linecolor\":\"white\",\"showgrid\":true,\"tickcolor\":\"rgb(51,51,51)\",\"ticks\":\"outside\"}},\"scene\":{\"xaxis\":{\"backgroundcolor\":\"rgb(237,237,237)\",\"gridcolor\":\"white\",\"gridwidth\":2,\"linecolor\":\"white\",\"showbackground\":true,\"showgrid\":true,\"tickcolor\":\"rgb(51,51,51)\",\"ticks\":\"outside\",\"zerolinecolor\":\"white\"},\"yaxis\":{\"backgroundcolor\":\"rgb(237,237,237)\",\"gridcolor\":\"white\",\"gridwidth\":2,\"linecolor\":\"white\",\"showbackground\":true,\"showgrid\":true,\"tickcolor\":\"rgb(51,51,51)\",\"ticks\":\"outside\",\"zerolinecolor\":\"white\"},\"zaxis\":{\"backgroundcolor\":\"rgb(237,237,237)\",\"gridcolor\":\"white\",\"gridwidth\":2,\"linecolor\":\"white\",\"showbackground\":true,\"showgrid\":true,\"tickcolor\":\"rgb(51,51,51)\",\"ticks\":\"outside\",\"zerolinecolor\":\"white\"}},\"shapedefaults\":{\"fillcolor\":\"black\",\"line\":{\"width\":0},\"opacity\":0.3},\"ternary\":{\"aaxis\":{\"gridcolor\":\"white\",\"linecolor\":\"white\",\"showgrid\":true,\"tickcolor\":\"rgb(51,51,51)\",\"ticks\":\"outside\"},\"baxis\":{\"gridcolor\":\"white\",\"linecolor\":\"white\",\"showgrid\":true,\"tickcolor\":\"rgb(51,51,51)\",\"ticks\":\"outside\"},\"bgcolor\":\"rgb(237,237,237)\",\"caxis\":{\"gridcolor\":\"white\",\"linecolor\":\"white\",\"showgrid\":true,\"tickcolor\":\"rgb(51,51,51)\",\"ticks\":\"outside\"}},\"xaxis\":{\"automargin\":true,\"gridcolor\":\"white\",\"linecolor\":\"white\",\"showgrid\":true,\"tickcolor\":\"rgb(51,51,51)\",\"ticks\":\"outside\",\"title\":{\"standoff\":15},\"zerolinecolor\":\"white\"},\"yaxis\":{\"automargin\":true,\"gridcolor\":\"white\",\"linecolor\":\"white\",\"showgrid\":true,\"tickcolor\":\"rgb(51,51,51)\",\"ticks\":\"outside\",\"title\":{\"standoff\":15},\"zerolinecolor\":\"white\"}}},\"xaxis\":{\"anchor\":\"y\",\"domain\":[0.0,1.0],\"matches\":\"x7\",\"showticklabels\":false},\"yaxis\":{\"anchor\":\"x\",\"domain\":[0.8742857142857142,1.0]},\"xaxis2\":{\"anchor\":\"y2\",\"domain\":[0.0,1.0],\"matches\":\"x7\",\"showticklabels\":false},\"yaxis2\":{\"anchor\":\"x2\",\"domain\":[0.7285714285714285,0.8542857142857143]},\"xaxis3\":{\"anchor\":\"y3\",\"domain\":[0.0,1.0],\"matches\":\"x7\",\"showticklabels\":false},\"yaxis3\":{\"anchor\":\"x3\",\"domain\":[0.5828571428571429,0.7085714285714286]},\"xaxis4\":{\"anchor\":\"y4\",\"domain\":[0.0,1.0],\"matches\":\"x7\",\"showticklabels\":false},\"yaxis4\":{\"anchor\":\"x4\",\"domain\":[0.43714285714285717,0.562857142857143]},\"xaxis5\":{\"anchor\":\"y5\",\"domain\":[0.0,1.0],\"matches\":\"x7\",\"showticklabels\":false},\"yaxis5\":{\"anchor\":\"x5\",\"domain\":[0.2914285714285714,0.41714285714285715]},\"xaxis6\":{\"anchor\":\"y6\",\"domain\":[0.0,1.0],\"matches\":\"x7\",\"showticklabels\":false},\"yaxis6\":{\"anchor\":\"x6\",\"domain\":[0.1457142857142857,0.27142857142857146]},\"xaxis7\":{\"anchor\":\"y7\",\"domain\":[0.0,1.0]},\"yaxis7\":{\"anchor\":\"x7\",\"domain\":[0.0,0.12571428571428572]},\"annotations\":[{\"font\":{\"size\":16},\"showarrow\":false,\"text\":\"pollution\",\"x\":0.5,\"xanchor\":\"center\",\"xref\":\"paper\",\"y\":1.0,\"yanchor\":\"bottom\",\"yref\":\"paper\"},{\"font\":{\"size\":16},\"showarrow\":false,\"text\":\"dew\",\"x\":0.5,\"xanchor\":\"center\",\"xref\":\"paper\",\"y\":0.8542857142857143,\"yanchor\":\"bottom\",\"yref\":\"paper\"},{\"font\":{\"size\":16},\"showarrow\":false,\"text\":\"temp\",\"x\":0.5,\"xanchor\":\"center\",\"xref\":\"paper\",\"y\":0.7085714285714286,\"yanchor\":\"bottom\",\"yref\":\"paper\"},{\"font\":{\"size\":16},\"showarrow\":false,\"text\":\"press\",\"x\":0.5,\"xanchor\":\"center\",\"xref\":\"paper\",\"y\":0.562857142857143,\"yanchor\":\"bottom\",\"yref\":\"paper\"},{\"font\":{\"size\":16},\"showarrow\":false,\"text\":\"wnd_spd\",\"x\":0.5,\"xanchor\":\"center\",\"xref\":\"paper\",\"y\":0.41714285714285715,\"yanchor\":\"bottom\",\"yref\":\"paper\"},{\"font\":{\"size\":16},\"showarrow\":false,\"text\":\"snow\",\"x\":0.5,\"xanchor\":\"center\",\"xref\":\"paper\",\"y\":0.27142857142857146,\"yanchor\":\"bottom\",\"yref\":\"paper\"},{\"font\":{\"size\":16},\"showarrow\":false,\"text\":\"rain\",\"x\":0.5,\"xanchor\":\"center\",\"xref\":\"paper\",\"y\":0.12571428571428572,\"yanchor\":\"bottom\",\"yref\":\"paper\"}],\"title\":{\"text\":\"Time Series | Target = pollution\"},\"showlegend\":true},                        {\"responsive\": true}                    ).then(function(){\n",
              "                            \n",
              "var gd = document.getElementById('374c0a23-d4cd-4778-831a-c0f7290b0fc6');\n",
              "var x = new MutationObserver(function (mutations, observer) {{\n",
              "        var display = window.getComputedStyle(gd).display;\n",
              "        if (!display || display === 'none') {{\n",
              "            console.log([gd, 'removed!']);\n",
              "            Plotly.purge(gd);\n",
              "            observer.disconnect();\n",
              "        }}\n",
              "}});\n",
              "\n",
              "// Listen for the removal of the full notebook cells\n",
              "var notebookContainer = gd.closest('#notebook-container');\n",
              "if (notebookContainer) {{\n",
              "    x.observe(notebookContainer, {childList: true});\n",
              "}}\n",
              "\n",
              "// Listen for the clearing of the current output cell\n",
              "var outputEl = gd.closest('.output');\n",
              "if (outputEl) {{\n",
              "    x.observe(outputEl, {childList: true});\n",
              "}}\n",
              "\n",
              "                        })                };                            </script>        </div>\n",
              "</body>\n",
              "</html>"
            ]
          },
          "metadata": {}
        }
      ]
    },
    {
      "cell_type": "code",
      "source": [
        "\"\"\"Function to Train and Evaluate the models\"\"\"\n",
        "def trainAndBenchmarkModels():\n",
        "  #Training Phase\n",
        "  print(\"Starting Training of models\")\n",
        "  finalModel = s.create_model(\"arima\")\n",
        "  print(\"Completed Training of models\")\n",
        "\n",
        "  #Plot the model\n",
        "  print(\"PLotting the model estimates\")\n",
        "  s.plot_model(estimator=finalModel)\n",
        "  print(\"Plotted the model estimates\")\n",
        "  #Return model\n",
        "  return finalModel\n",
        "finalModel = trainAndBenchmarkModels()"
      ],
      "metadata": {
        "colab": {
          "base_uri": "https://localhost:8080/",
          "height": 801,
          "referenced_widgets": [
            "a265e5394d1a44bbb80d0af8e08b8e77",
            "ead89bac778e4ee6bdff928429988740",
            "7a90c0883756480d81b5adc3ad94999c",
            "bb27f8da610042f5952105afab234a93",
            "6a49a5665436463d87fd47d561e81286",
            "4350ddfe045c478b92920d7656215da0",
            "c8a08b50cb6343888be2e695612d4eb0",
            "7e15de62bbd446739b2954f1e05f701c",
            "610a2cac1e544892b326f1b9088365aa",
            "8171eedc9e684a00beb733b196e85688",
            "798a8722613940d78164fdedbca54c8e"
          ]
        },
        "id": "_LIBwScjyy09",
        "outputId": "41c88163-8d0d-4417-c89c-3bba5bbeff45"
      },
      "execution_count": null,
      "outputs": [
        {
          "output_type": "stream",
          "name": "stdout",
          "text": [
            "Starting Training of models\n"
          ]
        },
        {
          "output_type": "display_data",
          "data": {
            "text/plain": [
              "<IPython.core.display.HTML object>"
            ],
            "text/html": []
          },
          "metadata": {}
        },
        {
          "output_type": "display_data",
          "data": {
            "text/plain": [
              "<pandas.io.formats.style.Styler at 0x7e454d0ea080>"
            ],
            "text/html": [
              "<style type=\"text/css\">\n",
              "#T_420ec_row3_col0, #T_420ec_row3_col1, #T_420ec_row3_col2, #T_420ec_row3_col3, #T_420ec_row3_col4, #T_420ec_row3_col5, #T_420ec_row3_col6, #T_420ec_row3_col7 {\n",
              "  background: yellow;\n",
              "}\n",
              "</style>\n",
              "<table id=\"T_420ec\" class=\"dataframe\">\n",
              "  <thead>\n",
              "    <tr>\n",
              "      <th class=\"blank level0\" >&nbsp;</th>\n",
              "      <th id=\"T_420ec_level0_col0\" class=\"col_heading level0 col0\" >cutoff</th>\n",
              "      <th id=\"T_420ec_level0_col1\" class=\"col_heading level0 col1\" >MASE</th>\n",
              "      <th id=\"T_420ec_level0_col2\" class=\"col_heading level0 col2\" >RMSSE</th>\n",
              "      <th id=\"T_420ec_level0_col3\" class=\"col_heading level0 col3\" >MAE</th>\n",
              "      <th id=\"T_420ec_level0_col4\" class=\"col_heading level0 col4\" >RMSE</th>\n",
              "      <th id=\"T_420ec_level0_col5\" class=\"col_heading level0 col5\" >MAPE</th>\n",
              "      <th id=\"T_420ec_level0_col6\" class=\"col_heading level0 col6\" >SMAPE</th>\n",
              "      <th id=\"T_420ec_level0_col7\" class=\"col_heading level0 col7\" >R2</th>\n",
              "    </tr>\n",
              "  </thead>\n",
              "  <tbody>\n",
              "    <tr>\n",
              "      <th id=\"T_420ec_level0_row0\" class=\"row_heading level0 row0\" >0</th>\n",
              "      <td id=\"T_420ec_row0_col0\" class=\"data row0 col0\" >2010-01-06 03:00</td>\n",
              "      <td id=\"T_420ec_row0_col1\" class=\"data row0 col1\" >4.2257</td>\n",
              "      <td id=\"T_420ec_row0_col2\" class=\"data row0 col2\" >4.0863</td>\n",
              "      <td id=\"T_420ec_row0_col3\" class=\"data row0 col3\" >39.2265</td>\n",
              "      <td id=\"T_420ec_row0_col4\" class=\"data row0 col4\" >54.1846</td>\n",
              "      <td id=\"T_420ec_row0_col5\" class=\"data row0 col5\" >0.6190</td>\n",
              "      <td id=\"T_420ec_row0_col6\" class=\"data row0 col6\" >0.5121</td>\n",
              "      <td id=\"T_420ec_row0_col7\" class=\"data row0 col7\" >0.1823</td>\n",
              "    </tr>\n",
              "    <tr>\n",
              "      <th id=\"T_420ec_level0_row1\" class=\"row_heading level0 row1\" >1</th>\n",
              "      <td id=\"T_420ec_row1_col0\" class=\"data row1 col0\" >2010-01-08 05:00</td>\n",
              "      <td id=\"T_420ec_row1_col1\" class=\"data row1 col1\" >4.8364</td>\n",
              "      <td id=\"T_420ec_row1_col2\" class=\"data row1 col2\" >3.6690</td>\n",
              "      <td id=\"T_420ec_row1_col3\" class=\"data row1 col3\" >59.1085</td>\n",
              "      <td id=\"T_420ec_row1_col4\" class=\"data row1 col4\" >74.6205</td>\n",
              "      <td id=\"T_420ec_row1_col5\" class=\"data row1 col5\" >0.5837</td>\n",
              "      <td id=\"T_420ec_row1_col6\" class=\"data row1 col6\" >0.5430</td>\n",
              "      <td id=\"T_420ec_row1_col7\" class=\"data row1 col7\" >-0.1362</td>\n",
              "    </tr>\n",
              "    <tr>\n",
              "      <th id=\"T_420ec_level0_row2\" class=\"row_heading level0 row2\" >2</th>\n",
              "      <td id=\"T_420ec_row2_col0\" class=\"data row2 col0\" >2010-01-10 07:00</td>\n",
              "      <td id=\"T_420ec_row2_col1\" class=\"data row2 col1\" >3.3061</td>\n",
              "      <td id=\"T_420ec_row2_col2\" class=\"data row2 col2\" >2.2612</td>\n",
              "      <td id=\"T_420ec_row2_col3\" class=\"data row2 col3\" >43.7606</td>\n",
              "      <td id=\"T_420ec_row2_col4\" class=\"data row2 col4\" >46.8080</td>\n",
              "      <td id=\"T_420ec_row2_col5\" class=\"data row2 col5\" >2.3009</td>\n",
              "      <td id=\"T_420ec_row2_col6\" class=\"data row2 col6\" >0.9398</td>\n",
              "      <td id=\"T_420ec_row2_col7\" class=\"data row2 col7\" >-3.3809</td>\n",
              "    </tr>\n",
              "    <tr>\n",
              "      <th id=\"T_420ec_level0_row3\" class=\"row_heading level0 row3\" >Mean</th>\n",
              "      <td id=\"T_420ec_row3_col0\" class=\"data row3 col0\" >NaT</td>\n",
              "      <td id=\"T_420ec_row3_col1\" class=\"data row3 col1\" >4.1228</td>\n",
              "      <td id=\"T_420ec_row3_col2\" class=\"data row3 col2\" >3.3388</td>\n",
              "      <td id=\"T_420ec_row3_col3\" class=\"data row3 col3\" >47.3652</td>\n",
              "      <td id=\"T_420ec_row3_col4\" class=\"data row3 col4\" >58.5377</td>\n",
              "      <td id=\"T_420ec_row3_col5\" class=\"data row3 col5\" >1.1679</td>\n",
              "      <td id=\"T_420ec_row3_col6\" class=\"data row3 col6\" >0.6650</td>\n",
              "      <td id=\"T_420ec_row3_col7\" class=\"data row3 col7\" >-1.1116</td>\n",
              "    </tr>\n",
              "    <tr>\n",
              "      <th id=\"T_420ec_level0_row4\" class=\"row_heading level0 row4\" >SD</th>\n",
              "      <td id=\"T_420ec_row4_col0\" class=\"data row4 col0\" >NaT</td>\n",
              "      <td id=\"T_420ec_row4_col1\" class=\"data row4 col1\" >0.6290</td>\n",
              "      <td id=\"T_420ec_row4_col2\" class=\"data row4 col2\" >0.7808</td>\n",
              "      <td id=\"T_420ec_row4_col3\" class=\"data row4 col3\" >8.5076</td>\n",
              "      <td id=\"T_420ec_row4_col4\" class=\"data row4 col4\" >11.7642</td>\n",
              "      <td id=\"T_420ec_row4_col5\" class=\"data row4 col5\" >0.8013</td>\n",
              "      <td id=\"T_420ec_row4_col6\" class=\"data row4 col6\" >0.1947</td>\n",
              "      <td id=\"T_420ec_row4_col7\" class=\"data row4 col7\" >1.6099</td>\n",
              "    </tr>\n",
              "  </tbody>\n",
              "</table>\n"
            ]
          },
          "metadata": {}
        },
        {
          "output_type": "display_data",
          "data": {
            "text/plain": [
              "Processing:   0%|          | 0/4 [00:00<?, ?it/s]"
            ],
            "application/vnd.jupyter.widget-view+json": {
              "version_major": 2,
              "version_minor": 0,
              "model_id": "a265e5394d1a44bbb80d0af8e08b8e77"
            }
          },
          "metadata": {
            "application/vnd.jupyter.widget-view+json": {
              "colab": {
                "custom_widget_manager": {
                  "url": "https://ssl.gstatic.com/colaboratory-static/widgets/colab-cdn-widget-manager/b3e629b1971e1542/manager.min.js"
                }
              }
            }
          }
        },
        {
          "output_type": "display_data",
          "data": {
            "text/plain": [
              "<IPython.core.display.HTML object>"
            ],
            "text/html": []
          },
          "metadata": {}
        },
        {
          "output_type": "stream",
          "name": "stdout",
          "text": [
            "Completed Training of models\n",
            "PLotting the model estimates\n"
          ]
        },
        {
          "output_type": "display_data",
          "data": {
            "text/html": [
              "<html>\n",
              "<head><meta charset=\"utf-8\" /></head>\n",
              "<body>\n",
              "    <div>            <script src=\"https://cdnjs.cloudflare.com/ajax/libs/mathjax/2.7.5/MathJax.js?config=TeX-AMS-MML_SVG\"></script><script type=\"text/javascript\">if (window.MathJax && window.MathJax.Hub && window.MathJax.Hub.Config) {window.MathJax.Hub.Config({SVG: {font: \"STIX-Web\"}});}</script>                <script type=\"text/javascript\">window.PlotlyConfig = {MathJaxConfig: 'local'};</script>\n",
              "        <script charset=\"utf-8\" src=\"https://cdn.plot.ly/plotly-2.24.1.min.js\"></script>                <div id=\"262c4f1f-d789-487f-b92f-ed5c4ca31488\" class=\"plotly-graph-div\" style=\"height:525px; width:100%;\"></div>            <script type=\"text/javascript\">                                    window.PLOTLYENV=window.PLOTLYENV || {};                                    if (document.getElementById(\"262c4f1f-d789-487f-b92f-ed5c4ca31488\")) {                    Plotly.newPlot(                        \"262c4f1f-d789-487f-b92f-ed5c4ca31488\",                        [{\"line\":{\"color\":\"#1f77b4\"},\"marker\":{\"size\":5},\"mode\":\"lines+markers\",\"name\":\"Forecast | ARIMA\",\"showlegend\":true,\"x\":[\"2010-01-12T10:00:00\",\"2010-01-12T11:00:00\",\"2010-01-12T12:00:00\",\"2010-01-12T13:00:00\",\"2010-01-12T14:00:00\",\"2010-01-12T15:00:00\",\"2010-01-12T16:00:00\",\"2010-01-12T17:00:00\",\"2010-01-12T18:00:00\",\"2010-01-12T19:00:00\",\"2010-01-12T20:00:00\",\"2010-01-12T21:00:00\",\"2010-01-12T22:00:00\",\"2010-01-12T23:00:00\",\"2010-01-13T00:00:00\",\"2010-01-13T01:00:00\",\"2010-01-13T02:00:00\",\"2010-01-13T03:00:00\",\"2010-01-13T04:00:00\",\"2010-01-13T05:00:00\",\"2010-01-13T06:00:00\",\"2010-01-13T07:00:00\",\"2010-01-13T08:00:00\",\"2010-01-13T09:00:00\",\"2010-01-13T10:00:00\",\"2010-01-13T11:00:00\",\"2010-01-13T12:00:00\",\"2010-01-13T13:00:00\",\"2010-01-13T14:00:00\",\"2010-01-13T15:00:00\",\"2010-01-13T16:00:00\",\"2010-01-13T17:00:00\",\"2010-01-13T18:00:00\",\"2010-01-13T19:00:00\",\"2010-01-13T20:00:00\",\"2010-01-13T21:00:00\",\"2010-01-13T22:00:00\",\"2010-01-13T23:00:00\",\"2010-01-14T00:00:00\",\"2010-01-14T01:00:00\",\"2010-01-14T02:00:00\",\"2010-01-14T03:00:00\",\"2010-01-14T04:00:00\",\"2010-01-14T05:00:00\",\"2010-01-14T06:00:00\",\"2010-01-14T07:00:00\",\"2010-01-14T08:00:00\",\"2010-01-14T09:00:00\",\"2010-01-14T10:00:00\",\"2010-01-14T11:00:00\"],\"y\":[15.0391,18.8465,22.4037,25.8031,26.9935,30.1663,31.1544,32.0482,34.0159,36.7788,39.4363,39.9621,42.4163,43.7648,43.8912,44.9296,44.8659,47.9702,46.7238,47.6242,48.2675,48.9898,49.6797,51.43,51.0181,51.6151,51.973,50.2405,50.5813,48.8043,50.2908,62.1796,63.7589,64.2027,66.656,70.2599,70.6217,72.065,73.3625,72.5328,72.881,74.2049,74.3511,74.5354,73.5333,74.7499,74.9962,74.0657,70.984,71.0348],\"type\":\"scatter\"},{\"line\":{\"width\":0},\"marker\":{\"color\":\"#68BBE3\"},\"mode\":\"lines\",\"name\":\"Lower Interval\",\"showlegend\":false,\"x\":[\"2010-01-12T10:00:00\",\"2010-01-12T11:00:00\",\"2010-01-12T12:00:00\",\"2010-01-12T13:00:00\",\"2010-01-12T14:00:00\",\"2010-01-12T15:00:00\",\"2010-01-12T16:00:00\",\"2010-01-12T17:00:00\",\"2010-01-12T18:00:00\",\"2010-01-12T19:00:00\",\"2010-01-12T20:00:00\",\"2010-01-12T21:00:00\",\"2010-01-12T22:00:00\",\"2010-01-12T23:00:00\",\"2010-01-13T00:00:00\",\"2010-01-13T01:00:00\",\"2010-01-13T02:00:00\",\"2010-01-13T03:00:00\",\"2010-01-13T04:00:00\",\"2010-01-13T05:00:00\",\"2010-01-13T06:00:00\",\"2010-01-13T07:00:00\",\"2010-01-13T08:00:00\",\"2010-01-13T09:00:00\",\"2010-01-13T10:00:00\",\"2010-01-13T11:00:00\",\"2010-01-13T12:00:00\",\"2010-01-13T13:00:00\",\"2010-01-13T14:00:00\",\"2010-01-13T15:00:00\",\"2010-01-13T16:00:00\",\"2010-01-13T17:00:00\",\"2010-01-13T18:00:00\",\"2010-01-13T19:00:00\",\"2010-01-13T20:00:00\",\"2010-01-13T21:00:00\",\"2010-01-13T22:00:00\",\"2010-01-13T23:00:00\",\"2010-01-14T00:00:00\",\"2010-01-14T01:00:00\",\"2010-01-14T02:00:00\",\"2010-01-14T03:00:00\",\"2010-01-14T04:00:00\",\"2010-01-14T05:00:00\",\"2010-01-14T06:00:00\",\"2010-01-14T07:00:00\",\"2010-01-14T08:00:00\",\"2010-01-14T09:00:00\",\"2010-01-14T10:00:00\",\"2010-01-14T11:00:00\"],\"y\":[-15.6677,-23.3536,-27.8507,-30.6528,-34.4505,-35.3928,-37.8561,-39.8906,-40.4286,-39.8238,-39.0343,-40.132,-39.0935,-38.9827,-39.9408,-39.8547,-40.7557,-38.3888,-40.2851,-39.9583,-39.8216,-39.5471,-39.2532,-37.8534,-38.5755,-38.2535,-38.1391,-40.0875,-39.9381,-41.8849,-40.549,-28.7938,-27.3332,-26.9946,-24.6347,-21.1138,-20.8257,-19.4478,-18.2084,-19.0897,-18.7873,-17.5041,-17.394,-17.242,-18.2726,-17.0813,-16.8575,-17.808,-20.9075,-20.8725],\"type\":\"scatter\"},{\"fill\":\"tonexty\",\"fillcolor\":\"rgba(104,187,227,0.5)\",\"line\":{\"width\":0},\"marker\":{\"color\":\"#68BBE3\"},\"mode\":\"lines\",\"name\":\"Prediction Interval | ARIMA\",\"showlegend\":true,\"x\":[\"2010-01-12T10:00:00\",\"2010-01-12T11:00:00\",\"2010-01-12T12:00:00\",\"2010-01-12T13:00:00\",\"2010-01-12T14:00:00\",\"2010-01-12T15:00:00\",\"2010-01-12T16:00:00\",\"2010-01-12T17:00:00\",\"2010-01-12T18:00:00\",\"2010-01-12T19:00:00\",\"2010-01-12T20:00:00\",\"2010-01-12T21:00:00\",\"2010-01-12T22:00:00\",\"2010-01-12T23:00:00\",\"2010-01-13T00:00:00\",\"2010-01-13T01:00:00\",\"2010-01-13T02:00:00\",\"2010-01-13T03:00:00\",\"2010-01-13T04:00:00\",\"2010-01-13T05:00:00\",\"2010-01-13T06:00:00\",\"2010-01-13T07:00:00\",\"2010-01-13T08:00:00\",\"2010-01-13T09:00:00\",\"2010-01-13T10:00:00\",\"2010-01-13T11:00:00\",\"2010-01-13T12:00:00\",\"2010-01-13T13:00:00\",\"2010-01-13T14:00:00\",\"2010-01-13T15:00:00\",\"2010-01-13T16:00:00\",\"2010-01-13T17:00:00\",\"2010-01-13T18:00:00\",\"2010-01-13T19:00:00\",\"2010-01-13T20:00:00\",\"2010-01-13T21:00:00\",\"2010-01-13T22:00:00\",\"2010-01-13T23:00:00\",\"2010-01-14T00:00:00\",\"2010-01-14T01:00:00\",\"2010-01-14T02:00:00\",\"2010-01-14T03:00:00\",\"2010-01-14T04:00:00\",\"2010-01-14T05:00:00\",\"2010-01-14T06:00:00\",\"2010-01-14T07:00:00\",\"2010-01-14T08:00:00\",\"2010-01-14T09:00:00\",\"2010-01-14T10:00:00\",\"2010-01-14T11:00:00\"],\"y\":[45.7459,61.0466,72.6582,82.2591,88.4375,95.7254,100.1648,103.9869,108.4604,113.3814,117.9069,120.0561,123.926,126.5122,127.7233,129.7139,130.4875,134.3291,133.7327,135.2067,136.3566,137.5266,138.6127,140.7134,140.6118,141.4836,142.0852,140.5685,141.1007,139.4935,141.1307,153.1531,154.851,155.4001,157.9468,161.6337,162.0691,163.5778,164.9334,164.1553,164.5494,165.9139,166.0963,166.3127,165.3391,166.5811,166.85,165.9395,162.8755,162.9422],\"type\":\"scatter\"},{\"marker\":{\"color\":\"#3f3f3f\",\"size\":5},\"mode\":\"lines+markers\",\"name\":\"Original\",\"showlegend\":true,\"x\":[\"2010-01-02T00:00:00\",\"2010-01-02T01:00:00\",\"2010-01-02T02:00:00\",\"2010-01-02T03:00:00\",\"2010-01-02T04:00:00\",\"2010-01-02T05:00:00\",\"2010-01-02T06:00:00\",\"2010-01-02T07:00:00\",\"2010-01-02T08:00:00\",\"2010-01-02T09:00:00\",\"2010-01-02T10:00:00\",\"2010-01-02T11:00:00\",\"2010-01-02T12:00:00\",\"2010-01-02T13:00:00\",\"2010-01-02T14:00:00\",\"2010-01-02T15:00:00\",\"2010-01-02T16:00:00\",\"2010-01-02T17:00:00\",\"2010-01-02T18:00:00\",\"2010-01-02T19:00:00\",\"2010-01-02T20:00:00\",\"2010-01-02T21:00:00\",\"2010-01-02T22:00:00\",\"2010-01-02T23:00:00\",\"2010-01-03T00:00:00\",\"2010-01-03T01:00:00\",\"2010-01-03T02:00:00\",\"2010-01-03T03:00:00\",\"2010-01-03T04:00:00\",\"2010-01-03T05:00:00\",\"2010-01-03T06:00:00\",\"2010-01-03T07:00:00\",\"2010-01-03T08:00:00\",\"2010-01-03T09:00:00\",\"2010-01-03T10:00:00\",\"2010-01-03T11:00:00\",\"2010-01-03T12:00:00\",\"2010-01-03T13:00:00\",\"2010-01-03T14:00:00\",\"2010-01-03T15:00:00\",\"2010-01-03T16:00:00\",\"2010-01-03T17:00:00\",\"2010-01-03T18:00:00\",\"2010-01-03T19:00:00\",\"2010-01-03T20:00:00\",\"2010-01-03T21:00:00\",\"2010-01-03T22:00:00\",\"2010-01-03T23:00:00\",\"2010-01-04T00:00:00\",\"2010-01-04T01:00:00\",\"2010-01-04T02:00:00\",\"2010-01-04T03:00:00\",\"2010-01-04T04:00:00\",\"2010-01-04T05:00:00\",\"2010-01-04T06:00:00\",\"2010-01-04T07:00:00\",\"2010-01-04T08:00:00\",\"2010-01-04T09:00:00\",\"2010-01-04T10:00:00\",\"2010-01-04T11:00:00\",\"2010-01-04T12:00:00\",\"2010-01-04T13:00:00\",\"2010-01-04T14:00:00\",\"2010-01-04T15:00:00\",\"2010-01-04T16:00:00\",\"2010-01-04T17:00:00\",\"2010-01-04T18:00:00\",\"2010-01-04T19:00:00\",\"2010-01-04T20:00:00\",\"2010-01-04T21:00:00\",\"2010-01-04T22:00:00\",\"2010-01-04T23:00:00\",\"2010-01-05T00:00:00\",\"2010-01-05T01:00:00\",\"2010-01-05T02:00:00\",\"2010-01-05T03:00:00\",\"2010-01-05T04:00:00\",\"2010-01-05T05:00:00\",\"2010-01-05T06:00:00\",\"2010-01-05T07:00:00\",\"2010-01-05T08:00:00\",\"2010-01-05T09:00:00\",\"2010-01-05T10:00:00\",\"2010-01-05T11:00:00\",\"2010-01-05T12:00:00\",\"2010-01-05T13:00:00\",\"2010-01-05T14:00:00\",\"2010-01-05T15:00:00\",\"2010-01-05T16:00:00\",\"2010-01-05T17:00:00\",\"2010-01-05T18:00:00\",\"2010-01-05T19:00:00\",\"2010-01-05T20:00:00\",\"2010-01-05T21:00:00\",\"2010-01-05T22:00:00\",\"2010-01-05T23:00:00\",\"2010-01-06T00:00:00\",\"2010-01-06T01:00:00\",\"2010-01-06T02:00:00\",\"2010-01-06T03:00:00\",\"2010-01-06T04:00:00\",\"2010-01-06T05:00:00\",\"2010-01-06T06:00:00\",\"2010-01-06T07:00:00\",\"2010-01-06T08:00:00\",\"2010-01-06T09:00:00\",\"2010-01-06T10:00:00\",\"2010-01-06T11:00:00\",\"2010-01-06T12:00:00\",\"2010-01-06T13:00:00\",\"2010-01-06T14:00:00\",\"2010-01-06T15:00:00\",\"2010-01-06T16:00:00\",\"2010-01-06T17:00:00\",\"2010-01-06T18:00:00\",\"2010-01-06T19:00:00\",\"2010-01-06T20:00:00\",\"2010-01-06T21:00:00\",\"2010-01-06T22:00:00\",\"2010-01-06T23:00:00\",\"2010-01-07T00:00:00\",\"2010-01-07T01:00:00\",\"2010-01-07T02:00:00\",\"2010-01-07T03:00:00\",\"2010-01-07T04:00:00\",\"2010-01-07T05:00:00\",\"2010-01-07T06:00:00\",\"2010-01-07T07:00:00\",\"2010-01-07T08:00:00\",\"2010-01-07T09:00:00\",\"2010-01-07T10:00:00\",\"2010-01-07T11:00:00\",\"2010-01-07T12:00:00\",\"2010-01-07T13:00:00\",\"2010-01-07T14:00:00\",\"2010-01-07T15:00:00\",\"2010-01-07T16:00:00\",\"2010-01-07T17:00:00\",\"2010-01-07T18:00:00\",\"2010-01-07T19:00:00\",\"2010-01-07T20:00:00\",\"2010-01-07T21:00:00\",\"2010-01-07T22:00:00\",\"2010-01-07T23:00:00\",\"2010-01-08T00:00:00\",\"2010-01-08T01:00:00\",\"2010-01-08T02:00:00\",\"2010-01-08T03:00:00\",\"2010-01-08T04:00:00\",\"2010-01-08T05:00:00\",\"2010-01-08T06:00:00\",\"2010-01-08T07:00:00\",\"2010-01-08T08:00:00\",\"2010-01-08T09:00:00\",\"2010-01-08T10:00:00\",\"2010-01-08T11:00:00\",\"2010-01-08T12:00:00\",\"2010-01-08T13:00:00\",\"2010-01-08T14:00:00\",\"2010-01-08T15:00:00\",\"2010-01-08T16:00:00\",\"2010-01-08T17:00:00\",\"2010-01-08T18:00:00\",\"2010-01-08T19:00:00\",\"2010-01-08T20:00:00\",\"2010-01-08T21:00:00\",\"2010-01-08T22:00:00\",\"2010-01-08T23:00:00\",\"2010-01-09T00:00:00\",\"2010-01-09T01:00:00\",\"2010-01-09T02:00:00\",\"2010-01-09T03:00:00\",\"2010-01-09T04:00:00\",\"2010-01-09T05:00:00\",\"2010-01-09T06:00:00\",\"2010-01-09T07:00:00\",\"2010-01-09T08:00:00\",\"2010-01-09T09:00:00\",\"2010-01-09T10:00:00\",\"2010-01-09T11:00:00\",\"2010-01-09T12:00:00\",\"2010-01-09T13:00:00\",\"2010-01-09T14:00:00\",\"2010-01-09T15:00:00\",\"2010-01-09T16:00:00\",\"2010-01-09T17:00:00\",\"2010-01-09T18:00:00\",\"2010-01-09T19:00:00\",\"2010-01-09T20:00:00\",\"2010-01-09T21:00:00\",\"2010-01-09T22:00:00\",\"2010-01-09T23:00:00\",\"2010-01-10T00:00:00\",\"2010-01-10T01:00:00\",\"2010-01-10T02:00:00\",\"2010-01-10T03:00:00\",\"2010-01-10T04:00:00\",\"2010-01-10T05:00:00\",\"2010-01-10T06:00:00\",\"2010-01-10T07:00:00\",\"2010-01-10T08:00:00\",\"2010-01-10T09:00:00\",\"2010-01-10T10:00:00\",\"2010-01-10T11:00:00\",\"2010-01-10T12:00:00\",\"2010-01-10T13:00:00\",\"2010-01-10T14:00:00\",\"2010-01-10T15:00:00\",\"2010-01-10T16:00:00\",\"2010-01-10T17:00:00\",\"2010-01-10T18:00:00\",\"2010-01-10T19:00:00\",\"2010-01-10T20:00:00\",\"2010-01-10T21:00:00\",\"2010-01-10T22:00:00\",\"2010-01-10T23:00:00\",\"2010-01-11T00:00:00\",\"2010-01-11T01:00:00\",\"2010-01-11T02:00:00\",\"2010-01-11T03:00:00\",\"2010-01-11T04:00:00\",\"2010-01-11T05:00:00\",\"2010-01-11T06:00:00\",\"2010-01-11T07:00:00\",\"2010-01-11T08:00:00\",\"2010-01-11T09:00:00\",\"2010-01-11T10:00:00\",\"2010-01-11T11:00:00\",\"2010-01-11T12:00:00\",\"2010-01-11T13:00:00\",\"2010-01-11T14:00:00\",\"2010-01-11T15:00:00\",\"2010-01-11T16:00:00\",\"2010-01-11T17:00:00\",\"2010-01-11T18:00:00\",\"2010-01-11T19:00:00\",\"2010-01-11T20:00:00\",\"2010-01-11T21:00:00\",\"2010-01-11T22:00:00\",\"2010-01-11T23:00:00\",\"2010-01-12T00:00:00\",\"2010-01-12T01:00:00\",\"2010-01-12T02:00:00\",\"2010-01-12T03:00:00\",\"2010-01-12T04:00:00\",\"2010-01-12T05:00:00\",\"2010-01-12T06:00:00\",\"2010-01-12T07:00:00\",\"2010-01-12T08:00:00\",\"2010-01-12T09:00:00\",\"2010-01-12T10:00:00\",\"2010-01-12T11:00:00\",\"2010-01-12T12:00:00\",\"2010-01-12T13:00:00\",\"2010-01-12T14:00:00\",\"2010-01-12T15:00:00\",\"2010-01-12T16:00:00\",\"2010-01-12T17:00:00\",\"2010-01-12T18:00:00\",\"2010-01-12T19:00:00\",\"2010-01-12T20:00:00\",\"2010-01-12T21:00:00\",\"2010-01-12T22:00:00\",\"2010-01-12T23:00:00\",\"2010-01-13T00:00:00\",\"2010-01-13T01:00:00\",\"2010-01-13T02:00:00\",\"2010-01-13T03:00:00\",\"2010-01-13T04:00:00\",\"2010-01-13T05:00:00\",\"2010-01-13T06:00:00\",\"2010-01-13T07:00:00\",\"2010-01-13T08:00:00\",\"2010-01-13T09:00:00\",\"2010-01-13T10:00:00\",\"2010-01-13T11:00:00\",\"2010-01-13T12:00:00\",\"2010-01-13T13:00:00\",\"2010-01-13T14:00:00\",\"2010-01-13T15:00:00\",\"2010-01-13T16:00:00\",\"2010-01-13T17:00:00\",\"2010-01-13T18:00:00\",\"2010-01-13T19:00:00\",\"2010-01-13T20:00:00\",\"2010-01-13T21:00:00\",\"2010-01-13T22:00:00\",\"2010-01-13T23:00:00\",\"2010-01-14T00:00:00\",\"2010-01-14T01:00:00\",\"2010-01-14T02:00:00\",\"2010-01-14T03:00:00\",\"2010-01-14T04:00:00\",\"2010-01-14T05:00:00\",\"2010-01-14T06:00:00\",\"2010-01-14T07:00:00\",\"2010-01-14T08:00:00\",\"2010-01-14T09:00:00\",\"2010-01-14T10:00:00\",\"2010-01-14T11:00:00\"],\"y\":[129.0,148.0,159.0,181.0,138.0,109.0,105.0,124.0,120.0,132.0,140.0,152.0,148.0,164.0,158.0,154.0,159.0,164.0,170.0,149.0,154.0,164.0,156.0,126.0,90.0,63.0,65.0,55.0,65.0,83.0,91.0,86.0,82.0,86.0,78.0,98.0,107.0,90.0,96.0,95.0,86.0,70.0,61.0,53.0,71.0,72.0,76.0,73.0,79.0,58.0,25.0,26.0,28.0,26.0,20.0,29.0,26.0,27.0,27.0,25.0,29.0,32.0,28.0,29.0,30.0,30.0,28.0,26.0,31.0,33.0,29.0,31.0,30.0,34.0,27.0,25.0,28.0,28.0,27.0,27.0,27.0,29.0,36.0,30.0,27.0,39.0,41.0,33.0,50.0,56.0,59.0,60.0,84.0,106.0,66.0,50.0,56.0,77.0,50.0,44.0,27.0,28.0,21.0,25.0,20.0,29.0,34.0,42.0,28.0,36.0,48.0,49.0,52.0,56.0,96.0,75.0,105.0,132.0,93.0,131.0,127.0,130.0,43.0,37.0,30.0,28.0,24.0,23.0,24.0,27.0,40.0,42.0,42.0,55.0,52.0,51.0,57.0,50.0,54.0,67.0,106.0,159.0,198.0,190.0,210.0,195.0,275.0,164.0,110.0,100.0,81.0,71.0,66.0,92.0,135.0,155.0,198.0,250.0,200.0,231.0,250.0,212.0,219.0,227.0,226.0,225.0,168.0,169.0,165.0,159.0,167.0,196.0,169.0,155.0,119.0,106.0,93.0,84.0,73.0,66.0,40.0,49.0,50.0,49.0,41.0,37.0,45.0,44.0,54.0,50.0,47.0,66.0,75.0,82.0,66.0,83.0,62.0,40.0,23.0,25.0,27.0,35.0,50.0,70.0,75.0,58.0,70.0,68.0,71.0,88.0,84.0,83.0,66.0,27.0,24.0,22.0,23.0,27.0,23.0,17.0,17.0,16.0,16.0,20.0,20.0,18.0,25.0,26.0,27.0,28.0,15.0,24.0,13.0,13.0,13.0,17.0,20.0,27.0,20.0,15.0,21.0,21.0,37.0,26.0,15.0,9.0,11.0,11.0,16.0,13.0,15.0,21.0,24.0,22.0,22.0,22.0,19.0,23.0,25.0,25.0,31.0,25.0,22.0,22.0,15.0,16.0,11.0,11.0,12.0,11.0,12.0,27.0,28.0,34.0,33.0,36.0,26.0,49.0,52.0,47.0,47.0,39.0,59.0,76.0,96.0,95.0,68.0,65.0,75.0,257.0,174.0,164.0,161.0,137.0,92.0,64.0,87.0,87.0,84.0,95.0],\"type\":\"scatter\"}],                        {\"title\":{\"text\":\"Actual vs. 'Out-of-Sample' Forecast | pollution\"},\"xaxis\":{\"title\":{\"text\":\"Time\"}},\"yaxis\":{\"title\":{\"text\":\"Values\"}},\"template\":{\"data\":{\"barpolar\":[{\"marker\":{\"line\":{\"color\":\"rgb(237,237,237)\",\"width\":0.5},\"pattern\":{\"fillmode\":\"overlay\",\"size\":10,\"solidity\":0.2}},\"type\":\"barpolar\"}],\"bar\":[{\"error_x\":{\"color\":\"rgb(51,51,51)\"},\"error_y\":{\"color\":\"rgb(51,51,51)\"},\"marker\":{\"line\":{\"color\":\"rgb(237,237,237)\",\"width\":0.5},\"pattern\":{\"fillmode\":\"overlay\",\"size\":10,\"solidity\":0.2}},\"type\":\"bar\"}],\"carpet\":[{\"aaxis\":{\"endlinecolor\":\"rgb(51,51,51)\",\"gridcolor\":\"white\",\"linecolor\":\"white\",\"minorgridcolor\":\"white\",\"startlinecolor\":\"rgb(51,51,51)\"},\"baxis\":{\"endlinecolor\":\"rgb(51,51,51)\",\"gridcolor\":\"white\",\"linecolor\":\"white\",\"minorgridcolor\":\"white\",\"startlinecolor\":\"rgb(51,51,51)\"},\"type\":\"carpet\"}],\"choropleth\":[{\"colorbar\":{\"outlinewidth\":0,\"tickcolor\":\"rgb(237,237,237)\",\"ticklen\":6,\"ticks\":\"inside\"},\"type\":\"choropleth\"}],\"contourcarpet\":[{\"colorbar\":{\"outlinewidth\":0,\"tickcolor\":\"rgb(237,237,237)\",\"ticklen\":6,\"ticks\":\"inside\"},\"type\":\"contourcarpet\"}],\"contour\":[{\"colorbar\":{\"outlinewidth\":0,\"tickcolor\":\"rgb(237,237,237)\",\"ticklen\":6,\"ticks\":\"inside\"},\"colorscale\":[[0,\"rgb(20,44,66)\"],[1,\"rgb(90,179,244)\"]],\"type\":\"contour\"}],\"heatmapgl\":[{\"colorbar\":{\"outlinewidth\":0,\"tickcolor\":\"rgb(237,237,237)\",\"ticklen\":6,\"ticks\":\"inside\"},\"colorscale\":[[0,\"rgb(20,44,66)\"],[1,\"rgb(90,179,244)\"]],\"type\":\"heatmapgl\"}],\"heatmap\":[{\"colorbar\":{\"outlinewidth\":0,\"tickcolor\":\"rgb(237,237,237)\",\"ticklen\":6,\"ticks\":\"inside\"},\"colorscale\":[[0,\"rgb(20,44,66)\"],[1,\"rgb(90,179,244)\"]],\"type\":\"heatmap\"}],\"histogram2dcontour\":[{\"colorbar\":{\"outlinewidth\":0,\"tickcolor\":\"rgb(237,237,237)\",\"ticklen\":6,\"ticks\":\"inside\"},\"colorscale\":[[0,\"rgb(20,44,66)\"],[1,\"rgb(90,179,244)\"]],\"type\":\"histogram2dcontour\"}],\"histogram2d\":[{\"colorbar\":{\"outlinewidth\":0,\"tickcolor\":\"rgb(237,237,237)\",\"ticklen\":6,\"ticks\":\"inside\"},\"colorscale\":[[0,\"rgb(20,44,66)\"],[1,\"rgb(90,179,244)\"]],\"type\":\"histogram2d\"}],\"histogram\":[{\"marker\":{\"pattern\":{\"fillmode\":\"overlay\",\"size\":10,\"solidity\":0.2}},\"type\":\"histogram\"}],\"mesh3d\":[{\"colorbar\":{\"outlinewidth\":0,\"tickcolor\":\"rgb(237,237,237)\",\"ticklen\":6,\"ticks\":\"inside\"},\"type\":\"mesh3d\"}],\"parcoords\":[{\"line\":{\"colorbar\":{\"outlinewidth\":0,\"tickcolor\":\"rgb(237,237,237)\",\"ticklen\":6,\"ticks\":\"inside\"}},\"type\":\"parcoords\"}],\"pie\":[{\"automargin\":true,\"type\":\"pie\"}],\"scatter3d\":[{\"line\":{\"colorbar\":{\"outlinewidth\":0,\"tickcolor\":\"rgb(237,237,237)\",\"ticklen\":6,\"ticks\":\"inside\"}},\"marker\":{\"colorbar\":{\"outlinewidth\":0,\"tickcolor\":\"rgb(237,237,237)\",\"ticklen\":6,\"ticks\":\"inside\"}},\"type\":\"scatter3d\"}],\"scattercarpet\":[{\"marker\":{\"colorbar\":{\"outlinewidth\":0,\"tickcolor\":\"rgb(237,237,237)\",\"ticklen\":6,\"ticks\":\"inside\"}},\"type\":\"scattercarpet\"}],\"scattergeo\":[{\"marker\":{\"colorbar\":{\"outlinewidth\":0,\"tickcolor\":\"rgb(237,237,237)\",\"ticklen\":6,\"ticks\":\"inside\"}},\"type\":\"scattergeo\"}],\"scattergl\":[{\"marker\":{\"colorbar\":{\"outlinewidth\":0,\"tickcolor\":\"rgb(237,237,237)\",\"ticklen\":6,\"ticks\":\"inside\"}},\"type\":\"scattergl\"}],\"scattermapbox\":[{\"marker\":{\"colorbar\":{\"outlinewidth\":0,\"tickcolor\":\"rgb(237,237,237)\",\"ticklen\":6,\"ticks\":\"inside\"}},\"type\":\"scattermapbox\"}],\"scatterpolargl\":[{\"marker\":{\"colorbar\":{\"outlinewidth\":0,\"tickcolor\":\"rgb(237,237,237)\",\"ticklen\":6,\"ticks\":\"inside\"}},\"type\":\"scatterpolargl\"}],\"scatterpolar\":[{\"marker\":{\"colorbar\":{\"outlinewidth\":0,\"tickcolor\":\"rgb(237,237,237)\",\"ticklen\":6,\"ticks\":\"inside\"}},\"type\":\"scatterpolar\"}],\"scatter\":[{\"fillpattern\":{\"fillmode\":\"overlay\",\"size\":10,\"solidity\":0.2},\"type\":\"scatter\"}],\"scatterternary\":[{\"marker\":{\"colorbar\":{\"outlinewidth\":0,\"tickcolor\":\"rgb(237,237,237)\",\"ticklen\":6,\"ticks\":\"inside\"}},\"type\":\"scatterternary\"}],\"surface\":[{\"colorbar\":{\"outlinewidth\":0,\"tickcolor\":\"rgb(237,237,237)\",\"ticklen\":6,\"ticks\":\"inside\"},\"colorscale\":[[0,\"rgb(20,44,66)\"],[1,\"rgb(90,179,244)\"]],\"type\":\"surface\"}],\"table\":[{\"cells\":{\"fill\":{\"color\":\"rgb(237,237,237)\"},\"line\":{\"color\":\"white\"}},\"header\":{\"fill\":{\"color\":\"rgb(217,217,217)\"},\"line\":{\"color\":\"white\"}},\"type\":\"table\"}]},\"layout\":{\"annotationdefaults\":{\"arrowhead\":0,\"arrowwidth\":1},\"autotypenumbers\":\"strict\",\"coloraxis\":{\"colorbar\":{\"outlinewidth\":0,\"tickcolor\":\"rgb(237,237,237)\",\"ticklen\":6,\"ticks\":\"inside\"}},\"colorscale\":{\"sequential\":[[0,\"rgb(20,44,66)\"],[1,\"rgb(90,179,244)\"]],\"sequentialminus\":[[0,\"rgb(20,44,66)\"],[1,\"rgb(90,179,244)\"]]},\"colorway\":[\"#F8766D\",\"#A3A500\",\"#00BF7D\",\"#00B0F6\",\"#E76BF3\"],\"font\":{\"color\":\"rgb(51,51,51)\"},\"geo\":{\"bgcolor\":\"white\",\"lakecolor\":\"white\",\"landcolor\":\"rgb(237,237,237)\",\"showlakes\":true,\"showland\":true,\"subunitcolor\":\"white\"},\"hoverlabel\":{\"align\":\"left\"},\"hovermode\":\"closest\",\"paper_bgcolor\":\"white\",\"plot_bgcolor\":\"rgb(237,237,237)\",\"polar\":{\"angularaxis\":{\"gridcolor\":\"white\",\"linecolor\":\"white\",\"showgrid\":true,\"tickcolor\":\"rgb(51,51,51)\",\"ticks\":\"outside\"},\"bgcolor\":\"rgb(237,237,237)\",\"radialaxis\":{\"gridcolor\":\"white\",\"linecolor\":\"white\",\"showgrid\":true,\"tickcolor\":\"rgb(51,51,51)\",\"ticks\":\"outside\"}},\"scene\":{\"xaxis\":{\"backgroundcolor\":\"rgb(237,237,237)\",\"gridcolor\":\"white\",\"gridwidth\":2,\"linecolor\":\"white\",\"showbackground\":true,\"showgrid\":true,\"tickcolor\":\"rgb(51,51,51)\",\"ticks\":\"outside\",\"zerolinecolor\":\"white\"},\"yaxis\":{\"backgroundcolor\":\"rgb(237,237,237)\",\"gridcolor\":\"white\",\"gridwidth\":2,\"linecolor\":\"white\",\"showbackground\":true,\"showgrid\":true,\"tickcolor\":\"rgb(51,51,51)\",\"ticks\":\"outside\",\"zerolinecolor\":\"white\"},\"zaxis\":{\"backgroundcolor\":\"rgb(237,237,237)\",\"gridcolor\":\"white\",\"gridwidth\":2,\"linecolor\":\"white\",\"showbackground\":true,\"showgrid\":true,\"tickcolor\":\"rgb(51,51,51)\",\"ticks\":\"outside\",\"zerolinecolor\":\"white\"}},\"shapedefaults\":{\"fillcolor\":\"black\",\"line\":{\"width\":0},\"opacity\":0.3},\"ternary\":{\"aaxis\":{\"gridcolor\":\"white\",\"linecolor\":\"white\",\"showgrid\":true,\"tickcolor\":\"rgb(51,51,51)\",\"ticks\":\"outside\"},\"baxis\":{\"gridcolor\":\"white\",\"linecolor\":\"white\",\"showgrid\":true,\"tickcolor\":\"rgb(51,51,51)\",\"ticks\":\"outside\"},\"bgcolor\":\"rgb(237,237,237)\",\"caxis\":{\"gridcolor\":\"white\",\"linecolor\":\"white\",\"showgrid\":true,\"tickcolor\":\"rgb(51,51,51)\",\"ticks\":\"outside\"}},\"xaxis\":{\"automargin\":true,\"gridcolor\":\"white\",\"linecolor\":\"white\",\"showgrid\":true,\"tickcolor\":\"rgb(51,51,51)\",\"ticks\":\"outside\",\"title\":{\"standoff\":15},\"zerolinecolor\":\"white\"},\"yaxis\":{\"automargin\":true,\"gridcolor\":\"white\",\"linecolor\":\"white\",\"showgrid\":true,\"tickcolor\":\"rgb(51,51,51)\",\"ticks\":\"outside\",\"title\":{\"standoff\":15},\"zerolinecolor\":\"white\"}}},\"showlegend\":true},                        {\"responsive\": true}                    ).then(function(){\n",
              "                            \n",
              "var gd = document.getElementById('262c4f1f-d789-487f-b92f-ed5c4ca31488');\n",
              "var x = new MutationObserver(function (mutations, observer) {{\n",
              "        var display = window.getComputedStyle(gd).display;\n",
              "        if (!display || display === 'none') {{\n",
              "            console.log([gd, 'removed!']);\n",
              "            Plotly.purge(gd);\n",
              "            observer.disconnect();\n",
              "        }}\n",
              "}});\n",
              "\n",
              "// Listen for the removal of the full notebook cells\n",
              "var notebookContainer = gd.closest('#notebook-container');\n",
              "if (notebookContainer) {{\n",
              "    x.observe(notebookContainer, {childList: true});\n",
              "}}\n",
              "\n",
              "// Listen for the clearing of the current output cell\n",
              "var outputEl = gd.closest('.output');\n",
              "if (outputEl) {{\n",
              "    x.observe(outputEl, {childList: true});\n",
              "}}\n",
              "\n",
              "                        })                };                            </script>        </div>\n",
              "</body>\n",
              "</html>"
            ]
          },
          "metadata": {}
        },
        {
          "output_type": "stream",
          "name": "stdout",
          "text": [
            "Plotted the model estimates\n"
          ]
        }
      ]
    },
    {
      "cell_type": "code",
      "source": [
        "\"\"\"Function to test the model\"\"\"\n",
        "def testModel(finalModel):\n",
        "  test = s.predict_model(finalModel)\n",
        "  print(test.head())\n",
        "testModel(finalModel)#Call the function"
      ],
      "metadata": {
        "colab": {
          "base_uri": "https://localhost:8080/",
          "height": 185
        },
        "id": "OrpYj6Jj2EEu",
        "outputId": "26f022b4-abe1-4ea7-fae1-d912d1b57676"
      },
      "execution_count": null,
      "outputs": [
        {
          "output_type": "display_data",
          "data": {
            "text/plain": [
              "<pandas.io.formats.style.Styler at 0x7e4532f2a0b0>"
            ],
            "text/html": [
              "<style type=\"text/css\">\n",
              "</style>\n",
              "<table id=\"T_1fbb2\" class=\"dataframe\">\n",
              "  <thead>\n",
              "    <tr>\n",
              "      <th class=\"blank level0\" >&nbsp;</th>\n",
              "      <th id=\"T_1fbb2_level0_col0\" class=\"col_heading level0 col0\" >Model</th>\n",
              "      <th id=\"T_1fbb2_level0_col1\" class=\"col_heading level0 col1\" >MASE</th>\n",
              "      <th id=\"T_1fbb2_level0_col2\" class=\"col_heading level0 col2\" >RMSSE</th>\n",
              "      <th id=\"T_1fbb2_level0_col3\" class=\"col_heading level0 col3\" >MAE</th>\n",
              "      <th id=\"T_1fbb2_level0_col4\" class=\"col_heading level0 col4\" >RMSE</th>\n",
              "      <th id=\"T_1fbb2_level0_col5\" class=\"col_heading level0 col5\" >MAPE</th>\n",
              "      <th id=\"T_1fbb2_level0_col6\" class=\"col_heading level0 col6\" >SMAPE</th>\n",
              "      <th id=\"T_1fbb2_level0_col7\" class=\"col_heading level0 col7\" >R2</th>\n",
              "    </tr>\n",
              "  </thead>\n",
              "  <tbody>\n",
              "    <tr>\n",
              "      <th id=\"T_1fbb2_level0_row0\" class=\"row_heading level0 row0\" >0</th>\n",
              "      <td id=\"T_1fbb2_row0_col0\" class=\"data row0 col0\" >ARIMA</td>\n",
              "      <td id=\"T_1fbb2_row0_col1\" class=\"data row0 col1\" >2.0477</td>\n",
              "      <td id=\"T_1fbb2_row0_col2\" class=\"data row0 col2\" >2.1030</td>\n",
              "      <td id=\"T_1fbb2_row0_col3\" class=\"data row0 col3\" >24.2767</td>\n",
              "      <td id=\"T_1fbb2_row0_col4\" class=\"data row0 col4\" >39.9459</td>\n",
              "      <td id=\"T_1fbb2_row0_col5\" class=\"data row0 col5\" >0.6945</td>\n",
              "      <td id=\"T_1fbb2_row0_col6\" class=\"data row0 col6\" >0.4446</td>\n",
              "      <td id=\"T_1fbb2_row0_col7\" class=\"data row0 col7\" >0.3698</td>\n",
              "    </tr>\n",
              "  </tbody>\n",
              "</table>\n"
            ]
          },
          "metadata": {}
        },
        {
          "output_type": "stream",
          "name": "stdout",
          "text": [
            "                   y_pred\n",
            "2010-01-12 10:00  15.0391\n",
            "2010-01-12 11:00  18.8465\n",
            "2010-01-12 12:00  22.4037\n",
            "2010-01-12 13:00  25.8031\n",
            "2010-01-12 14:00  26.9935\n"
          ]
        }
      ]
    },
    {
      "cell_type": "code",
      "source": [
        "s.save_model(finalModel, 'final_pipeline') #Save the model"
      ],
      "metadata": {
        "colab": {
          "base_uri": "https://localhost:8080/"
        },
        "id": "gL2Gfx7-2Jfg",
        "outputId": "452b6e99-be4c-4c2a-bdc9-c18ebf6adcf7"
      },
      "execution_count": null,
      "outputs": [
        {
          "output_type": "stream",
          "name": "stdout",
          "text": [
            "Transformation Pipeline and Model Successfully Saved\n"
          ]
        },
        {
          "output_type": "execute_result",
          "data": {
            "text/plain": [
              "(ForecastingPipeline(steps=[('forecaster',\n",
              "                             TransformedTargetForecaster(steps=[('model',\n",
              "                                                                 ARIMA())]))]),\n",
              " 'final_pipeline.pkl')"
            ]
          },
          "metadata": {},
          "execution_count": 151
        }
      ]
    }
  ]
}